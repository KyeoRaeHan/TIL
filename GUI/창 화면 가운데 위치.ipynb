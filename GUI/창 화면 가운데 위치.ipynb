{
 "cells": [
  {
   "cell_type": "code",
   "execution_count": null,
   "metadata": {},
   "outputs": [],
   "source": [
    "import sys\n",
    "from PyQt5.QtWidgets import QApplication, QWidget, QDesktopWidget\n",
    "\n",
    "\n",
    "class MyApp(QWidget):\n",
    "\n",
    "    def __init__(self):\n",
    "        super().__init__()\n",
    "        self.initUI()\n",
    "\n",
    "    def initUI(self):\n",
    "        self.setWindowTitle('Centering')\n",
    "        self.resize(500, 350)\n",
    "        self.center() #창이 화면 가운데 위치\n",
    "        self.show()\n",
    "\n",
    "    def center(self):\n",
    "        qr = self.frameGeometry() #창의 위치와 크기 정보를 가져온다\n",
    "        cp = QDesktopWidget().availableGeo #사용하는 모니터 화면의 가운데 위치를 파악\n",
    "        qr.moveCenter(cp) #창의 직사각형 위치를 화면의 중심 위치로 이동\n",
    "        self.move(qr.topLeft()) #현재 창을 화면의 중심으로 이동했던 직사각형의 위치로 이동\n",
    "\n",
    "\n",
    "if __name__ == '__main__':\n",
    "    app = QApplication(sys.argv)\n",
    "    ex = MyApp()\n",
    "    sys.exit(app.exec_())"
   ]
  }
 ],
 "metadata": {
  "kernelspec": {
   "display_name": "Python 3",
   "language": "python",
   "name": "python3"
  },
  "language_info": {
   "codemirror_mode": {
    "name": "ipython",
    "version": 3
   },
   "file_extension": ".py",
   "mimetype": "text/x-python",
   "name": "python",
   "nbconvert_exporter": "python",
   "pygments_lexer": "ipython3",
   "version": "3.7.3"
  }
 },
 "nbformat": 4,
 "nbformat_minor": 4
}
