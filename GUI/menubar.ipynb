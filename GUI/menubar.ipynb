{
 "cells": [
  {
   "cell_type": "code",
   "execution_count": null,
   "metadata": {},
   "outputs": [],
   "source": [
    "import sys\n",
    "from PyQt5.QtWidgets import QApplication, QMainWindow, QAction, qApp\n",
    "from PyQt5.QtGui import QIcon\n",
    "\n",
    "\n",
    "class MyApp(QMainWindow):\n",
    "\n",
    "    def __init__(self):\n",
    "        super().__init__()\n",
    "        self.initUI()\n",
    "\n",
    "    def initUI(self):\n",
    "        exitAction = QAction(QIcon('exit.png'), 'Exit', self)\n",
    "        exitAction.setShortcut('Ctrl+Q')\n",
    "        exitAction.setStatusTip('Exit application')\n",
    "        exitAction.triggered.connect(qApp.quit)\n",
    "\n",
    "        self.statusBar()\n",
    "\n",
    "        menubar = self.menuBar()\n",
    "        menubar.setNativeMenuBar(False)\n",
    "        filemenu = menubar.addMenu('&File')\n",
    "        filemenu.addAction(exitAction)\n",
    "\n",
    "        self.setWindowTitle('Menubar')\n",
    "        self.setGeometry(300, 300, 300, 200)\n",
    "        self.show()\n",
    "\n",
    "\n",
    "if __name__ == '__main__':\n",
    "    app = QApplication(sys.argv)\n",
    "    ex = MyApp()\n",
    "    sys.exit(app.exec_())"
   ]
  },
  {
   "cell_type": "code",
   "execution_count": null,
   "metadata": {},
   "outputs": [],
   "source": []
  }
 ],
 "metadata": {
  "kernelspec": {
   "display_name": "Python 3",
   "language": "python",
   "name": "python3"
  },
  "language_info": {
   "codemirror_mode": {
    "name": "ipython",
    "version": 3
   },
   "file_extension": ".py",
   "mimetype": "text/x-python",
   "name": "python",
   "nbconvert_exporter": "python",
   "pygments_lexer": "ipython3",
   "version": "3.7.3"
  }
 },
 "nbformat": 4,
 "nbformat_minor": 4
}
