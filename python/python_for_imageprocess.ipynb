{
 "cells": [
  {
   "cell_type": "code",
   "execution_count": null,
   "metadata": {},
   "outputs": [],
   "source": [
    "# 파이썬에서 이미지 처리"
   ]
  },
  {
   "cell_type": "code",
   "execution_count": null,
   "metadata": {},
   "outputs": [],
   "source": [
    "# 파이썬에서는 이미지를 처리하고 핸들링하기 위해서 \n",
    "# pillow, OPenCV, PIL 등의 외부 패키지를 설치해서 사용한다."
   ]
  },
  {
   "cell_type": "code",
   "execution_count": 2,
   "metadata": {},
   "outputs": [
    {
     "name": "stdout",
     "output_type": "stream",
     "text": [
      "(638, 451)\n"
     ]
    }
   ],
   "source": [
    "from PIL import Image\n",
    " \n",
    "# 이미지 열기\n",
    "im = Image.open('C:\\\\Users\\\\user\\\\AI_vision\\\\data\\\\img\\\\aircraft.jpg')\n",
    " \n",
    "# 이미지 크기 출력\n",
    "print(im.size)\n",
    " \n",
    "# 이미지 png로 저장\n",
    "im.save('aircraft.png')"
   ]
  },
  {
   "cell_type": "code",
   "execution_count": null,
   "metadata": {},
   "outputs": [],
   "source": [
    "from PIL import Image\n",
    " \n",
    "im = Image.open('python.png')\n",
    " \n",
    "# Thumbnail 이미지 생성\n",
    "size = (64, 64)\n",
    "im.thumbnail(size)  \n",
    " \n",
    "im.save('python-thumb.jpg')"
   ]
  }
 ],
 "metadata": {
  "kernelspec": {
   "display_name": "Python 3",
   "language": "python",
   "name": "python3"
  },
  "language_info": {
   "codemirror_mode": {
    "name": "ipython",
    "version": 3
   },
   "file_extension": ".py",
   "mimetype": "text/x-python",
   "name": "python",
   "nbconvert_exporter": "python",
   "pygments_lexer": "ipython3",
   "version": "3.7.3"
  }
 },
 "nbformat": 4,
 "nbformat_minor": 4
}
