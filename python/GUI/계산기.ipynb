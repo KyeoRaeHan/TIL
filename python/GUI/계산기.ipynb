{
 "cells": [
  {
   "cell_type": "code",
   "execution_count": null,
   "metadata": {},
   "outputs": [],
   "source": [
    "# 간단한 계산기 만들기"
   ]
  },
  {
   "cell_type": "code",
   "execution_count": 8,
   "metadata": {},
   "outputs": [],
   "source": [
    "import tkinter"
   ]
  },
  {
   "cell_type": "code",
   "execution_count": null,
   "metadata": {},
   "outputs": [],
   "source": [
    "# 빈화면 생성"
   ]
  },
  {
   "cell_type": "code",
   "execution_count": 9,
   "metadata": {},
   "outputs": [],
   "source": [
    "import tkinter as tk\n",
    " \n",
    "calc = tk.Tk()\n",
    "calc.mainloop()"
   ]
  },
  {
   "cell_type": "code",
   "execution_count": null,
   "metadata": {},
   "outputs": [],
   "source": [
    "# mainloop()는 이벤트 메시지 루프로서 키보드나 마우스 혹은 화면 Redraw와 같은 \n",
    "# 다양한 이벤트로부터 오는 메시지를 받고 전달하는 역할을 한다."
   ]
  },
  {
   "cell_type": "code",
   "execution_count": null,
   "metadata": {},
   "outputs": [],
   "source": [
    "# 이름,크기 설정"
   ]
  },
  {
   "cell_type": "code",
   "execution_count": 10,
   "metadata": {},
   "outputs": [],
   "source": [
    "import tkinter as tk\n",
    " \n",
    "calc = tk.Tk()\n",
    "calc.title(\"Calculator\")\n",
    "calc.geometry(\"300x300\")\n",
    " \n",
    "calc.mainloop()"
   ]
  },
  {
   "cell_type": "code",
   "execution_count": 17,
   "metadata": {},
   "outputs": [],
   "source": [
    "from tkinter import * #tkinter에서 모든 함수를 가져온다\n",
    "from tkinter import ttk #ttk는 tkinter의 확장모듈\n",
    " \n",
    "#함수 추가할 부분 \n",
    "def button_pressed(value):\n",
    "    number_entry.insert(\"end\",value) #텍스트 창으로 숫자 전송.'end'는 오른쪽끝에 추가하라는 의미.\n",
    "    print(value,\"pressed\")\n",
    " \n",
    "root = Tk() #객체생성\n",
    "root.title(\"Calculator\") #window표시줄 \n",
    "root.geometry(\"500x500\") #window창 크기\n",
    "\n",
    "entry_value = StringVar(root, value='')\n",
    " \n",
    "#숫자 및 결과 표시창.\n",
    "number_entry = ttk.Entry(root, width=200)\n",
    "number_entry.grid(row=0, columnspan=1)\n",
    " \n",
    "#숫자 버튼.\n",
    "button1 = ttk.Button(root, text=\"1\", command=lambda:button_pressed('1'))\n",
    "button2 = ttk.Button(root, text=\"2\")\n",
    "button1.grid(row=1, column=0) #윈도우창에 표시할 위젯 배치 \n",
    "button2.grid(row=2, column=0)\n",
    "\n",
    "root.mainloop()"
   ]
  },
  {
   "cell_type": "code",
   "execution_count": null,
   "metadata": {},
   "outputs": [],
   "source": []
  },
  {
   "cell_type": "code",
   "execution_count": null,
   "metadata": {},
   "outputs": [],
   "source": []
  },
  {
   "cell_type": "code",
   "execution_count": null,
   "metadata": {},
   "outputs": [],
   "source": []
  },
  {
   "cell_type": "code",
   "execution_count": null,
   "metadata": {},
   "outputs": [],
   "source": []
  },
  {
   "cell_type": "code",
   "execution_count": null,
   "metadata": {},
   "outputs": [],
   "source": []
  },
  {
   "cell_type": "code",
   "execution_count": null,
   "metadata": {},
   "outputs": [],
   "source": []
  },
  {
   "cell_type": "code",
   "execution_count": null,
   "metadata": {},
   "outputs": [],
   "source": [
    "#TKinter"
   ]
  },
  {
   "cell_type": "code",
   "execution_count": null,
   "metadata": {},
   "outputs": [],
   "source": [
    "#위젯들이 부족하고 UI도 예쁘지 않다는 단점이 있지만,\n",
    "#Python 설치시 기본적으로 내장되어 있는 파이썬 표준 라이브러리이기 때문에 \n",
    "#쉽고 간단한 GUI 프로그램을 만들 때 활용될 수 있다."
   ]
  },
  {
   "cell_type": "code",
   "execution_count": null,
   "metadata": {},
   "outputs": [],
   "source": []
  },
  {
   "cell_type": "code",
   "execution_count": null,
   "metadata": {},
   "outputs": [],
   "source": [
    "# 계산기 만들기 - 파이썬 tkinter 모듈"
   ]
  },
  {
   "cell_type": "code",
   "execution_count": 7,
   "metadata": {},
   "outputs": [
    {
     "data": {
      "text/plain": [
       "''"
      ]
     },
     "execution_count": 7,
     "metadata": {},
     "output_type": "execute_result"
    }
   ],
   "source": [
    "from tkinter import *\n",
    "from tkinter import ttk\n",
    " \n",
    "#함수 추가할 부분 \n",
    " \n",
    "root = Tk()\n",
    "root.title(\"Calculator\")\n",
    "root.geometry(\"200x200\")\n",
    "\n",
    "#인터페이스(버튼,창) 추가할 부분.\n",
    "  "
   ]
  },
  {
   "cell_type": "code",
   "execution_count": null,
   "metadata": {},
   "outputs": [],
   "source": [
    "#숫자 및 결과 표시창.\n",
    "number_entry = ttk.Entry(root, width=20)\n",
    "number_entry.grid(row=0, columnspan=1)\n",
    " \n",
    "#숫자 버튼.\n",
    "button1 = ttk.Button(root, text=\"1\")\n",
    "button1.grid(row=1, column=0)\n",
    "\n",
    "#인터페이스(버튼,창) 추가할 부분.\n",
    "root.mainloop()"
   ]
  },
  {
   "cell_type": "code",
   "execution_count": 2,
   "metadata": {},
   "outputs": [],
   "source": [
    "from tkinter import *\n",
    "from tkinter import ttk\n",
    " \n",
    " \n",
    "root = Tk()\n",
    "root.title(\"Calculator\")\n",
    "root.geometry(\"100x100\")\n",
    " \n",
    "#숫자 및 결과 표시창.\n",
    "number_entry = ttk.Entry(root, width=20)\n",
    "number_entry.grid(row=0, columnspan=1)\n",
    " \n",
    "#숫자 버튼.\n",
    "button1 = ttk.Button(root, text=\"1\")\n",
    "button1.grid(row=1, column=0)\n",
    " \n",
    "root.mainloop()"
   ]
  },
  {
   "cell_type": "code",
   "execution_count": 4,
   "metadata": {},
   "outputs": [],
   "source": [
    "from tkinter import *\n",
    "from tkinter import ttk\n",
    " \n",
    " \n",
    "root = Tk()\n",
    "root.title(\"Calculator\")\n",
    "root.geometry(\"100x100\")\n",
    " \n",
    "number_entry = ttk.Entry(root, width=20)\n",
    "number_entry.grid(row=0, columnspan=1)\n",
    " \n",
    "# command=lambda: 뒤에 명령 작성.\n",
    "button1 = ttk.Button(root, text=\"1\", command=lambda:print(\"button 1\"))\n",
    "button1.grid(row=1, column=0)\n",
    " \n",
    "root.mainloop()"
   ]
  },
  {
   "cell_type": "code",
   "execution_count": 5,
   "metadata": {},
   "outputs": [
    {
     "name": "stdout",
     "output_type": "stream",
     "text": [
      "1 pressed\n",
      "1 pressed\n"
     ]
    }
   ],
   "source": [
    "from tkinter import *\n",
    "from tkinter import ttk\n",
    " \n",
    "#함수 추가.\n",
    "def button_pressed(value):\n",
    "    print(value,\"pressed\")\n",
    "     \n",
    "root = Tk()\n",
    "root.title(\"Calculator\")\n",
    "root.geometry(\"100x100\")\n",
    " \n",
    "number_entry = ttk.Entry(root, width=20)\n",
    "number_entry.grid(row=0, columnspan=1)\n",
    " \n",
    "# command에 함수 연결. 전달값은 버튼의 숫자 '1'\n",
    "button1 = ttk.Button(root, text=\"1\", command=lambda:button_pressed('1'))\n",
    "button1.grid(row=1, column=0)\n",
    " \n",
    "root.mainloop()"
   ]
  },
  {
   "cell_type": "code",
   "execution_count": 6,
   "metadata": {},
   "outputs": [
    {
     "name": "stdout",
     "output_type": "stream",
     "text": [
      "1 pressed\n"
     ]
    }
   ],
   "source": [
    "from tkinter import *\n",
    "from tkinter import ttk\n",
    " \n",
    "def button_pressed(value):\n",
    "    number_entry.insert(\"end\",value)  #텍스트 창으로 숫자 전송.'end'는 오른쪽끝에 추가하라는 의미.\n",
    "    print(value,\"pressed\")\n",
    "     \n",
    "root = Tk()\n",
    "root.title(\"Calculator\")\n",
    "root.geometry(\"100x100\")\n",
    " \n",
    "#텍스트창의 값 저장할 변수.\n",
    "entry_value = StringVar(root, value='')\n",
    " \n",
    "#textvariable 속성으로 변수 설정.\n",
    "number_entry = ttk.Entry(root, textvariable = entry_value, width=10)\n",
    "number_entry.grid(row=0, columnspan=1)\n",
    " \n",
    "button1 = ttk.Button(root, text=\"1\", command = lambda:button_pressed('1'))\n",
    "button1.grid(row=1, column=0)\n",
    " \n",
    "root.mainloop()"
   ]
  },
  {
   "cell_type": "code",
   "execution_count": null,
   "metadata": {},
   "outputs": [],
   "source": []
  }
 ],
 "metadata": {
  "kernelspec": {
   "display_name": "Python 3",
   "language": "python",
   "name": "python3"
  },
  "language_info": {
   "codemirror_mode": {
    "name": "ipython",
    "version": 3
   },
   "file_extension": ".py",
   "mimetype": "text/x-python",
   "name": "python",
   "nbconvert_exporter": "python",
   "pygments_lexer": "ipython3",
   "version": "3.7.3"
  }
 },
 "nbformat": 4,
 "nbformat_minor": 4
}
