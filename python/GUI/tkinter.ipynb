{
 "cells": [
  {
   "cell_type": "code",
   "execution_count": null,
   "metadata": {},
   "outputs": [],
   "source": [
    "# TKinter\n",
    "# 위젯들이 부족하고 UI도 그렇게 예쁘지 않다는 단점이 있지만,\n",
    "# Python 설치시 기본적으로 내장되어 있는 파이썬 표준 라이브러리이기 때문에 \n",
    "# 쉽고 간단한 GUI 프로그램을 만들 때 활용될 수 있다."
   ]
  },
  {
   "cell_type": "code",
   "execution_count": null,
   "metadata": {},
   "outputs": [],
   "source": [
    "# 2. Tkinter의 기본 문장"
   ]
  },
  {
   "cell_type": "code",
   "execution_count": null,
   "metadata": {},
   "outputs": [],
   "source": [
    "from tkinter import *\n",
    "root = Tk()\n",
    "root.mainloop()"
   ]
  },
  {
   "cell_type": "code",
   "execution_count": null,
   "metadata": {},
   "outputs": [],
   "source": [
    "# mainloop()는 이벤트 메시지 루프로서 키보드나 \n",
    "# 마우스 혹은 화면 Redraw와 같은 다양한 이벤트로부터 오는 메시지를 받고 전달하는 역할을 한다."
   ]
  },
  {
   "cell_type": "code",
   "execution_count": null,
   "metadata": {},
   "outputs": [],
   "source": [
    "# 3. 간단한 다이얼로그"
   ]
  },
  {
   "cell_type": "code",
   "execution_count": 1,
   "metadata": {},
   "outputs": [],
   "source": [
    "from tkinter import *\n",
    "root = Tk()\n",
    " \n",
    "lbl = Label(root, text=\"이름\") #'이름' 레이블 생성\n",
    "lbl.pack()\n",
    " \n",
    "txt = Entry(root) #텍스트 박스 하나\n",
    "txt.pack()\n",
    " \n",
    "btn = Button(root, text=\"OK\") #OK버튼 위젯\n",
    "btn.pack()\n",
    " \n",
    "root.mainloop()"
   ]
  },
  {
   "cell_type": "code",
   "execution_count": null,
   "metadata": {},
   "outputs": [],
   "source": [
    "# 4. Geometry Manager"
   ]
  },
  {
   "cell_type": "code",
   "execution_count": null,
   "metadata": {},
   "outputs": [],
   "source": [
    "# Tkinter에서 위젯들을 화면에 배치하는 방식에는 다음과 같은 3가지 방식이 있다.\n",
    "# Place (혹은 absolute) 위젯을 위치를 절대 좌표로 정하는 것으로, 윈도우 크기 변경에 따라 위젯들이 변경되지 않으므로 많이 사용되지 않는다. \n",
    "# 이 방식은 위젯.place() 메서드를 사용한다.\n",
    "# Pack 위젯들을 부모 위젯에 모두 패킹하여 불필요한 공간을 없앤다. 위젯.pack() 메서드를 사용한다.\n",
    "# Grid 위젯들을 테이블 레이아웃에 배치하는 것으로 지정된 row, column에 위젯을 놓는다. 위젯.grid() 메서드를 사용한다."
   ]
  },
  {
   "cell_type": "code",
   "execution_count": 11,
   "metadata": {},
   "outputs": [],
   "source": [
    "from tkinter import *\n",
    "root = Tk()\n",
    " \n",
    "lbl = Label(root, text=\"이름\")\n",
    "lbl.grid(row=1, column=1) #위젯의 위치 지정\n",
    "txt = Entry(root)\n",
    "txt.grid(row=0, column=1)\n",
    "btn = Button(root, text=\"OK\", width=15)\n",
    "btn.grid(row=1, column=1)\n",
    " \n",
    "root.mainloop()"
   ]
  },
  {
   "cell_type": "code",
   "execution_count": null,
   "metadata": {},
   "outputs": [],
   "source": [
    "# 1. Tkinter 위젯"
   ]
  },
  {
   "cell_type": "code",
   "execution_count": null,
   "metadata": {},
   "outputs": [],
   "source": [
    "# 컴퓨터 프로그래밍에서 위젯(widget) 또는 컨트롤(control)은 컴퓨터 사용자가 상호 작용하는 인터페이스 요소이다. "
   ]
  },
  {
   "cell_type": "code",
   "execution_count": null,
   "metadata": {},
   "outputs": [],
   "source": [
    "# Tkinter는 제한된(Limited) 핵심 위젯들만을 제공하고 있다. 아래는 Tkinter가 제공하는 주요 위젯들이다."
   ]
  },
  {
   "cell_type": "code",
   "execution_count": null,
   "metadata": {},
   "outputs": [],
   "source": [
    "# 위젯 설명\n",
    "# Button단순한 버튼\n",
    "# Label\t텍스트 혹은 이미지 표시\n",
    "# CheckButton 체크박스\n",
    "# Entry\t단순한 한 라인 텍스트 박스\n",
    "# ListBox 리스트 박스\n",
    "# RadioButton 옵션 버튼\n",
    "# Message Label과 비슷하게 텍스트 표시. Label과 달리 자동 래핑 기능이 있다.\n",
    "# Scale\t슬라이스 바\n",
    "# Scrollbar\t스크롤 바\n",
    "# Text 멀티 라인 텍스트 박스로서 일부 Rich Text 기능 제공\n",
    "# Menu 메뉴 Pane\n",
    "# Menubutton 메뉴 버튼\n",
    "# Toplevel 새 윈도우를 생성할 때 사용. Tk()는 윈도우를 자동으로 생성하지만 추가로 새 윈도우 혹은 다이얼로그를 만들 경우 Toplevel를 사용한다\n",
    "# Frame\t컨테이너 위젯. 다른 위젯들을 그룹화할 때 사용\n",
    "# Canvas 그래프와 점들로 그림을 그릴 수 있으며, 커스텀 위젯을 만드는데 사용될 수도 있다"
   ]
  },
  {
   "cell_type": "code",
   "execution_count": null,
   "metadata": {},
   "outputs": [],
   "source": [
    "# 2. 위젯 사용"
   ]
  },
  {
   "cell_type": "code",
   "execution_count": null,
   "metadata": {},
   "outputs": [],
   "source": [
    "# 위젯은 '객체'를 생성하여 필요한 속성들을 지정하여 사용한다. \n",
    "# 위젯은 부모 컨테이너와 연관하여 어떤 상대적 위치에 놓이게 되는데, \n",
    "# 앞에 설명한 Geometry Manager를 사용하여 각 위젯의 위치를 정하게 된다."
   ]
  },
  {
   "cell_type": "code",
   "execution_count": 1,
   "metadata": {},
   "outputs": [],
   "source": [
    "from tkinter import *\n",
    " \n",
    "class MyFrame(Frame): #myframe 클래스 생성\n",
    "    def __init__(self, master):\n",
    "        img = PhotoImage(file='C:\\\\Users\\\\user\\\\Desktop\\\\AI_imagecourse\\\\프로젝트 디자인\\\\문빈.gif') #photoimage는 gif파일만 읽을 수 있다.\n",
    "        lbl = Label(image=img)\n",
    "        lbl.image = img  # 레퍼런스 추가\n",
    "        lbl.place(x=0, y=0) #좌표 위치\n",
    " \n",
    "def main():\n",
    "    root = Tk() #Tk 객체 생성\n",
    "    root.title('show image') #윈도우 제목 지정\n",
    "    root.geometry('500x400+100+100') #윈도우의 크기와 좌표 지정 \n",
    "    myframe = MyFrame(root)\n",
    "    root.mainloop()\n",
    " \n",
    "if __name__ == '__main__': #만일 이 파일이 인터프리터에 의해서 실행되는 경우라면..\n",
    "    main()"
   ]
  },
  {
   "cell_type": "code",
   "execution_count": null,
   "metadata": {},
   "outputs": [],
   "source": [
    "# 3. 입력 화면 예제"
   ]
  },
  {
   "cell_type": "code",
   "execution_count": 18,
   "metadata": {},
   "outputs": [],
   "source": [
    "from tkinter import *\n",
    "from tkinter.ttk import * #ttk 모듈은 tkinter의 확장모듈로, GUI의 외형을 더 보기 좋게 해준다.\n",
    " \n",
    "class MyFrame(Frame):\n",
    "    def __init__(self, master):\n",
    "        Frame.__init__(self, master)\n",
    " \n",
    "        self.master = master\n",
    "        self.master.title(\"고객 입력\")\n",
    "        self.pack(fill=BOTH, expand=True)\n",
    " \n",
    "        # 성명\n",
    "        frame1 = Frame(self)\n",
    "        frame1.pack(fill=X)\n",
    " \n",
    "        lblName = Label(frame1, text=\"성명\", width=10)\n",
    "        lblName.pack(side=LEFT, padx=10, pady=10)\n",
    " \n",
    "        entryName = Entry(frame1)\n",
    "        entryName.pack(fill=X, padx=10, expand=True)\n",
    " \n",
    "        # 회사\n",
    "        frame2 = Frame(self)\n",
    "        frame2.pack(fill=X)\n",
    " \n",
    "        lblComp = Label(frame2, text=\"회사명\", width=10)\n",
    "        lblComp.pack(side=LEFT, padx=10, pady=10)\n",
    " \n",
    "        entryComp = Entry(frame2)\n",
    "        entryComp.pack(fill=X, padx=10, expand=True)\n",
    " \n",
    "        # 특징\n",
    "        frame3 = Frame(self)\n",
    "        frame3.pack(fill=BOTH, expand=True)\n",
    " \n",
    "        lblComment = Label(frame3, text=\"특징\", width=10)\n",
    "        lblComment.pack(side=LEFT, anchor=N, padx=10, pady=10)\n",
    " \n",
    "        txtComment = Text(frame3)\n",
    "        txtComment.pack(fill=X, pady=10, padx=10)\n",
    " \n",
    "        # 저장\n",
    "        frame4 = Frame(self)\n",
    "        frame4.pack(fill=X)\n",
    "        btnSave = Button(frame4, text=\"저장\")\n",
    "        btnSave.pack(side=LEFT, padx=10, pady=10)\n",
    " \n",
    " \n",
    "def main():\n",
    "    root = Tk()\n",
    "    root.geometry(\"600x550+100+100\")\n",
    "    app = MyFrame(root)\n",
    "    root.mainloop()\n",
    " \n",
    " \n",
    "if __name__ == '__main__':\n",
    "    main()"
   ]
  },
  {
   "cell_type": "code",
   "execution_count": null,
   "metadata": {},
   "outputs": [],
   "source": [
    "# 이벤트 핸들링"
   ]
  },
  {
   "cell_type": "code",
   "execution_count": 27,
   "metadata": {},
   "outputs": [],
   "source": [
    "from tkinter import *\n",
    "from tkinter import messagebox #간단한 알림창을 생성하는 함수를 정의하고 있는 모듈\n",
    " \n",
    "root = Tk()\n",
    " \n",
    "# 버튼 클릭 이벤트 핸들러\n",
    "def okClick():\n",
    "    name = txt.get()\n",
    "    messagebox.showinfo(\"이름\", name)\n",
    " \n",
    "lbl = Label(root, text=\"이름\")\n",
    "lbl.grid(row=0, column=0)\n",
    "txt = Entry(root)\n",
    "txt.grid(row=0, column=1)\n",
    " \n",
    "# 버튼 클릭 이벤트와 핸들러 정의\n",
    "btn = Button(root, text=\"OK\", command=okClick) # 버튼이나 메뉴 클릭을 핸들링 위해 \"command=\" 옵션을 사용할 수 있다.\n",
    " \n",
    "btn.grid(row=1, column=1)\n",
    " \n",
    "root.mainloop()"
   ]
  },
  {
   "cell_type": "code",
   "execution_count": null,
   "metadata": {},
   "outputs": [],
   "source": [
    "# 알림창 모듈: messagebox"
   ]
  },
  {
   "cell_type": "code",
   "execution_count": 32,
   "metadata": {},
   "outputs": [
    {
     "data": {
      "text/plain": [
       "'ok'"
      ]
     },
     "execution_count": 32,
     "metadata": {},
     "output_type": "execute_result"
    }
   ],
   "source": [
    "import tkinter as tk\n",
    "from tkinter import messagebox\n",
    " \n",
    "messagebox.showinfo(title=\"Basic Example\", message=\"a Basic Tk MessageBox\")"
   ]
  },
  {
   "cell_type": "code",
   "execution_count": null,
   "metadata": {},
   "outputs": [],
   "source": [
    "# 이벤트 바인딩\n",
    "# bind() 메서드는 이벤트와 핸들러를 쌍으로 연결시는 역활을 한다. \n",
    "# 만약 해당 위젯에 그 이벤트가 발생하면 쌍으로 연결된 이벤트핸들러(=이벤트 콜백)가 실행되게 된다."
   ]
  },
  {
   "cell_type": "code",
   "execution_count": 36,
   "metadata": {},
   "outputs": [],
   "source": [
    "from tkinter import *\n",
    "root = Tk()\n",
    " \n",
    "def click(event):\n",
    "    print(\"클릭위치\", event.x, event.y)\n",
    " \n",
    "frame = Frame(root, width=300, height=300)\n",
    " \n",
    " #왼쪽 마우스 버튼 바인딩\n",
    "frame.bind(\"<Button-1>\", click) #Tkinter에서 사용하는 이벤트 명칭으로 마우스 왼쪽 버튼을 의미한다.\n",
    " \n",
    "frame.pack()\n",
    "root.mainloop()"
   ]
  },
  {
   "cell_type": "code",
   "execution_count": null,
   "metadata": {},
   "outputs": [],
   "source": [
    "# 3.이벤트명"
   ]
  },
  {
   "cell_type": "code",
   "execution_count": null,
   "metadata": {},
   "outputs": [],
   "source": [
    "# bind() 메서드의 첫번째 파라미터로 사용하는 이벤트명은 문자열로서 \n",
    "# <이벤트명> 과 같이 앵글 브래킷으로 묶여 있다. 다음은 자주 사용되는 이벤트명을 예시한 것이다.\n",
    "# <Button-1> 마우스 왼쪽 버튼 클릭\n",
    "# <Button-2> 마우스 중간 버튼 클릭\n",
    "# <Button-3> 마우스 오른쪽 버튼 클릭\n",
    "# <Double-Button-1> 왼쪽 버튼 더블클릭\n",
    "# <Return> Enter 키 눌려짐\n",
    "# <Key> 키가 눌려짐"
   ]
  },
  {
   "cell_type": "code",
   "execution_count": null,
   "metadata": {},
   "outputs": [],
   "source": [
    "# 4.Event Object\n",
    "# 이는 Tkinter Event Object 로서 다음과 같은 속성(attribute)들을 갖는다. \n",
    "# 위의 #2 예제를 보면, click() 함수에서 event 파라미터를 받아들이고, \n",
    "# 이 event의 x, y 좌표를 사용하고 있음을 알 수 있다."
   ]
  },
  {
   "cell_type": "code",
   "execution_count": null,
   "metadata": {},
   "outputs": [],
   "source": [
    "# char 키보트 이벤트에서 발생하는 문자 하나\n",
    "# keysym 키보트 이벤트에서 발생하는 키의 심볼명\n",
    "# num 마우스 이벤트의 버튼 번호. 왼쪽부터 1, 2, 3\n",
    "# x, y 위젯의 죄상단으로부터의 상대적 마우스 위치\n",
    "# x_root, y_root 화면 죄상단으로부터의 상대적 마우스 위치\n",
    "# Key 이벤트가 발생한 위젯"
   ]
  },
  {
   "cell_type": "code",
   "execution_count": 38,
   "metadata": {},
   "outputs": [],
   "source": [
    "from tkinter import *\n",
    " \n",
    "def keyPressed(event):\n",
    "    # 키보드 문자하나 출력\n",
    "    print(event.char)\n",
    " \n",
    "root = Tk()\n",
    " \n",
    "frame = Frame(root, width=100, height=100)\n",
    "# Key 이벤트 바인딩\n",
    "frame.bind('<Key>', keyPressed) \n",
    "frame.place(x=0, y=0)\n",
    " \n",
    "# 키보드 포커를 갖게 한다\n",
    "frame.focus_set()\n",
    " \n",
    "root.mainloop()"
   ]
  },
  {
   "cell_type": "code",
   "execution_count": null,
   "metadata": {},
   "outputs": [],
   "source": []
  }
 ],
 "metadata": {
  "kernelspec": {
   "display_name": "Python 3",
   "language": "python",
   "name": "python3"
  },
  "language_info": {
   "codemirror_mode": {
    "name": "ipython",
    "version": 3
   },
   "file_extension": ".py",
   "mimetype": "text/x-python",
   "name": "python",
   "nbconvert_exporter": "python",
   "pygments_lexer": "ipython3",
   "version": "3.7.3"
  }
 },
 "nbformat": 4,
 "nbformat_minor": 4
}
