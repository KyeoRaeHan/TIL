{
 "cells": [
  {
   "cell_type": "code",
   "execution_count": null,
   "metadata": {},
   "outputs": [],
   "source": [
    "#5. 남녀 파트 정해주기 프로그램\n",
    "# 같은 수의 남녀 모임에서 파트너를 정해주는 프로그램을 만들어 보세요."
   ]
  },
  {
   "cell_type": "code",
   "execution_count": 32,
   "metadata": {},
   "outputs": [],
   "source": [
    "from random import shuffle\n",
    "male = ['철수', '갑돌', '로미오', '이몽룡', '온돌']\n",
    "female = ['미미', '갑순', '줄리엣', '성춘향', '평강']"
   ]
  },
  {
   "cell_type": "code",
   "execution_count": 33,
   "metadata": {},
   "outputs": [
    {
     "name": "stdout",
     "output_type": "stream",
     "text": [
      "커플1: [철수]-[미미]\n",
      "커플2: [갑돌]-[갑순]\n",
      "커플3: [로미오]-[줄리엣]\n",
      "커플4: [이몽룡]-[성춘향]\n",
      "커플5: [온돌]-[평강]\n"
     ]
    }
   ],
   "source": [
    "couples = zip(male, female)\n",
    "for i, couple in enumerate(couples):\n",
    "    print('커플%d: [%s]-[%s]'%(i+1, couple[0], couple[1]))"
   ]
  },
  {
   "cell_type": "code",
   "execution_count": null,
   "metadata": {},
   "outputs": [],
   "source": [
    "#6. example_list = [\"요소A\", \"요소B\", \"요소C\"]를 \n",
    "# 파이썬 내장함수를 이용하여 아래와 같이 출력하세요."
   ]
  },
  {
   "cell_type": "code",
   "execution_count": 37,
   "metadata": {},
   "outputs": [
    {
     "name": "stdout",
     "output_type": "stream",
     "text": [
      "0번째 요소는 요소A입니다.\n",
      "1번째 요소는 요소B입니다.\n",
      "2번째 요소는 요소C입니다.\n"
     ]
    }
   ],
   "source": [
    "example_list = [\"요소A\", \"요소B\", \"요소C\"]\n",
    "\n",
    "for i, value in enumerate(example_list):\n",
    "    print(\"{}번째 요소는 {}입니다.\".format(i, value))"
   ]
  },
  {
   "cell_type": "markdown",
   "metadata": {},
   "source": [
    "# 예외처리\n",
    "try:\n",
    "    실행할 코드\n",
    "except:\n",
    "    예외가 발생했을 때 처리하는 코드"
   ]
  },
  {
   "cell_type": "code",
   "execution_count": null,
   "metadata": {},
   "outputs": [],
   "source": [
    "#8. 1ist_number = [52,273,,32,72,100]으로 변수 선언하고 정수를 입력하면 \n",
    "#그 정수 인덱스와 리스트에서 해당하는 값을 출력하는 프로그램을 작성하세요.\n",
    "#단, valueError와 Index를 예외처리(프로그램 검증은 아래 참조) "
   ]
  },
  {
   "cell_type": "code",
   "execution_count": null,
   "metadata": {},
   "outputs": [],
   "source": [
    "# 변수 선언\n",
    "list_number = [52,273,32,73,100]\n",
    "\n",
    "# try except 구문으로 예외를 처리합니다\n",
    "try:\n",
    "    #숫자를 입력받습니다.\n",
    "    number_input = int(input(\"0~4 정수 입력>\"))\n",
    "    \n",
    "    #리스트의 요소를 출력합니다.\n",
    "    print(\"{}번째 요소: {}\".format(number_input, list_number[number_input]))\n",
    "\n",
    "except ValueError:\n",
    "    print(\"정수를 입력해 주세요!\")\n",
    "\n",
    "except IndexError:\n",
    "    print(\"리스트의 인덱스를 벗어났어요!\")"
   ]
  },
  {
   "cell_type": "code",
   "execution_count": 44,
   "metadata": {},
   "outputs": [
    {
     "name": "stdout",
     "output_type": "stream",
     "text": [
      "인덱스와 나눌 숫자를 입력하세요: 5 10\n",
      "잘못된 인덱스입니다. list index out of range\n"
     ]
    }
   ],
   "source": [
    "y = [10, 20, 30]\n",
    " \n",
    "try:\n",
    "    index, x = map(int, input('인덱스와 나눌 숫자를 입력하세요: ').split())\n",
    "    print(y[index] / x)\n",
    "except ZeroDivisionError as e:                    # as 뒤에 변수를 지정하면 에러를 받아옴\n",
    "    print('숫자를 0으로 나눌 수 없습니다.', e)    # e에 저장된 에러 메시지 출력\n",
    "except IndexError as e:\n",
    "    print('잘못된 인덱스입니다.', e)"
   ]
  },
  {
   "cell_type": "code",
   "execution_count": null,
   "metadata": {},
   "outputs": [],
   "source": [
    "# 10. 1부터 100까지 아래와 같은 방식으로 2개의 수를 곱해서 가장 큰 수를 구하세요.\n",
    "# 1 99 ... 99 1"
   ]
  },
  {
   "cell_type": "code",
   "execution_count": 42,
   "metadata": {},
   "outputs": [
    {
     "name": "stdout",
     "output_type": "stream",
     "text": [
      "2500\n"
     ]
    }
   ],
   "source": [
    "global maxNum\n",
    "maxNum = 1 * 99\n",
    "for i in range(100):\n",
    "    if i*(100-i) > maxNum:\n",
    "        maxNum = i*(100-i)\n",
    "        \n",
    "print(maxNum)"
   ]
  }
 ],
 "metadata": {
  "kernelspec": {
   "display_name": "Python 3",
   "language": "python",
   "name": "python3"
  },
  "language_info": {
   "codemirror_mode": {
    "name": "ipython",
    "version": 3
   },
   "file_extension": ".py",
   "mimetype": "text/x-python",
   "name": "python",
   "nbconvert_exporter": "python",
   "pygments_lexer": "ipython3",
   "version": "3.7.6"
  }
 },
 "nbformat": 4,
 "nbformat_minor": 4
}
