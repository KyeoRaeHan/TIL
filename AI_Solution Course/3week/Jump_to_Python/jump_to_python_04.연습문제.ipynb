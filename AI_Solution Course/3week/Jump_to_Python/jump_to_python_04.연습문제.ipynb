{
 "cells": [
  {
   "cell_type": "code",
   "execution_count": null,
   "metadata": {},
   "outputs": [],
   "source": [
    "# Q1. 주어진 자연수가 홀수인지 짝수인지 판별해주는 함수를 작성해보자."
   ]
  },
  {
   "cell_type": "code",
   "execution_count": 30,
   "metadata": {},
   "outputs": [],
   "source": [
    "def is_odd(number):\n",
    "    if number % 2 == 1:\n",
    "         return True\n",
    "    \n",
    "    else:\n",
    "        return False"
   ]
  },
  {
   "cell_type": "code",
   "execution_count": 32,
   "metadata": {},
   "outputs": [
    {
     "data": {
      "text/plain": [
       "True"
      ]
     },
     "execution_count": 32,
     "metadata": {},
     "output_type": "execute_result"
    }
   ],
   "source": [
    "is_odd(7)"
   ]
  },
  {
   "cell_type": "code",
   "execution_count": null,
   "metadata": {},
   "outputs": [],
   "source": [
    "# Q2. 입력으로 들어오는 모든 수의 평균 값을 계산해주는 함수를 작성해보자"
   ]
  },
  {
   "cell_type": "code",
   "execution_count": 39,
   "metadata": {},
   "outputs": [],
   "source": [
    "def avg_numbers(*args):\n",
    "    result = 0\n",
    "    for i in args:\n",
    "        result += i\n",
    "    return result / len(args) #이게 맞나"
   ]
  },
  {
   "cell_type": "code",
   "execution_count": 40,
   "metadata": {},
   "outputs": [
    {
     "data": {
      "text/plain": [
       "1.5"
      ]
     },
     "execution_count": 40,
     "metadata": {},
     "output_type": "execute_result"
    }
   ],
   "source": [
    "avg_numbers(1,2)"
   ]
  },
  {
   "cell_type": "code",
   "execution_count": 41,
   "metadata": {},
   "outputs": [
    {
     "data": {
      "text/plain": [
       "3.0"
      ]
     },
     "execution_count": 41,
     "metadata": {},
     "output_type": "execute_result"
    }
   ],
   "source": [
    "avg_numbers(1,2,3,4,5)"
   ]
  },
  {
   "cell_type": "code",
   "execution_count": null,
   "metadata": {},
   "outputs": [],
   "source": [
    "# Q3. 다음은 두 개의 숫자를 입력받아 더하여 돌려주는 프로그램이다."
   ]
  },
  {
   "cell_type": "code",
   "execution_count": 44,
   "metadata": {},
   "outputs": [
    {
     "name": "stdout",
     "output_type": "stream",
     "text": [
      "첫번째 숫자를 입력하세요:3\n",
      "두번째 숫자를 입력하세요:6\n",
      "두 수의 합은 9 입니다\n"
     ]
    }
   ],
   "source": [
    "input1 = int(input(\"첫번째 숫자를 입력하세요:\"))\n",
    "input2 = int(input(\"두번째 숫자를 입력하세요:\"))\n",
    "\n",
    "total = input1 + input2\n",
    "print(\"두 수의 합은 %d 입니다\" %total)"
   ]
  },
  {
   "cell_type": "code",
   "execution_count": null,
   "metadata": {},
   "outputs": [],
   "source": [
    "# Q4. 다음 중 출력 결과가 다른 것 한 개를 골라보자."
   ]
  },
  {
   "cell_type": "code",
   "execution_count": 46,
   "metadata": {},
   "outputs": [
    {
     "name": "stdout",
     "output_type": "stream",
     "text": [
      "youneedpython\n",
      "youneedpython\n",
      "you need python\n",
      "youneedpython\n"
     ]
    }
   ],
   "source": [
    "print(\"you\" \"need\" \"python\")\n",
    "print(\"you\" +  \"need\" + \"python\")\n",
    "print(\"you\", \"need\", \"python\")\n",
    "print(\"\".join([\"you\", \"need\", \"python\"]))"
   ]
  },
  {
   "cell_type": "code",
   "execution_count": null,
   "metadata": {},
   "outputs": [],
   "source": [
    "# Q5. 다음은 \"test.txt\"라는 파일에 \"Life is too short\" 문자열을 저장한 후\n",
    "# 다시 그 파일을 읽어서 출력하는 프로그램이다."
   ]
  },
  {
   "cell_type": "markdown",
   "metadata": {},
   "source": [
    "r - 읽기 모드(파일을 읽기만 할 때 사용)\n",
    "w - 쓰기 모드(파일에 내용을 쓸 때 사용)\n",
    "a - 추가 모드(파일의 마지막에 새로운 내용을 추가할 때 사용)"
   ]
  },
  {
   "cell_type": "code",
   "execution_count": 53,
   "metadata": {},
   "outputs": [
    {
     "name": "stdout",
     "output_type": "stream",
     "text": [
      "<built-in method readline of _io.TextIOWrapper object at 0x000001D0095E8908>\n",
      "Life is too short\n"
     ]
    }
   ],
   "source": [
    "f1 = open(\"test.txt\", 'w')\n",
    "f1.write(\"Life is too short\")\n",
    "\n",
    "line = f1.readline\n",
    "print(line)\n",
    "\n",
    "f1.close()\n",
    "\n",
    "f2 = open(\"test.txt\", 'r')\n",
    "print(f2.read())\n",
    "f2.close()\n",
    "\n"
   ]
  },
  {
   "cell_type": "code",
   "execution_count": 54,
   "metadata": {},
   "outputs": [
    {
     "name": "stdout",
     "output_type": "stream",
     "text": [
      "Life is too short! \n"
     ]
    }
   ],
   "source": [
    "with open(\"test.txt\", 'w') as f1:\n",
    "    f1.write(\"Life is too short! \")\n",
    "    \n",
    "with open(\"test.txt\", 'r') as f2:\n",
    "    print(f2.read())"
   ]
  },
  {
   "cell_type": "code",
   "execution_count": null,
   "metadata": {},
   "outputs": [],
   "source": [
    "# Q6. 사용자의 입력을 파일에 저장하는 프로그램을 작성해보자.\n",
    "# (단 프로그램을 다시 실행하더라도 기존에 작성한 내용을 유지하고 새로 입력한 내용을 추가해야 한다)"
   ]
  },
  {
   "cell_type": "code",
   "execution_count": 51,
   "metadata": {},
   "outputs": [
    {
     "name": "stdout",
     "output_type": "stream",
     "text": [
      "저장할 내용을 입력하세요:1\n"
     ]
    }
   ],
   "source": [
    "user_input = input(\"저장할 내용을 입력하세요:\")\n",
    "f = open('test.txt', 'a') #해당 폴더에 파일 생성\n",
    "f.write(user_input)\n",
    "f.write(\"\\n\")\n",
    "f.close()"
   ]
  },
  {
   "cell_type": "code",
   "execution_count": null,
   "metadata": {},
   "outputs": [],
   "source": [
    "# Q7. 다음과 같은 내용을 지닌 파일 test.txt가 있다. 이 파일의 내용 중 'java'라는 문자열을\n",
    "# python으로 바꾸어서 저장해 보자."
   ]
  },
  {
   "cell_type": "code",
   "execution_count": 52,
   "metadata": {},
   "outputs": [],
   "source": [
    "f = open('test.txt', 'r')\n",
    "body = f.read()\n",
    "f.close()\n",
    "\n",
    "body = body.replace('java', 'python')\n",
    "\n",
    "f = open('text.txt', 'w')\n",
    "f.write(body)\n",
    "f.close()"
   ]
  },
  {
   "cell_type": "code",
   "execution_count": null,
   "metadata": {},
   "outputs": [],
   "source": [
    "# 파일을 모두 읽은 후, \n",
    "# 문자열의 replace함수를 사용하여 java라는 문자열을 python으로\n",
    "# 변경한 다음 저장한다."
   ]
  }
 ],
 "metadata": {
  "kernelspec": {
   "display_name": "Python 3",
   "language": "python",
   "name": "python3"
  },
  "language_info": {
   "codemirror_mode": {
    "name": "ipython",
    "version": 3
   },
   "file_extension": ".py",
   "mimetype": "text/x-python",
   "name": "python",
   "nbconvert_exporter": "python",
   "pygments_lexer": "ipython3",
   "version": "3.7.6"
  }
 },
 "nbformat": 4,
 "nbformat_minor": 4
}
