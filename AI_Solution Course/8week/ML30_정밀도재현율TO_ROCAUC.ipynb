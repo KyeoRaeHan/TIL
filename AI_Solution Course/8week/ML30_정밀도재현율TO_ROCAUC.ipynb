{
 "cells": [
  {
   "cell_type": "code",
   "execution_count": null,
   "metadata": {},
   "outputs": [],
   "source": [
    "분류 평가\n",
    "TP, FP, FN, TN는 예측 클래스와 실제 클래스의 Positive 결정 값과 Negative 결정 값의 결합에 따라 결정\n",
    "앞문자 True/False는 예측값과 실제값이 같은가/틀린가를 의미하고 뒤 문자 Negative/Positive는 예측 결과 값이 부정/긍정을 의미\n",
    "TN는 예측값을 Negative 값 0으로 예측했고 실제값 역시 Negative 값 0\n",
    "FP는 예측값을 Positive 값 1로 예측했고 실제값은 Negative 값 0\n",
    "FN은 예측값을 Negative 값 0으로 예측했고 실제값은 Positive 값 1\n",
    "TP는 예측값을 Positive 값 1로 예측했고 실제값 역시 Positive 값 1\n",
    "정확도 = (TP + TN) / ( TP + TN + FP + FN)\n",
    "정밀도 = TP / ( TP + FP)\n",
    "재현율 = TP / ( TP + FN)\n",
    "F1 = 2 ( 정밀도 * 재현율) / (정밀도 + 재현율) : 정밀도와 재현율이 어느 한쪽으로 치우치지 않는 수치를 나타낼때 높아짐.\n",
    "정밀도와 재현율은 Positive 데이터 세트의 예측 성능에 좀 더 초점을 맞춘 평가 지표\n",
    "재현율이 중요 지표인 경우는 실제 Positive 양성 데이터를 Negative로 잘못 판단하게 되면 업무상 큰 영향이 발생하는 경우(ex. 보험사기, 암진단 - 암인데 암이 아니라고 진단하면 FN이 증가하고 재현율이 떨어진다)\n",
    "정밀도가 더 중요한 지표인 사례는 스팸 메일 여부를 판단하는 경우로 스팸 메일이 아닌데 스팸 메일로 분류해서 업무 차질 발생(스팸이 아닌데 스팸으로 분류하면 FP 증가하고 정밀도가 떨어진다)"
   ]
  },
  {
   "cell_type": "code",
   "execution_count": null,
   "metadata": {},
   "outputs": [],
   "source": [
    "정밀도/제현율 트레이드오프\n",
    "정밀도 또는 재현율이 특별히 강조돼야 할 경우 분류의 결정 임곗값(Threshold)을 조정해 정밀도 또는 재현율의 수치를 높일 수 있음\n",
    "정밀도와 재현율은 한쪽을 높이면 다른 하나의 수치는 낮아지므로 트레이드오프(Trade-off) 관계임"
   ]
  },
  {
   "cell_type": "code",
   "execution_count": null,
   "metadata": {},
   "outputs": [],
   "source": [
    "예측 확률을 반환하는 predict_proba()\n",
    "사이킷런 분류 알고리즘은 예측 데이터가 특정 레이블(결정 클래스 값)에 속하는지를 계산하기 위해 먼저 개별 레이블별로 결정 확률을 구함\n",
    "그리고 예측 확률이 큰 레이블 값으로 예측\n",
    "이진 분류 모델에서 특정 데이터가 0이 될 확률이 10%, 1이 될 확률이 90%로 예측되었다면 최종 예측은 더 큰 확률을 가진 1로 예측\n",
    "이진 분류에서는 이 임곗값을 0.5로 정하고 이 기준 값보다 확률이 크면 Positive, 작으면 Negative로 결정함\n",
    "사이킷런은 개별 데이터별로 예측 확률을 반환하는 메서드인 predict_prob()를 제공 - 학습이 완료된 사이킷런 Classifier 객체에서 호출\n",
    "predict() 메서드와 유사하지만 단지 반환 결과가 예측 결과 클래스값이 아닌 예측 확률 결과임"
   ]
  },
  {
   "cell_type": "code",
   "execution_count": null,
   "metadata": {},
   "outputs": [],
   "source": []
  },
  {
   "cell_type": "code",
   "execution_count": null,
   "metadata": {},
   "outputs": [],
   "source": []
  },
  {
   "cell_type": "code",
   "execution_count": 3,
   "metadata": {},
   "outputs": [],
   "source": [
    "import pandas as pd\n",
    "import numpy as np\n",
    "from sklearn.linear_model import LogisticRegression"
   ]
  },
  {
   "cell_type": "code",
   "execution_count": 71,
   "metadata": {},
   "outputs": [
    {
     "data": {
      "text/html": [
       "<div>\n",
       "<style scoped>\n",
       "    .dataframe tbody tr th:only-of-type {\n",
       "        vertical-align: middle;\n",
       "    }\n",
       "\n",
       "    .dataframe tbody tr th {\n",
       "        vertical-align: top;\n",
       "    }\n",
       "\n",
       "    .dataframe thead th {\n",
       "        text-align: right;\n",
       "    }\n",
       "</style>\n",
       "<table border=\"1\" class=\"dataframe\">\n",
       "  <thead>\n",
       "    <tr style=\"text-align: right;\">\n",
       "      <th></th>\n",
       "      <th>Unnamed: 0</th>\n",
       "      <th>Survived</th>\n",
       "      <th>Pclass</th>\n",
       "      <th>Sex</th>\n",
       "      <th>Fare</th>\n",
       "      <th>Age_0</th>\n",
       "      <th>Age_1</th>\n",
       "      <th>Age_2</th>\n",
       "      <th>Age_3</th>\n",
       "      <th>Age_4</th>\n",
       "      <th>Embark_0</th>\n",
       "      <th>Embark_1</th>\n",
       "      <th>Embark_2</th>\n",
       "      <th>Family_0</th>\n",
       "      <th>Family_1</th>\n",
       "      <th>Family_2</th>\n",
       "    </tr>\n",
       "  </thead>\n",
       "  <tbody>\n",
       "    <tr>\n",
       "      <th>0</th>\n",
       "      <td>0</td>\n",
       "      <td>0</td>\n",
       "      <td>3</td>\n",
       "      <td>1</td>\n",
       "      <td>1</td>\n",
       "      <td>1</td>\n",
       "      <td>0</td>\n",
       "      <td>0</td>\n",
       "      <td>0</td>\n",
       "      <td>0</td>\n",
       "      <td>0</td>\n",
       "      <td>0</td>\n",
       "      <td>1</td>\n",
       "      <td>0</td>\n",
       "      <td>0</td>\n",
       "      <td>1</td>\n",
       "    </tr>\n",
       "    <tr>\n",
       "      <th>1</th>\n",
       "      <td>1</td>\n",
       "      <td>1</td>\n",
       "      <td>1</td>\n",
       "      <td>0</td>\n",
       "      <td>2</td>\n",
       "      <td>1</td>\n",
       "      <td>0</td>\n",
       "      <td>0</td>\n",
       "      <td>0</td>\n",
       "      <td>0</td>\n",
       "      <td>1</td>\n",
       "      <td>0</td>\n",
       "      <td>0</td>\n",
       "      <td>0</td>\n",
       "      <td>0</td>\n",
       "      <td>1</td>\n",
       "    </tr>\n",
       "    <tr>\n",
       "      <th>2</th>\n",
       "      <td>2</td>\n",
       "      <td>1</td>\n",
       "      <td>3</td>\n",
       "      <td>0</td>\n",
       "      <td>1</td>\n",
       "      <td>1</td>\n",
       "      <td>0</td>\n",
       "      <td>0</td>\n",
       "      <td>0</td>\n",
       "      <td>0</td>\n",
       "      <td>0</td>\n",
       "      <td>0</td>\n",
       "      <td>1</td>\n",
       "      <td>1</td>\n",
       "      <td>0</td>\n",
       "      <td>0</td>\n",
       "    </tr>\n",
       "    <tr>\n",
       "      <th>3</th>\n",
       "      <td>3</td>\n",
       "      <td>1</td>\n",
       "      <td>1</td>\n",
       "      <td>0</td>\n",
       "      <td>2</td>\n",
       "      <td>1</td>\n",
       "      <td>0</td>\n",
       "      <td>0</td>\n",
       "      <td>0</td>\n",
       "      <td>0</td>\n",
       "      <td>0</td>\n",
       "      <td>0</td>\n",
       "      <td>1</td>\n",
       "      <td>0</td>\n",
       "      <td>0</td>\n",
       "      <td>1</td>\n",
       "    </tr>\n",
       "    <tr>\n",
       "      <th>4</th>\n",
       "      <td>4</td>\n",
       "      <td>0</td>\n",
       "      <td>3</td>\n",
       "      <td>1</td>\n",
       "      <td>1</td>\n",
       "      <td>1</td>\n",
       "      <td>0</td>\n",
       "      <td>0</td>\n",
       "      <td>0</td>\n",
       "      <td>0</td>\n",
       "      <td>0</td>\n",
       "      <td>0</td>\n",
       "      <td>1</td>\n",
       "      <td>1</td>\n",
       "      <td>0</td>\n",
       "      <td>0</td>\n",
       "    </tr>\n",
       "  </tbody>\n",
       "</table>\n",
       "</div>"
      ],
      "text/plain": [
       "   Unnamed: 0  Survived  Pclass  Sex  Fare  Age_0  Age_1  Age_2  Age_3  Age_4  \\\n",
       "0           0         0       3    1     1      1      0      0      0      0   \n",
       "1           1         1       1    0     2      1      0      0      0      0   \n",
       "2           2         1       3    0     1      1      0      0      0      0   \n",
       "3           3         1       1    0     2      1      0      0      0      0   \n",
       "4           4         0       3    1     1      1      0      0      0      0   \n",
       "\n",
       "   Embark_0  Embark_1  Embark_2  Family_0  Family_1  Family_2  \n",
       "0         0         0         1         0         0         1  \n",
       "1         1         0         0         0         0         1  \n",
       "2         0         0         1         1         0         0  \n",
       "3         0         0         1         0         0         1  \n",
       "4         0         0         1         1         0         0  "
      ]
     },
     "execution_count": 71,
     "metadata": {},
     "output_type": "execute_result"
    }
   ],
   "source": [
    "df = pd.read_csv('./dataset/tdf4.csv')\n",
    "df.head()"
   ]
  },
  {
   "cell_type": "code",
   "execution_count": 72,
   "metadata": {},
   "outputs": [],
   "source": [
    "from sklearn import preprocessing\n",
    "from sklearn.model_selection import train_test_split\n",
    "\n",
    "# 독립변수, 종속변수 분리\n",
    "y = df['Survived']\n",
    "X = df.drop('Survived',axis=1)\n",
    "# 학습용 테이터와 평가용 데이터를 8:2로 분리\n",
    "X_train, X_test, y_train, y_test = train_test_split(X, y, \n",
    "                                            test_size=0.2,random_state=10) "
   ]
  },
  {
   "cell_type": "code",
   "execution_count": 73,
   "metadata": {},
   "outputs": [
    {
     "name": "stdout",
     "output_type": "stream",
     "text": [
      "LR 예측 정확도 : 0.831\n"
     ]
    }
   ],
   "source": [
    "from sklearn.metrics import accuracy_score\n",
    "import warnings \n",
    "\n",
    "# 라이브러리\n",
    "warnings.filterwarnings('ignore')\n",
    "\n",
    "LR_clf = LogisticRegression()\n",
    "LR_clf.fit(X_train, y_train)\n",
    "LR_clf_pred = LR_clf.predict(X_test)\n",
    "\n",
    "LR_accuracy = accuracy_score(y_test, LR_clf_pred)\n",
    "print('LR 예측 정확도 :', round(LR_accuracy,3))"
   ]
  },
  {
   "cell_type": "code",
   "execution_count": null,
   "metadata": {},
   "outputs": [],
   "source": [
    "# 0.5를 기준으로 해서 큰쪽으로 결정"
   ]
  },
  {
   "cell_type": "code",
   "execution_count": 74,
   "metadata": {},
   "outputs": [
    {
     "name": "stdout",
     "output_type": "stream",
     "text": [
      "pred_proba()결과 shape:(178, 2)\n",
      "pred_proba array에서 앞 3개만 샘플로 추출 \n",
      ": [[0.21313002 0.78686998]\n",
      " [0.56669837 0.43330163]\n",
      " [0.8864919  0.1135081 ]]\n",
      "pred에서 앞 3개만 샘플로 추출 \n",
      ": [1 0 0]\n",
      "pred.reshape(-1,1)에서 앞 3개만 샘플로 추출 \n",
      ": [[1]\n",
      " [0]\n",
      " [0]]\n"
     ]
    }
   ],
   "source": [
    "pred_proba = LR_clf.predict_proba(X_test)\n",
    "pred = LR_clf.predict(X_test)\n",
    "\n",
    "print('pred_proba()결과 shape:{0}'.format(pred_proba.shape))\n",
    "print('pred_proba array에서 앞 3개만 샘플로 추출 \\n:', pred_proba[:3])\n",
    "\n",
    "print('pred에서 앞 3개만 샘플로 추출 \\n:', pred[:3])\n",
    "print('pred.reshape(-1,1)에서 앞 3개만 샘플로 추출 \\n:', \n",
    "      pred.reshape(-1,1)[:3])"
   ]
  },
  {
   "cell_type": "code",
   "execution_count": 23,
   "metadata": {},
   "outputs": [
    {
     "data": {
      "text/plain": [
       "array([[0.21313002, 0.78686998, 1.        ],\n",
       "       [0.56669837, 0.43330163, 0.        ],\n",
       "       [0.8864919 , 0.1135081 , 0.        ],\n",
       "       [0.09912233, 0.90087767, 1.        ],\n",
       "       [0.83839184, 0.16160816, 0.        ],\n",
       "       [0.75565849, 0.24434151, 0.        ],\n",
       "       [0.35615234, 0.64384766, 1.        ],\n",
       "       [0.28573358, 0.71426642, 1.        ],\n",
       "       [0.8686717 , 0.1313283 , 0.        ],\n",
       "       [0.78923671, 0.21076329, 0.        ],\n",
       "       [0.52994183, 0.47005817, 0.        ],\n",
       "       [0.07621721, 0.92378279, 1.        ],\n",
       "       [0.90018706, 0.09981294, 0.        ],\n",
       "       [0.87822565, 0.12177435, 0.        ],\n",
       "       [0.73112488, 0.26887512, 0.        ],\n",
       "       [0.89414998, 0.10585002, 0.        ],\n",
       "       [0.09767525, 0.90232475, 1.        ],\n",
       "       [0.88396368, 0.11603632, 0.        ],\n",
       "       [0.89251337, 0.10748663, 0.        ],\n",
       "       [0.58865546, 0.41134454, 0.        ],\n",
       "       [0.90158747, 0.09841253, 0.        ],\n",
       "       [0.84184935, 0.15815065, 0.        ],\n",
       "       [0.07939529, 0.92060471, 1.        ],\n",
       "       [0.78210295, 0.21789705, 0.        ],\n",
       "       [0.88803009, 0.11196991, 0.        ],\n",
       "       [0.87688992, 0.12311008, 0.        ],\n",
       "       [0.37441255, 0.62558745, 1.        ],\n",
       "       [0.8878533 , 0.1121467 , 0.        ],\n",
       "       [0.87115147, 0.12884853, 0.        ],\n",
       "       [0.08495545, 0.91504455, 1.        ],\n",
       "       [0.08746713, 0.91253287, 1.        ],\n",
       "       [0.37489794, 0.62510206, 1.        ],\n",
       "       [0.06762136, 0.93237864, 1.        ],\n",
       "       [0.39205228, 0.60794772, 1.        ],\n",
       "       [0.39092462, 0.60907538, 1.        ],\n",
       "       [0.88283618, 0.11716382, 0.        ],\n",
       "       [0.27643684, 0.72356316, 1.        ],\n",
       "       [0.90590448, 0.09409552, 0.        ],\n",
       "       [0.82695872, 0.17304128, 0.        ],\n",
       "       [0.88946477, 0.11053523, 0.        ],\n",
       "       [0.55481728, 0.44518272, 0.        ],\n",
       "       [0.89765702, 0.10234298, 0.        ],\n",
       "       [0.88726224, 0.11273776, 0.        ],\n",
       "       [0.86611721, 0.13388279, 0.        ],\n",
       "       [0.63342021, 0.36657979, 0.        ],\n",
       "       [0.98064143, 0.01935857, 0.        ],\n",
       "       [0.5364705 , 0.4635295 , 0.        ],\n",
       "       [0.34643761, 0.65356239, 1.        ],\n",
       "       [0.37081255, 0.62918745, 1.        ],\n",
       "       [0.98139135, 0.01860865, 0.        ],\n",
       "       [0.47876334, 0.52123666, 1.        ],\n",
       "       [0.90996018, 0.09003982, 0.        ],\n",
       "       [0.88981469, 0.11018531, 0.        ],\n",
       "       [0.82699388, 0.17300612, 0.        ],\n",
       "       [0.88550275, 0.11449725, 0.        ],\n",
       "       [0.09292938, 0.90707062, 1.        ],\n",
       "       [0.95483623, 0.04516377, 0.        ],\n",
       "       [0.44838755, 0.55161245, 1.        ],\n",
       "       [0.59573526, 0.40426474, 0.        ],\n",
       "       [0.88529348, 0.11470652, 0.        ],\n",
       "       [0.1054834 , 0.8945166 , 1.        ],\n",
       "       [0.09938768, 0.90061232, 1.        ],\n",
       "       [0.91444178, 0.08555822, 0.        ],\n",
       "       [0.10790778, 0.89209222, 1.        ],\n",
       "       [0.88335374, 0.11664626, 0.        ],\n",
       "       [0.50465401, 0.49534599, 0.        ],\n",
       "       [0.88042361, 0.11957639, 0.        ],\n",
       "       [0.75735139, 0.24264861, 0.        ],\n",
       "       [0.88955312, 0.11044688, 0.        ],\n",
       "       [0.36098798, 0.63901202, 1.        ],\n",
       "       [0.38564349, 0.61435651, 1.        ],\n",
       "       [0.88353669, 0.11646331, 0.        ],\n",
       "       [0.95859792, 0.04140208, 0.        ],\n",
       "       [0.89743918, 0.10256082, 0.        ],\n",
       "       [0.87825796, 0.12174204, 0.        ],\n",
       "       [0.95765944, 0.04234056, 0.        ],\n",
       "       [0.86297983, 0.13702017, 0.        ],\n",
       "       [0.8853826 , 0.1146174 , 0.        ],\n",
       "       [0.7919785 , 0.2080215 , 0.        ],\n",
       "       [0.59352249, 0.40647751, 0.        ],\n",
       "       [0.88197472, 0.11802528, 0.        ],\n",
       "       [0.22508507, 0.77491493, 1.        ],\n",
       "       [0.72862032, 0.27137968, 0.        ],\n",
       "       [0.34309049, 0.65690951, 1.        ],\n",
       "       [0.40818513, 0.59181487, 1.        ],\n",
       "       [0.89954667, 0.10045333, 0.        ],\n",
       "       [0.34024068, 0.65975932, 1.        ],\n",
       "       [0.2262771 , 0.7737229 , 1.        ],\n",
       "       [0.89191534, 0.10808466, 0.        ],\n",
       "       [0.76584205, 0.23415795, 0.        ],\n",
       "       [0.20798508, 0.79201492, 1.        ],\n",
       "       [0.90239898, 0.09760102, 0.        ],\n",
       "       [0.10090688, 0.89909312, 1.        ],\n",
       "       [0.49473411, 0.50526589, 1.        ],\n",
       "       [0.89094191, 0.10905809, 0.        ],\n",
       "       [0.86439219, 0.13560781, 0.        ],\n",
       "       [0.88669927, 0.11330073, 0.        ],\n",
       "       [0.88274209, 0.11725791, 0.        ],\n",
       "       [0.90460582, 0.09539418, 0.        ],\n",
       "       [0.68432939, 0.31567061, 0.        ],\n",
       "       [0.51797208, 0.48202792, 0.        ],\n",
       "       [0.81002231, 0.18997769, 0.        ],\n",
       "       [0.08697122, 0.91302878, 1.        ],\n",
       "       [0.90082288, 0.09917712, 0.        ],\n",
       "       [0.89857829, 0.10142171, 0.        ],\n",
       "       [0.77609121, 0.22390879, 0.        ],\n",
       "       [0.61917727, 0.38082273, 0.        ],\n",
       "       [0.20699333, 0.79300667, 1.        ],\n",
       "       [0.89570927, 0.10429073, 0.        ],\n",
       "       [0.89045384, 0.10954616, 0.        ],\n",
       "       [0.07673226, 0.92326774, 1.        ],\n",
       "       [0.89951896, 0.10048104, 0.        ],\n",
       "       [0.72199023, 0.27800977, 0.        ],\n",
       "       [0.07645863, 0.92354137, 1.        ],\n",
       "       [0.79397165, 0.20602835, 0.        ],\n",
       "       [0.89324976, 0.10675024, 0.        ],\n",
       "       [0.85912075, 0.14087925, 0.        ],\n",
       "       [0.53326254, 0.46673746, 0.        ],\n",
       "       [0.88104772, 0.11895228, 0.        ],\n",
       "       [0.651168  , 0.348832  , 0.        ],\n",
       "       [0.60071875, 0.39928125, 0.        ],\n",
       "       [0.39621932, 0.60378068, 1.        ],\n",
       "       [0.89841911, 0.10158089, 0.        ],\n",
       "       [0.93647606, 0.06352394, 0.        ],\n",
       "       [0.09436283, 0.90563717, 1.        ],\n",
       "       [0.76637267, 0.23362733, 0.        ],\n",
       "       [0.88876409, 0.11123591, 0.        ],\n",
       "       [0.90039877, 0.09960123, 0.        ],\n",
       "       [0.88487226, 0.11512774, 0.        ],\n",
       "       [0.10742413, 0.89257587, 1.        ],\n",
       "       [0.22062509, 0.77937491, 1.        ],\n",
       "       [0.08557268, 0.91442732, 1.        ],\n",
       "       [0.08088182, 0.91911818, 1.        ],\n",
       "       [0.40746493, 0.59253507, 1.        ],\n",
       "       [0.57377055, 0.42622945, 0.        ],\n",
       "       [0.374831  , 0.625169  , 1.        ],\n",
       "       [0.87961067, 0.12038933, 0.        ],\n",
       "       [0.98273142, 0.01726858, 0.        ],\n",
       "       [0.66098971, 0.33901029, 0.        ],\n",
       "       [0.89598849, 0.10401151, 0.        ],\n",
       "       [0.75756517, 0.24243483, 0.        ],\n",
       "       [0.87168236, 0.12831764, 0.        ],\n",
       "       [0.89606833, 0.10393167, 0.        ],\n",
       "       [0.89202947, 0.10797053, 0.        ],\n",
       "       [0.17537407, 0.82462593, 1.        ],\n",
       "       [0.4193728 , 0.5806272 , 1.        ],\n",
       "       [0.85078683, 0.14921317, 0.        ],\n",
       "       [0.66251423, 0.33748577, 0.        ],\n",
       "       [0.89990719, 0.10009281, 0.        ],\n",
       "       [0.58500552, 0.41499448, 0.        ],\n",
       "       [0.71690983, 0.28309017, 0.        ],\n",
       "       [0.08140953, 0.91859047, 1.        ],\n",
       "       [0.58438054, 0.41561946, 0.        ],\n",
       "       [0.38200274, 0.61799726, 1.        ],\n",
       "       [0.29261373, 0.70738627, 1.        ],\n",
       "       [0.24600178, 0.75399822, 1.        ],\n",
       "       [0.76285704, 0.23714296, 0.        ],\n",
       "       [0.09132061, 0.90867939, 1.        ],\n",
       "       [0.78104132, 0.21895868, 0.        ],\n",
       "       [0.90319106, 0.09680894, 0.        ],\n",
       "       [0.95136987, 0.04863013, 0.        ],\n",
       "       [0.71759324, 0.28240676, 0.        ],\n",
       "       [0.21189285, 0.78810715, 1.        ],\n",
       "       [0.37378722, 0.62621278, 1.        ],\n",
       "       [0.83866967, 0.16133033, 0.        ],\n",
       "       [0.8951835 , 0.1048165 , 0.        ],\n",
       "       [0.79324752, 0.20675248, 0.        ],\n",
       "       [0.83629172, 0.16370828, 0.        ],\n",
       "       [0.88209688, 0.11790312, 0.        ],\n",
       "       [0.41967098, 0.58032902, 1.        ],\n",
       "       [0.87342763, 0.12657237, 0.        ],\n",
       "       [0.48933123, 0.51066877, 1.        ],\n",
       "       [0.11711577, 0.88288423, 1.        ],\n",
       "       [0.88493106, 0.11506894, 0.        ],\n",
       "       [0.79095558, 0.20904442, 0.        ],\n",
       "       [0.89157229, 0.10842771, 0.        ],\n",
       "       [0.90108712, 0.09891288, 0.        ],\n",
       "       [0.79124576, 0.20875424, 0.        ]])"
      ]
     },
     "execution_count": 23,
     "metadata": {},
     "output_type": "execute_result"
    }
   ],
   "source": [
    "# concatnate\n",
    "# pd.concat\n",
    "pred_proba_result = np.concatenate([pred_proba, pred.reshape(-1,1)], axis=1)\n",
    "pred_proba_result"
   ]
  },
  {
   "cell_type": "code",
   "execution_count": 76,
   "metadata": {},
   "outputs": [
    {
     "name": "stdout",
     "output_type": "stream",
     "text": [
      "[[0. 0. 1.]\n",
      " [1. 0. 0.]\n",
      " [0. 0. 1.]]\n"
     ]
    }
   ],
   "source": [
    "from sklearn.preprocessing import Binarizer\n",
    "\n",
    "X = [[1,-1,2],\n",
    "    [2,0,0],\n",
    "    [0,1.1,1.2]]\n",
    "\n",
    "# threshold(임계값) 기준값보다 같거나 작으면 0, 크면 1을 반환\n",
    "binarizer = Binarizer(threshold=1.1)\n",
    "# 임계값과 비교해서 0,1 반환\n",
    "print(binarizer.fit_transform(X))"
   ]
  },
  {
   "cell_type": "code",
   "execution_count": 77,
   "metadata": {},
   "outputs": [
    {
     "name": "stdout",
     "output_type": "stream",
     "text": [
      "[[0. 0. 0.]\n",
      " [0. 0. 0.]\n",
      " [0. 0. 0.]]\n"
     ]
    }
   ],
   "source": [
    "X = [[1,-1,2],\n",
    "    [2,0,0],\n",
    "    [0,1.1,1.2]]\n",
    "\n",
    "# threshold(임계값) 기준값보다 같거나 작으면 0, 크면 1을 반환\n",
    "binarizer = Binarizer(threshold=2)\n",
    "# 임계값과 비교해서 0,1 반환\n",
    "print(binarizer.fit_transform(X))"
   ]
  },
  {
   "cell_type": "code",
   "execution_count": null,
   "metadata": {},
   "outputs": [],
   "source": [
    "# Binarize data (set feature values to 0 or 1) according to a threshold."
   ]
  },
  {
   "cell_type": "code",
   "execution_count": 27,
   "metadata": {},
   "outputs": [
    {
     "name": "stdout",
     "output_type": "stream",
     "text": [
      "[[1. 0. 1.]\n",
      " [1. 0. 0.]\n",
      " [0. 1. 1.]]\n"
     ]
    }
   ],
   "source": [
    "print(Binarizer().fit_transform(X))"
   ]
  },
  {
   "cell_type": "code",
   "execution_count": 79,
   "metadata": {},
   "outputs": [
    {
     "name": "stdout",
     "output_type": "stream",
     "text": [
      "[[0.21313002 0.78686998]\n",
      " [0.56669837 0.43330163]\n",
      " [0.8864919  0.1135081 ]\n",
      " [0.09912233 0.90087767]\n",
      " [0.83839184 0.16160816]]\n",
      "\n",
      "[[0.78686998]\n",
      " [0.43330163]\n",
      " [0.1135081 ]\n",
      " [0.90087767]\n",
      " [0.16160816]]\n"
     ]
    },
    {
     "data": {
      "text/plain": [
       "array([[1.],\n",
       "       [0.],\n",
       "       [0.],\n",
       "       [1.],\n",
       "       [0.]])"
      ]
     },
     "execution_count": 79,
     "metadata": {},
     "output_type": "execute_result"
    }
   ],
   "source": [
    "# 생존 확률을 선택해서 임계값 0.5 기준으로 예측\n",
    "custom_threshold = 0.5\n",
    "print(pred_proba[0:5])\n",
    "print()\n",
    "# 생존 확률 추출 후 2차원 배열로 변환\n",
    "pred_proba_1 = pred_proba[:,1].reshape(-1,1)\n",
    "print(pred_proba_1[0:5])\n",
    "binarizer = Binarizer(threshold=custom_threshold).fit(pred_proba_1)\n",
    "custom_predict = binarizer.transform(pred_proba_1)\n",
    "custom_predict[0:5]"
   ]
  },
  {
   "cell_type": "code",
   "execution_count": 37,
   "metadata": {},
   "outputs": [
    {
     "name": "stdout",
     "output_type": "stream",
     "text": [
      "[[0.21313002 0.78686998]\n",
      " [0.56669837 0.43330163]\n",
      " [0.8864919  0.1135081 ]\n",
      " [0.09912233 0.90087767]\n",
      " [0.83839184 0.16160816]]\n",
      "\n",
      "[[0.78686998]\n",
      " [0.43330163]\n",
      " [0.1135081 ]\n",
      " [0.90087767]\n",
      " [0.16160816]]\n"
     ]
    },
    {
     "data": {
      "text/plain": [
       "array([[1.],\n",
       "       [0.],\n",
       "       [0.],\n",
       "       [1.],\n",
       "       [0.]])"
      ]
     },
     "execution_count": 37,
     "metadata": {},
     "output_type": "execute_result"
    }
   ],
   "source": [
    "#생존 확률을 선택해서 임계값 0.5를 기준으로 예측\n",
    "custom_threshold = 0.5\n",
    "print(pred_proba[:5])\n",
    "print()\n",
    "# 생존 확률 추출 후 2차원 배열로 전환\n",
    "pred_proba_1 = pred_proba[:,1].reshape(-1,1)\n",
    "print(pred_proba_1[0:5])\n",
    "binarizer = Binarizer(threshold = custom_threshold).fit(pred_proba_1)\n",
    "custom_predict = binarizer.transform(pred_proba_1)\n",
    "custom_predict[:5]"
   ]
  },
  {
   "cell_type": "code",
   "execution_count": 83,
   "metadata": {},
   "outputs": [
    {
     "name": "stdout",
     "output_type": "stream",
     "text": [
      "오차행렬\n",
      "[[103  12]\n",
      " [ 18  45]]\n",
      "정확도:0.8315, 정밀도:0.7895, 재현율:0.7143, f1 score:0.7500\n"
     ]
    }
   ],
   "source": [
    "from sklearn.metrics import accuracy_score, precision_score, recall_score, confusion_matrix, \\\n",
    "                            f1_score, roc_auc_score\n",
    "\n",
    "def get_clf_eval(y_test, pred):\n",
    "    confusion = confusion_matrix(y_test, pred)\n",
    "    accuracy = accuracy_score(y_test, pred)\n",
    "    precision = precision_score(y_test, pred)\n",
    "    recall = recall_score(y_test, pred)\n",
    "    f1 = f1_score(y_test, pred)\n",
    "    \n",
    "    print('오차행렬')\n",
    "    print(confusion)\n",
    "    print('정확도:{0:.4f}, 정밀도:{1:.4f}, 재현율:{2:.4f}, f1 score:{3:.4f}'.format(accuracy, precision, recall, f1))\n",
    "\n",
    "                                                                  \n",
    "get_clf_eval(y_test, custom_predict)"
   ]
  },
  {
   "cell_type": "code",
   "execution_count": 84,
   "metadata": {},
   "outputs": [],
   "source": [
    "# 직접 구해보기\n",
    "# 정확도: 0.83146\n",
    "# 정밀도: 0.7894\n",
    "# 재현율: 0.71428\n",
    "# f1 score:0.7469"
   ]
  },
  {
   "cell_type": "code",
   "execution_count": 49,
   "metadata": {},
   "outputs": [
    {
     "name": "stdout",
     "output_type": "stream",
     "text": [
      "(178,)\n",
      "(178, 1)\n"
     ]
    }
   ],
   "source": [
    "# 임계값을 내리면 positive 예측을 많이 할 수 있음\n",
    "custom_treshold = 0.4\n",
    "pred_proba_1 = pred_proba[:,1].reshape(-1,1)\n",
    "print(pred_proba[:,1].shape)\n",
    "print(pred_proba[:,1].reshape(-1,1).shape)"
   ]
  },
  {
   "cell_type": "code",
   "execution_count": 45,
   "metadata": {},
   "outputs": [
    {
     "name": "stdout",
     "output_type": "stream",
     "text": [
      "오차행렬\n",
      "[[103  12]\n",
      " [ 18  45]]\n",
      "정확도:0.8315, 정밀도:0.7895, 재현율:0.7143, f1 score:0.7500\n"
     ]
    }
   ],
   "source": [
    "# 임계값을 내리면 positive 예측을 많이 할 수 있음\n",
    "custom_treshold = 0.4\n",
    "pred_proba_1 = pred_proba[:,1].reshape(-1,1)\n",
    "binarizer = Binarizer(threshold=custom_threshold).fit(pred_proba_1)\n",
    "custom_predict = binarizer.transform(pred_proba_1)\n",
    "\n",
    "get_clf_eval(y_test, custom_predict)"
   ]
  },
  {
   "cell_type": "code",
   "execution_count": 48,
   "metadata": {},
   "outputs": [
    {
     "name": "stdout",
     "output_type": "stream",
     "text": [
      "임계값: 0.4\n",
      "오차행렬\n",
      "[[97 18]\n",
      " [11 52]]\n",
      "정확도:0.8371, 정밀도:0.7429, 재현율:0.8254, f1 score:0.7820\n",
      "\n",
      "임계값: 0.45\n",
      "오차행렬\n",
      "[[99 16]\n",
      " [17 46]]\n",
      "정확도:0.8146, 정밀도:0.7419, 재현율:0.7302, f1 score:0.7360\n",
      "\n",
      "임계값: 0.5\n",
      "오차행렬\n",
      "[[103  12]\n",
      " [ 18  45]]\n",
      "정확도:0.8315, 정밀도:0.7895, 재현율:0.7143, f1 score:0.7500\n",
      "\n",
      "임계값: 0.55\n",
      "오차행렬\n",
      "[[105  10]\n",
      " [ 19  44]]\n",
      "정확도:0.8371, 정밀도:0.8148, 재현율:0.6984, f1 score:0.7521\n",
      "\n",
      "임계값: 0.6\n",
      "오차행렬\n",
      "[[106   9]\n",
      " [ 23  40]]\n",
      "정확도:0.8202, 정밀도:0.8163, 재현율:0.6349, f1 score:0.7143\n",
      "\n"
     ]
    }
   ],
   "source": [
    "# 테스트를 수행할 모든 임계값을 리스트 객체로 저장\n",
    "# 임계값에 따라서 재현율, 정밀도를 조절할 수 있다.\n",
    "\n",
    "thresholds = [0.4, 0.45, 0.5, 0.55, 0.6]\n",
    "\n",
    "def get_eval_by_threshold(y_test, pred_proba_c1, thresholds):\n",
    "    # threholds list 객체 내의 값을 차례로 iteration하면서 평가 수행\n",
    "    for custom_threshold in thresholds:\n",
    "        binarizer = Binarizer(threshold=custom_threshold).fit(pred_proba_c1)\n",
    "        custom_predict = binarizer.transform(pred_proba_c1)\n",
    "        print('임계값:', custom_threshold)\n",
    "        \n",
    "        get_clf_eval(y_test, custom_predict)\n",
    "        print()\n",
    "        \n",
    "get_eval_by_threshold(y_test, pred_proba[:,1].reshape(-1,1), thresholds)"
   ]
  },
  {
   "cell_type": "code",
   "execution_count": 86,
   "metadata": {},
   "outputs": [
    {
     "name": "stdout",
     "output_type": "stream",
     "text": [
      "(174,)\n",
      "[  0  15  30  45  60  75  90 105 120 135 150 165]\n",
      "임계값: [0.04 0.1  0.11 0.11 0.12 0.17 0.24 0.41 0.55 0.64 0.79 0.91]\n",
      "정밀도: [0.362 0.384 0.424 0.457 0.509 0.566 0.655 0.754 0.815 0.872 0.958 1.   ]\n",
      "재현율: [1.    0.968 0.968 0.937 0.921 0.889 0.873 0.825 0.698 0.54  0.365 0.143]\n"
     ]
    }
   ],
   "source": [
    "from sklearn.metrics import precision_recall_curve\n",
    "\n",
    "# 레이블 값이 1일때의 예측 확률을 추출\n",
    "pred_proba_class1 = LR_clf.predict_proba(X_test)[:,1]\n",
    "\n",
    "# 실제값 데이터셋과 레이블값이 1일때의 예측확률을 precision_recall_curve 인자로 입력\n",
    "precisions, recalls, thresholds = precision_recall_curve(y_test,pred_proba_class1)\n",
    "print(thresholds.shape)\n",
    "\n",
    "thr_index = np.arange(0,thresholds.shape[0],15)\n",
    "print(thr_index)\n",
    "print('임계값:',np.round(thresholds[thr_index],2))\n",
    "\n",
    "# 15 step 단위의 추출된 임계값에 따른 정밀도와 재현율 \n",
    "print('정밀도:',np.round(precisions[thr_index],3))\n",
    "print('재현율:',np.round(recalls[thr_index],3))"
   ]
  },
  {
   "cell_type": "code",
   "execution_count": 87,
   "metadata": {},
   "outputs": [
    {
     "ename": "NameError",
     "evalue": "name 'lr_clf' is not defined",
     "output_type": "error",
     "traceback": [
      "\u001b[1;31m---------------------------------------------------------------------------\u001b[0m",
      "\u001b[1;31mNameError\u001b[0m                                 Traceback (most recent call last)",
      "\u001b[1;32m<ipython-input-87-dd2e6b94a4d8>\u001b[0m in \u001b[0;36m<module>\u001b[1;34m\u001b[0m\n\u001b[0;32m     16\u001b[0m     \u001b[0mplt\u001b[0m\u001b[1;33m.\u001b[0m\u001b[0mxlabel\u001b[0m\u001b[1;33m(\u001b[0m\u001b[1;34m'Threshold value'\u001b[0m\u001b[1;33m)\u001b[0m\u001b[1;33m;\u001b[0m\u001b[0mplt\u001b[0m\u001b[1;33m.\u001b[0m\u001b[0mylabel\u001b[0m\u001b[1;33m(\u001b[0m\u001b[1;34m'Precision and Recall Value'\u001b[0m\u001b[1;33m)\u001b[0m\u001b[1;33m\u001b[0m\u001b[1;33m\u001b[0m\u001b[0m\n\u001b[0;32m     17\u001b[0m     \u001b[0mplt\u001b[0m\u001b[1;33m.\u001b[0m\u001b[0mlegend\u001b[0m\u001b[1;33m(\u001b[0m\u001b[1;33m)\u001b[0m\u001b[1;33m;\u001b[0m\u001b[0mplt\u001b[0m\u001b[1;33m.\u001b[0m\u001b[0mgrid\u001b[0m\u001b[1;33m(\u001b[0m\u001b[1;33m)\u001b[0m\u001b[1;33m\u001b[0m\u001b[1;33m\u001b[0m\u001b[0m\n\u001b[1;32m---> 18\u001b[1;33m \u001b[0mprecision_recall_curve_plot\u001b[0m\u001b[1;33m(\u001b[0m\u001b[0my_test\u001b[0m\u001b[1;33m,\u001b[0m \u001b[0mlr_clf\u001b[0m\u001b[1;33m.\u001b[0m\u001b[0mpredict_proba\u001b[0m\u001b[1;33m(\u001b[0m\u001b[0mX_test\u001b[0m\u001b[1;33m)\u001b[0m\u001b[1;33m[\u001b[0m\u001b[1;33m:\u001b[0m\u001b[1;33m,\u001b[0m\u001b[1;36m1\u001b[0m\u001b[1;33m]\u001b[0m\u001b[1;33m)\u001b[0m\u001b[1;33m\u001b[0m\u001b[1;33m\u001b[0m\u001b[0m\n\u001b[0m",
      "\u001b[1;31mNameError\u001b[0m: name 'lr_clf' is not defined"
     ]
    }
   ],
   "source": [
    "import matplotlib.pyplot as plt\n",
    "import matplotlib.ticker as ticker\n",
    "\n",
    "def precision_recall_curve_plot(y_test,pred_proba_c1):\n",
    "    precision,recalls,thresholds = precision_recall_curve(y_test,pred_proba_c1)\n",
    "    \n",
    "    plt.figure(figsize=(8,6))\n",
    "    threshold_boundary=thresholds.shape[0]\n",
    "    plt.plot(thresholds, precisions[0:threshold_boundary], linestyle='--', \\\n",
    "             label='precision')\n",
    "    plt.plot(thresholds, recalls[0:threshold_boundary],label='recall')\n",
    "    # x축 y축 label과 scale을 0.1단위로 변경\n",
    "    start, end = plt.xlim()\n",
    "    plt.xticks(np.round(np.arange(start,end,0.1),2))\n",
    "    # x축 y축 label과 legend, grid 설정\n",
    "    plt.xlabel('Threshold value');plt.ylabel('Precision and Recall Value')\n",
    "    plt.legend();plt.grid()\n",
    "precision_recall_curve_plot(y_test, lr_clf.predict_proba(X_test)[:,1])"
   ]
  },
  {
   "cell_type": "code",
   "execution_count": 66,
   "metadata": {},
   "outputs": [
    {
     "data": {
      "image/png": "[encoded data removed]",
      "text/plain": [
       "<Figure size 576x432 with 1 Axes>"
      ]
     },
     "metadata": {
      "needs_background": "light"
     },
     "output_type": "display_data"
    }
   ],
   "source": [
    "import matplotlib.pyplot as plt\n",
    "import matplotlib.ticker as ticker\n",
    "\n",
    "def precision_recall_curve_plot(y_test, pred_proba_c1):\n",
    "    precisions, recalls, thresholds = precision_recall_curve(y_test, pred_proba_c1)\n",
    "    \n",
    "    plt.figure(figsize=(8,6))\n",
    "    threshold_boundary = thresholds.shape[0]\n",
    "    plt.plot(thresholds, precisions[0:threshold_boundary], linestyle='--', label='precision')\n",
    "    \n",
    "    plt.plot(thresholds, recalls[0:threshold_boundary], label='recall')\n",
    "    \n",
    "    # x축 y축 label과 scale을 0.1단위로 변경\n",
    "    start, end = plt.xlim()\n",
    "    plt.xticks(np.round(np.arange(start, end, 0.1),2))\n",
    "    \n",
    "    # x축 y축 label과 grid설정\n",
    "    plt.xlabel('Threshold value'); plt.ylabel('Precision and Recall Curve')\n",
    "    plt.legend(), plt.grid()\n",
    "    \n",
    "precision_recall_curve_plot(y_test, LR_clf.predict_proba(X_test)[:, 1])"
   ]
  },
  {
   "cell_type": "code",
   "execution_count": null,
   "metadata": {},
   "outputs": [],
   "source": [
    "결과 해석\n",
    "임계값이 낮을수록 많은 수의 양성 예측으로 인해 재현율 값이 극도로 높아지고 정밀도 값이 낮아짐.(FN이 작아지고 FP가 커짐)\n",
    "로지스틱 회귀 기반의 타이타닉 생존자 예측 모델의 경우 임곗값이 약 0.45 지점에서 재현율과 정밀도가 비슷해지는 모습을 보임.\n",
    "단순히 하나의 성능 지표 수치를 높이기 위한 수단으로 사용하는 것은 지양하고 업무 환경에 맞게 두 개의 수치를 상호 보완할 수 있는 수준에서 적용"
   ]
  },
  {
   "cell_type": "code",
   "execution_count": null,
   "metadata": {},
   "outputs": [],
   "source": [
    "정밀도 및 재현율 활용시 유의 사항\n",
    "정밀도와 재현율 성능 수치는 어느 한쪽만 참조하면 극단적인 수치 조작이 가능\n",
    "정밀도 100%가 되는 방법: 확실한 기준이 되는 경우만 Positive로 예측하고 나머지는 모두 Negative로 예측 전체 환자 1000명중 확실한 Positive 징후만 가진 환자는 단 1명이라고 하면 이 한 명만 P로 예측하고 나머지는 모두 N으로 예측 FP는 0, TP는 1이 되며 정밀도(TP/(TP+FP)는 1/(1+0) = 1\n",
    "재현율이 100%가 되는 방법: 모든 환자를 Positive로 예측 1000명의 환자중 실제 양성인 사람이 30명 정도라도 TN이 수치에 포함되지 않고 FN은 0이므로 재현율(TP/(TP+FN)은 30/(30+0) = 1\n",
    "분류가 정밀도, 재현율 중 하나에 상대적인 중요도를 부여할 수 있지만 하나만 강조해서는 안됨\n",
    "암 예측 모델에서 재현율을 높인다고 주로 양성만 판정한다면 환자의 부담과 불평이 커지게 됨"
   ]
  },
  {
   "cell_type": "code",
   "execution_count": null,
   "metadata": {},
   "outputs": [],
   "source": [
    "OC 곡선과 AUC\n",
    "수신자 판단 곡선이라고 하며 ML의 이진 분류 모델의 예측 성능을 판단하는 중요한 평가 지표.\n",
    "FPR이 변할 때 TPR이 어떻게 변하는지를 나타내는 곡선으로 FPR은 1- 특이성(TNR), TPR은 재현율(민감도)를 나타냄.\n",
    "TNR은 TN/(TN+FP)이며 FPR은 FP/(TN+FP)임\n",
    "ROC 곡선은 FPR을 0부터 1까지 변경하면서 FPR을 구하고 이 FPR값의 변화에 따른 TPR의 변화 값을 구함.\n",
    "FPR을 0에서 1까지 변경하는 것은 Positive 예측값을 결정하는 기준인 분류 결정 임곗값을 변경하면 됨.\n",
    "FPR을 0으로 만들려면 임곗값을 1로 지정하고 반대로 FPR을 1로 만들려면 임곗값을 0으로 지정하면 됨."
   ]
  },
  {
   "cell_type": "code",
   "execution_count": 89,
   "metadata": {},
   "outputs": [
    {
     "name": "stdout",
     "output_type": "stream",
     "text": [
      "[0.93 0.66 0.63 0.51 0.38 0.27 0.12 0.11 0.02]\n",
      "[0.   0.02 0.06 0.1  0.17 0.23 0.52 0.72 1.  ]\n",
      "[0.02 0.52 0.56 0.71 0.83 0.87 0.92 0.97 1.  ]\n"
     ]
    }
   ],
   "source": [
    "import matplotlib.pyplot as plt\n",
    "from sklearn.metrics import roc_curve\n",
    "\n",
    "pred_proba_c1 = LR_clf.predict_proba(X_test)[:,1]\n",
    "fprs,tprs,thresholds = roc_curve(y_test,pred_proba_c1)\n",
    "thr_index=np.arange(1,thresholds.shape[0],5)\n",
    "print(np.round(thresholds[thr_index],2))\n",
    "print(np.round(fprs[thr_index],2))\n",
    "print(np.round(tprs[thr_index],2))"
   ]
  },
  {
   "cell_type": "code",
   "execution_count": 91,
   "metadata": {},
   "outputs": [
    {
     "data": {
      "image/png": "[encoded data removed]",
      "text/plain": [
       "<Figure size 432x288 with 1 Axes>"
      ]
     },
     "metadata": {
      "needs_background": "light"
     },
     "output_type": "display_data"
    }
   ],
   "source": [
    "# ROC_Curve는 임계값이 1에 가까운 값에서 점점 작아지면서 FPR이 점점 커지는데\n",
    "# FPR이 조금씩 커질 때 TPR은 가파르게 커짐을 알 수 있음\n",
    "# AUC가 커지려면 FPR이 작은 상태에서 얼마나 큰 TPR을 얻을 수 있느냐가 관건b\n",
    "def roc_curve_plot(y_test, pred_proba_c1):\n",
    "    # 임계값에 따른 fpr, tpr값을 반환 받음\n",
    "    fprs,tprs,thresholds = roc_curve(y_test,pred_proba_c1)\n",
    "    # roc curve를 plot 곡선으로 그림\n",
    "    plt.plot(fprs,tprs,label='ROC')\n",
    "    # 가운데 대각선 직선을 그림 \n",
    "    plt.plot([0,1],[0,1],'k--',label='Random')\n",
    "    \n",
    "    #FPR X축의 스케일을 0.1 단위로 변경, X,Y 축 설정\n",
    "    start, end = plt.xlim()\n",
    "    plt.xticks(np.round(np.arange(start,end,0.1),2))\n",
    "    plt.xlim(0,1);plt.ylim(0,1)\n",
    "    plt.xlabel('FPR(1-specificity)');plt.ylabel('TPR(Recall)')\n",
    "    plt.legend()\n",
    "roc_curve_plot(y_test,LR_clf.predict_proba(X_test)[:,1])"
   ]
  },
  {
   "cell_type": "code",
   "execution_count": 93,
   "metadata": {},
   "outputs": [
    {
     "name": "stdout",
     "output_type": "stream",
     "text": [
      "ROC AUC 값:0.8050\n"
     ]
    }
   ],
   "source": [
    "from sklearn.metrics import roc_auc_score\n",
    "pred = LR_clf.predict(X_test)\n",
    "roc_score = roc_auc_score(y_test,pred)\n",
    "print('ROC AUC 값:{0:.4f}'.format(roc_score))"
   ]
  },
  {
   "cell_type": "code",
   "execution_count": 95,
   "metadata": {},
   "outputs": [
    {
     "name": "stdout",
     "output_type": "stream",
     "text": [
      "오차행렬\n",
      "[[103  12]\n",
      " [ 18  45]]\n",
      "정확도:0.8315, 정밀도:0.7895, 재현율:0.7143,     f1 score:0.7500, AUC:0.8050\n"
     ]
    }
   ],
   "source": [
    "from sklearn.metrics import accuracy_score, precision_score, recall_score,\\\n",
    "confusion_matrix, f1_score, roc_auc_score\n",
    "\n",
    "def get_clf_eval(y_test,pred):\n",
    "    confusion = confusion_matrix(y_test,pred)\n",
    "    accuracy = accuracy_score(y_test,pred)\n",
    "    precision = precision_score(y_test,pred)\n",
    "    recall = recall_score(y_test,pred)\n",
    "    f1 = f1_score(y_test,pred)\n",
    "    roc_auc = roc_auc_score(y_test,pred)\n",
    "    print('오차행렬')\n",
    "    print(confusion)\n",
    "    print('정확도:{0:.4f}, 정밀도:{1:.4f}, 재현율:{2:.4f}, \\\n",
    "    f1 score:{3:.4f}, AUC:{4:.4f}'.format(accuracy,precision,recall,f1,roc_auc))\n",
    "    \n",
    "get_clf_eval(y_test,pred)"
   ]
  },
  {
   "cell_type": "code",
   "execution_count": null,
   "metadata": {},
   "outputs": [],
   "source": []
  }
 ],
 "metadata": {
  "kernelspec": {
   "display_name": "Python 3",
   "language": "python",
   "name": "python3"
  },
  "language_info": {
   "codemirror_mode": {
    "name": "ipython",
    "version": 3
   },
   "file_extension": ".py",
   "mimetype": "text/x-python",
   "name": "python",
   "nbconvert_exporter": "python",
   "pygments_lexer": "ipython3",
   "version": "3.7.6"
  }
 },
 "nbformat": 4,
 "nbformat_minor": 4
}
