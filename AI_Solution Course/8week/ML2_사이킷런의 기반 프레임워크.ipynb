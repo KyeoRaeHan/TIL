{
 "cells": [
  {
   "cell_type": "markdown",
   "metadata": {},
   "source": [
    "## Estimator 이해 및 fit(), predict() 메서드\n",
    "사이킷런은 ML 모델 학습을 위해서 fit()을 학습된 모델의 예측을 위해 predict() 메서드를 제공\n",
    "분류 알고리즘을 구현한 Classifier와 회귀 알고리즘을 구현한 Regressor를 제공\n",
    "Classifier와 Regressor를 합쳐서 Estimator라고 하며 Estimator 클래스는 fit()과 predict()를 내부에서 구현\n",
    "## Evaluation 함수 및 하이퍼 파라미터 튜닝\n",
    "cross_val_score()와 같은 evaluation 함수, GridSearchCV와 같은 하이터파라미터 튜닝을 지원하는 클래스의 경우 Estimator를 인자로 받는다.\n",
    "인자로 받은 Estimator에 대해서 cross_val_score(), GridSearchCV.fit() 함수 내에서 Estimator의 fit()과 predict()를 호출해서 평가를 하거나 하이퍼 파라미터 튜닝을 수행한다.\n",
    "## 비지도학습과 피처 추출에서 fit()\n",
    "사이킷런에서 비지도학습인 차원 축소, 클러스터링, 피처 추출등을 구현한 클래스 역시 대부분 fit()과 transform()을 적용한다.\n",
    "비지도학습과 피처 추출에서 fit()은 지도학습의 fit()과 같이 학습을 의미하는 것이 아니라 입력 데이터의 형태에 맞춰 데이터을 변환하기 위한 사전 구조를 맞추는 작업이다.\n",
    "fit()으로 변환을 위한 사전 구조를 맞추면 이후 입력 데이터의 차원 변환, 클러스터링, 피처 추출 등의 실제 작업은 transform()으로 수행한다.\n",
    "fit()과 transform()을 하나로 결합한 fit_transform()도 제공한다."
   ]
  },
  {
   "cell_type": "code",
   "execution_count": 53,
   "metadata": {},
   "outputs": [],
   "source": [
    "import pandas as pd\n",
    "import numpy as np"
   ]
  },
  {
   "cell_type": "code",
   "execution_count": 54,
   "metadata": {},
   "outputs": [
    {
     "data": {
      "text/html": [
       "<div>\n",
       "<style scoped>\n",
       "    .dataframe tbody tr th:only-of-type {\n",
       "        vertical-align: middle;\n",
       "    }\n",
       "\n",
       "    .dataframe tbody tr th {\n",
       "        vertical-align: top;\n",
       "    }\n",
       "\n",
       "    .dataframe thead th {\n",
       "        text-align: right;\n",
       "    }\n",
       "</style>\n",
       "<table border=\"1\" class=\"dataframe\">\n",
       "  <thead>\n",
       "    <tr style=\"text-align: right;\">\n",
       "      <th></th>\n",
       "      <th>Unnamed: 0</th>\n",
       "      <th>Survived</th>\n",
       "      <th>Pclass</th>\n",
       "      <th>Sex</th>\n",
       "      <th>Fare</th>\n",
       "      <th>Age_0</th>\n",
       "      <th>Age_1</th>\n",
       "      <th>Age_2</th>\n",
       "      <th>Age_3</th>\n",
       "      <th>Age_4</th>\n",
       "      <th>Embark_0</th>\n",
       "      <th>Embark_1</th>\n",
       "      <th>Embark_2</th>\n",
       "      <th>Family_0</th>\n",
       "      <th>Family_1</th>\n",
       "      <th>Family_2</th>\n",
       "    </tr>\n",
       "  </thead>\n",
       "  <tbody>\n",
       "    <tr>\n",
       "      <th>0</th>\n",
       "      <td>0</td>\n",
       "      <td>0</td>\n",
       "      <td>3</td>\n",
       "      <td>1</td>\n",
       "      <td>1</td>\n",
       "      <td>1</td>\n",
       "      <td>0</td>\n",
       "      <td>0</td>\n",
       "      <td>0</td>\n",
       "      <td>0</td>\n",
       "      <td>0</td>\n",
       "      <td>0</td>\n",
       "      <td>1</td>\n",
       "      <td>0</td>\n",
       "      <td>0</td>\n",
       "      <td>1</td>\n",
       "    </tr>\n",
       "    <tr>\n",
       "      <th>1</th>\n",
       "      <td>1</td>\n",
       "      <td>1</td>\n",
       "      <td>1</td>\n",
       "      <td>0</td>\n",
       "      <td>2</td>\n",
       "      <td>1</td>\n",
       "      <td>0</td>\n",
       "      <td>0</td>\n",
       "      <td>0</td>\n",
       "      <td>0</td>\n",
       "      <td>1</td>\n",
       "      <td>0</td>\n",
       "      <td>0</td>\n",
       "      <td>0</td>\n",
       "      <td>0</td>\n",
       "      <td>1</td>\n",
       "    </tr>\n",
       "    <tr>\n",
       "      <th>2</th>\n",
       "      <td>2</td>\n",
       "      <td>1</td>\n",
       "      <td>3</td>\n",
       "      <td>0</td>\n",
       "      <td>1</td>\n",
       "      <td>1</td>\n",
       "      <td>0</td>\n",
       "      <td>0</td>\n",
       "      <td>0</td>\n",
       "      <td>0</td>\n",
       "      <td>0</td>\n",
       "      <td>0</td>\n",
       "      <td>1</td>\n",
       "      <td>1</td>\n",
       "      <td>0</td>\n",
       "      <td>0</td>\n",
       "    </tr>\n",
       "    <tr>\n",
       "      <th>3</th>\n",
       "      <td>3</td>\n",
       "      <td>1</td>\n",
       "      <td>1</td>\n",
       "      <td>0</td>\n",
       "      <td>2</td>\n",
       "      <td>1</td>\n",
       "      <td>0</td>\n",
       "      <td>0</td>\n",
       "      <td>0</td>\n",
       "      <td>0</td>\n",
       "      <td>0</td>\n",
       "      <td>0</td>\n",
       "      <td>1</td>\n",
       "      <td>0</td>\n",
       "      <td>0</td>\n",
       "      <td>1</td>\n",
       "    </tr>\n",
       "    <tr>\n",
       "      <th>4</th>\n",
       "      <td>4</td>\n",
       "      <td>0</td>\n",
       "      <td>3</td>\n",
       "      <td>1</td>\n",
       "      <td>1</td>\n",
       "      <td>1</td>\n",
       "      <td>0</td>\n",
       "      <td>0</td>\n",
       "      <td>0</td>\n",
       "      <td>0</td>\n",
       "      <td>0</td>\n",
       "      <td>0</td>\n",
       "      <td>1</td>\n",
       "      <td>1</td>\n",
       "      <td>0</td>\n",
       "      <td>0</td>\n",
       "    </tr>\n",
       "  </tbody>\n",
       "</table>\n",
       "</div>"
      ],
      "text/plain": [
       "   Unnamed: 0  Survived  Pclass  Sex  Fare  Age_0  Age_1  Age_2  Age_3  Age_4  \\\n",
       "0           0         0       3    1     1      1      0      0      0      0   \n",
       "1           1         1       1    0     2      1      0      0      0      0   \n",
       "2           2         1       3    0     1      1      0      0      0      0   \n",
       "3           3         1       1    0     2      1      0      0      0      0   \n",
       "4           4         0       3    1     1      1      0      0      0      0   \n",
       "\n",
       "   Embark_0  Embark_1  Embark_2  Family_0  Family_1  Family_2  \n",
       "0         0         0         1         0         0         1  \n",
       "1         1         0         0         0         0         1  \n",
       "2         0         0         1         1         0         0  \n",
       "3         0         0         1         0         0         1  \n",
       "4         0         0         1         1         0         0  "
      ]
     },
     "execution_count": 54,
     "metadata": {},
     "output_type": "execute_result"
    }
   ],
   "source": [
    "df = pd.read_csv('./dataset/tdf4.csv')\n",
    "df.head()"
   ]
  },
  {
   "cell_type": "code",
   "execution_count": 58,
   "metadata": {},
   "outputs": [],
   "source": [
    "from sklearn import preprocessing\n",
    "from sklearn.model_selection import train_test_split\n",
    "\n",
    "# 독립변수, 종속변수 분리\n",
    "y = df['Survived']\n",
    "X = df.drop('Survived',axis=1)\n",
    "# 학습용 테이터와 평가용 데이터를 8:2로 분리\n",
    "X_train, X_test, y_train, y_test = train_test_split(X, y, test_size=0.2, random_state=10) "
   ]
  },
  {
   "cell_type": "code",
   "execution_count": 59,
   "metadata": {},
   "outputs": [
    {
     "name": "stdout",
     "output_type": "stream",
     "text": [
      "rf 예측 정확도 : 0.7921348314606742\n"
     ]
    }
   ],
   "source": [
    "# DecisionTreeClassifier\n",
    "from sklearn.metrics import accuracy_score\n",
    "from sklearn.tree import DecisionTreeClassifier\n",
    "\n",
    "df_clf = DecisionTreeClassifier()\n",
    "df_clf.fit(X_train, y_train)\n",
    "df_clf_pred = df_clf.predict(X_test)\n",
    "\n",
    "rf_accuracy = accuracy_score(y_test, df_clf_pred)\n",
    "print('rf 예측 정확도 :', rf_accuracy)"
   ]
  },
  {
   "cell_type": "code",
   "execution_count": 57,
   "metadata": {},
   "outputs": [
    {
     "name": "stdout",
     "output_type": "stream",
     "text": [
      "교차 검증 0 정확도:  0.8202\n",
      "교차 검증 1 정확도:  0.5955\n",
      "교차 검증 2 정확도:  0.7640\n",
      "교차 검증 3 정확도:  0.7472\n",
      "교차 검증 4 정확도:  0.3729\n",
      "평균 정확도: 0.659970\n"
     ]
    }
   ],
   "source": [
    "from sklearn.model_selection import KFold\n",
    "def exec_kfold(clf, folds=5):\n",
    "# 폴드 세트 5개인 kfold 객체를 생성, 폴드 수만큼 예측 결과 저장을 위한 리스트 생성\n",
    "    kfold = KFold(n_splits=folds)\n",
    "    scores = []\n",
    "    \n",
    "# KFold 교차검증 수행\n",
    "    for iter_count, (train_index, test_index) in enumerate(kfold.split(df)):\n",
    "        X_train, X_test = X.values[train_index], X.values[test_index]\n",
    "        y_train, y_test = y.values[train_index], y.values[test_index]\n",
    "        \n",
    "# classifier 학습, 예측, 정확도 계산\n",
    "        clf.fit(X_train, y_train)\n",
    "        pred = clf.predict(X_test)\n",
    "        accuracy = accuracy_score(y_test, pred)\n",
    "        scores.append(accuracy)\n",
    "        print(\"교차 검증 {0} 정확도: {1: .4f}\".format(iter_count, accuracy))\n",
    "        \n",
    "# 5eo fold에서의 평균 정확도 계산\n",
    "    mean_score = np.mean(scores)\n",
    "    print(\"평균 정확도:{0: 4f}\".format(mean_score))\n",
    "    \n",
    "# exec_fold 호출\n",
    "exec_kfold(df_clf, folds=5)"
   ]
  },
  {
   "cell_type": "code",
   "execution_count": 60,
   "metadata": {},
   "outputs": [
    {
     "name": "stdout",
     "output_type": "stream",
     "text": [
      "GCV 최적 하이퍼 파라미터 {'max_depth': 3, 'min_samples_leaf': 1, 'min_samples_split': 2}\n",
      "GCV 최고 정확도: 0.8143\n",
      "DT 정확도  0.831461\n"
     ]
    }
   ],
   "source": [
    "# 과적합이 일어나는 것을 방지하기 위해 깊이를 조정해준다\n",
    "from sklearn.model_selection import GridSearchCV\n",
    "parameters = {'max_depth': [2,3,5,10], 'min_samples_split':[2,3,5], \n",
    "             'min_samples_leaf':[1,5,8]}\n",
    "\n",
    "# cv = cross validation의 약어\n",
    "grid_dclf = GridSearchCV(df_clf, param_grid=parameters, scoring='accuracy', cv=5)\n",
    "grid_dclf.fit(X_train, y_train)\n",
    "print('GCV 최적 하이퍼 파라미터', grid_dclf.best_params_)\n",
    "print('GCV 최고 정확도:{0: .4f}'.format(grid_dclf.best_score_))\n",
    "best_dclf = grid_dclf.best_estimator_\n",
    "\n",
    "# GridSearchCV의 최적 하이퍼 파라미터로 학습된 Estimator로 예측 및 평가 수행\n",
    "dpred = best_dclf.predict(X_test)\n",
    "accuracy = accuracy_score(y_test, dpred)\n",
    "print('DT 정확도 {0: 4f}'.format(accuracy))"
   ]
  },
  {
   "cell_type": "code",
   "execution_count": null,
   "metadata": {},
   "outputs": [],
   "source": []
  }
 ],
 "metadata": {
  "kernelspec": {
   "display_name": "Python 3",
   "language": "python",
   "name": "python3"
  },
  "language_info": {
   "codemirror_mode": {
    "name": "ipython",
    "version": 3
   },
   "file_extension": ".py",
   "mimetype": "text/x-python",
   "name": "python",
   "nbconvert_exporter": "python",
   "pygments_lexer": "ipython3",
   "version": "3.7.6"
  }
 },
 "nbformat": 4,
 "nbformat_minor": 4
}
