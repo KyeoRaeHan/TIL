{
 "cells": [
  {
   "cell_type": "code",
   "execution_count": 1,
   "metadata": {},
   "outputs": [],
   "source": [
    "import pandas as pd\n",
    "import numpy as np\n",
    "import matplotlib.pyplot as plt\n",
    "import seaborn as sns\n",
    "import warnings\n",
    "from sklearn.datasets import load_boston"
   ]
  },
  {
   "cell_type": "code",
   "execution_count": 2,
   "metadata": {},
   "outputs": [
    {
     "data": {
      "text/plain": [
       "dict_keys(['data', 'target', 'feature_names', 'DESCR', 'filename'])"
      ]
     },
     "execution_count": 2,
     "metadata": {},
     "output_type": "execute_result"
    }
   ],
   "source": [
    "house = load_boston()\n",
    "house.keys()"
   ]
  },
  {
   "cell_type": "code",
   "execution_count": 3,
   "metadata": {},
   "outputs": [],
   "source": [
    "house_df = pd.DataFrame(data=house.data, columns=house.feature_names)\n",
    "house_df['PRICE'] = house.target\n",
    "house_df.to_pickle('dataset/house_df.pkl')"
   ]
  },
  {
   "cell_type": "code",
   "execution_count": 4,
   "metadata": {},
   "outputs": [
    {
     "data": {
      "text/html": [
       "<div>\n",
       "<style scoped>\n",
       "    .dataframe tbody tr th:only-of-type {\n",
       "        vertical-align: middle;\n",
       "    }\n",
       "\n",
       "    .dataframe tbody tr th {\n",
       "        vertical-align: top;\n",
       "    }\n",
       "\n",
       "    .dataframe thead th {\n",
       "        text-align: right;\n",
       "    }\n",
       "</style>\n",
       "<table border=\"1\" class=\"dataframe\">\n",
       "  <thead>\n",
       "    <tr style=\"text-align: right;\">\n",
       "      <th></th>\n",
       "      <th>CRIM</th>\n",
       "      <th>ZN</th>\n",
       "      <th>INDUS</th>\n",
       "      <th>CHAS</th>\n",
       "      <th>NOX</th>\n",
       "      <th>RM</th>\n",
       "      <th>AGE</th>\n",
       "      <th>DIS</th>\n",
       "      <th>RAD</th>\n",
       "      <th>TAX</th>\n",
       "      <th>PTRATIO</th>\n",
       "      <th>B</th>\n",
       "      <th>LSTAT</th>\n",
       "      <th>PRICE</th>\n",
       "    </tr>\n",
       "  </thead>\n",
       "  <tbody>\n",
       "    <tr>\n",
       "      <th>0</th>\n",
       "      <td>0.00632</td>\n",
       "      <td>18.0</td>\n",
       "      <td>2.31</td>\n",
       "      <td>0.0</td>\n",
       "      <td>0.538</td>\n",
       "      <td>6.575</td>\n",
       "      <td>65.2</td>\n",
       "      <td>4.0900</td>\n",
       "      <td>1.0</td>\n",
       "      <td>296.0</td>\n",
       "      <td>15.3</td>\n",
       "      <td>396.90</td>\n",
       "      <td>4.98</td>\n",
       "      <td>24.0</td>\n",
       "    </tr>\n",
       "    <tr>\n",
       "      <th>1</th>\n",
       "      <td>0.02731</td>\n",
       "      <td>0.0</td>\n",
       "      <td>7.07</td>\n",
       "      <td>0.0</td>\n",
       "      <td>0.469</td>\n",
       "      <td>6.421</td>\n",
       "      <td>78.9</td>\n",
       "      <td>4.9671</td>\n",
       "      <td>2.0</td>\n",
       "      <td>242.0</td>\n",
       "      <td>17.8</td>\n",
       "      <td>396.90</td>\n",
       "      <td>9.14</td>\n",
       "      <td>21.6</td>\n",
       "    </tr>\n",
       "    <tr>\n",
       "      <th>2</th>\n",
       "      <td>0.02729</td>\n",
       "      <td>0.0</td>\n",
       "      <td>7.07</td>\n",
       "      <td>0.0</td>\n",
       "      <td>0.469</td>\n",
       "      <td>7.185</td>\n",
       "      <td>61.1</td>\n",
       "      <td>4.9671</td>\n",
       "      <td>2.0</td>\n",
       "      <td>242.0</td>\n",
       "      <td>17.8</td>\n",
       "      <td>392.83</td>\n",
       "      <td>4.03</td>\n",
       "      <td>34.7</td>\n",
       "    </tr>\n",
       "    <tr>\n",
       "      <th>3</th>\n",
       "      <td>0.03237</td>\n",
       "      <td>0.0</td>\n",
       "      <td>2.18</td>\n",
       "      <td>0.0</td>\n",
       "      <td>0.458</td>\n",
       "      <td>6.998</td>\n",
       "      <td>45.8</td>\n",
       "      <td>6.0622</td>\n",
       "      <td>3.0</td>\n",
       "      <td>222.0</td>\n",
       "      <td>18.7</td>\n",
       "      <td>394.63</td>\n",
       "      <td>2.94</td>\n",
       "      <td>33.4</td>\n",
       "    </tr>\n",
       "    <tr>\n",
       "      <th>4</th>\n",
       "      <td>0.06905</td>\n",
       "      <td>0.0</td>\n",
       "      <td>2.18</td>\n",
       "      <td>0.0</td>\n",
       "      <td>0.458</td>\n",
       "      <td>7.147</td>\n",
       "      <td>54.2</td>\n",
       "      <td>6.0622</td>\n",
       "      <td>3.0</td>\n",
       "      <td>222.0</td>\n",
       "      <td>18.7</td>\n",
       "      <td>396.90</td>\n",
       "      <td>5.33</td>\n",
       "      <td>36.2</td>\n",
       "    </tr>\n",
       "  </tbody>\n",
       "</table>\n",
       "</div>"
      ],
      "text/plain": [
       "      CRIM    ZN  INDUS  CHAS    NOX     RM   AGE     DIS  RAD    TAX  \\\n",
       "0  0.00632  18.0   2.31   0.0  0.538  6.575  65.2  4.0900  1.0  296.0   \n",
       "1  0.02731   0.0   7.07   0.0  0.469  6.421  78.9  4.9671  2.0  242.0   \n",
       "2  0.02729   0.0   7.07   0.0  0.469  7.185  61.1  4.9671  2.0  242.0   \n",
       "3  0.03237   0.0   2.18   0.0  0.458  6.998  45.8  6.0622  3.0  222.0   \n",
       "4  0.06905   0.0   2.18   0.0  0.458  7.147  54.2  6.0622  3.0  222.0   \n",
       "\n",
       "   PTRATIO       B  LSTAT  PRICE  \n",
       "0     15.3  396.90   4.98   24.0  \n",
       "1     17.8  396.90   9.14   21.6  \n",
       "2     17.8  392.83   4.03   34.7  \n",
       "3     18.7  394.63   2.94   33.4  \n",
       "4     18.7  396.90   5.33   36.2  "
      ]
     },
     "execution_count": 4,
     "metadata": {},
     "output_type": "execute_result"
    }
   ],
   "source": [
    "house_df = pd.read_pickle('dataset/house_df.pkl')\n",
    "house_df.head()"
   ]
  },
  {
   "cell_type": "code",
   "execution_count": 7,
   "metadata": {},
   "outputs": [
    {
     "name": "stdout",
     "output_type": "stream",
     "text": [
      "MSE : 19.831, RMSE : 4.453, R2 score : 0.784\n",
      "절편 값 :  46.39649387182395\n",
      "회귀 계수값 :  [ -0.1   0.1   0.1   2.4 -21.5   2.8   0.   -1.5   0.3  -0.   -1.    0.\n",
      "  -0.6]\n"
     ]
    }
   ],
   "source": [
    "from sklearn.model_selection import train_test_split\n",
    "from sklearn.linear_model import LinearRegression\n",
    "from sklearn.metrics import mean_squared_error, r2_score\n",
    "\n",
    "y_target = house_df['PRICE']\n",
    "X_data = house_df.drop(['PRICE'], axis=1)\n",
    "# X_data = house_df[['RM', 'ZN', 'INDUS', 'NOX', 'AGE', 'PTRATIO', \\\n",
    "#                    'LSTAT','RAD']]\n",
    "\n",
    "X_train, X_test, y_train, y_test = \\\n",
    "train_test_split(X_data,y_target,test_size=0.3,random_state=1)\n",
    "\n",
    "lr = LinearRegression()\n",
    "lr.fit(X_train,y_train)\n",
    "y_pred = lr.predict(X_test)\n",
    "\n",
    "mse = mean_squared_error(y_test, y_pred)\n",
    "rmse = np.sqrt(mse)\n",
    "r2 = r2_score(y_test,y_pred)\n",
    "print('MSE : {:.3f}, RMSE : {:.3f}, R2 score : {:.3f}'.format(mse,rmse,r2))\n",
    "print('절편 값 : ', lr.intercept_)\n",
    "print('회귀 계수값 : ',np.round(lr.coef_, 1))"
   ]
  },
  {
   "cell_type": "code",
   "execution_count": 9,
   "metadata": {},
   "outputs": [
    {
     "data": {
      "text/plain": [
       "<matplotlib.axes._subplots.AxesSubplot at 0x138a18b0cc8>"
      ]
     },
     "execution_count": 9,
     "metadata": {},
     "output_type": "execute_result"
    },
    {
     "data": {
      "image/png": "[encoded data removed]",
      "text/plain": [
       "<Figure size 432x288 with 1 Axes>"
      ]
     },
     "metadata": {
      "needs_background": "light"
     },
     "output_type": "display_data"
    }
   ],
   "source": [
    "import warnings\n",
    "warnings.filterwarnings('ignore')\n",
    "sns.distplot(house_df.PRICE)"
   ]
  },
  {
   "cell_type": "code",
   "execution_count": null,
   "metadata": {},
   "outputs": [],
   "source": [
    "# 데이터왜곡: 데이터가 정규성에서 벗어난다는 의미\n",
    "# 로그 변환을 통해 데이터 왜곡을 완화시킬 수 있다."
   ]
  },
  {
   "cell_type": "code",
   "execution_count": 10,
   "metadata": {},
   "outputs": [
    {
     "data": {
      "text/plain": [
       "<matplotlib.axes._subplots.AxesSubplot at 0x138a1500948>"
      ]
     },
     "execution_count": 10,
     "metadata": {},
     "output_type": "execute_result"
    },
    {
     "data": {
      "image/png": "[encoded data removed]",
      "text/plain": [
       "<Figure size 432x288 with 1 Axes>"
      ]
     },
     "metadata": {
      "needs_background": "light"
     },
     "output_type": "display_data"
    }
   ],
   "source": [
    "#종속변수를 로그변환하여 데이터의 왜곡을 잡아주고, 정규성을 확보\n",
    "sns.distplot(np.log1p(house_df.PRICE))"
   ]
  },
  {
   "cell_type": "code",
   "execution_count": 12,
   "metadata": {},
   "outputs": [
    {
     "data": {
      "text/plain": [
       "<matplotlib.axes._subplots.AxesSubplot at 0x138a1569a08>"
      ]
     },
     "execution_count": 12,
     "metadata": {},
     "output_type": "execute_result"
    },
    {
     "data": {
      "image/png": "[encoded data removed]",
      "text/plain": [
       "<Figure size 720x720 with 2 Axes>"
      ]
     },
     "metadata": {
      "needs_background": "light"
     },
     "output_type": "display_data"
    }
   ],
   "source": [
    "house_df['LPRICE'] = np.log1p(house_df.PRICE)\n",
    "plt.figure(figsize=(10,10))\n",
    "sns.heatmap(house_df.corr(),annot=True)"
   ]
  },
  {
   "cell_type": "code",
   "execution_count": 13,
   "metadata": {},
   "outputs": [
    {
     "name": "stdout",
     "output_type": "stream",
     "text": [
      "MSE : 26.286, RMSE : 5.127, R2 score : 0.713\n",
      "절편 값 :  3.95274293214216\n",
      "회귀 계수값 :  [ 0.1  0.  -0.5 -0.  -0.   0. ]\n"
     ]
    }
   ],
   "source": [
    "# 종속변수 로그 변환 및 독립변수 선택\n",
    "import seaborn as sns\n",
    "# sns.distplot(house_df.PRICE)\n",
    "X=house_df[['RM', 'INDUS', 'NOX', 'PTRATIO', 'LSTAT','RAD']]\n",
    "y=house_df['PRICE']\n",
    "y_log = np.log1p(house_df['PRICE'])\n",
    "\n",
    "X_train, X_test, y_train, y_test = \\\n",
    "train_test_split(X,y_log,test_size=0.3,random_state=1)\n",
    "\n",
    "lr = LinearRegression()\n",
    "lr.fit(X_train,y_train)\n",
    "y_pred = lr.predict(X_test)\n",
    "\n",
    "# 로그변환된 것을 환원\n",
    "y_exp = np.expm1(y_test)\n",
    "y_pexp = np.expm1(y_pred)\n",
    "\n",
    "mse = mean_squared_error(y_exp, y_pexp)\n",
    "rmse = np.sqrt(mse)\n",
    "\n",
    "r2 = r2_score(y_exp,y_pexp)\n",
    "print('MSE : {:.3f}, RMSE : {:.3f}, R2 score : {:.3f}'.format(mse,rmse,r2))\n",
    "print('절편 값 : ', lr.intercept_)\n",
    "print('회귀 계수값 : ',np.round(lr.coef_, 1))"
   ]
  },
  {
   "cell_type": "code",
   "execution_count": 14,
   "metadata": {},
   "outputs": [
    {
     "name": "stdout",
     "output_type": "stream",
     "text": [
      "5 folds의 개별 Negative MSE scores: [ -1.06  -4.08  -6.55 -14.29 -11.54]\n",
      "5 folds의 개별 RMSE scores: [1.03 2.02 2.56 3.78 3.4 ]\n",
      "5 folds의 평균 RMSE:2.5576\n"
     ]
    }
   ],
   "source": [
    "# 교차검증\n",
    "from sklearn.model_selection import cross_val_score\n",
    "\n",
    "y_target = house_df['PRICE']\n",
    "X_data = house_df.drop(['PRICE'], axis=1)\n",
    "\n",
    "lr = LinearRegression()\n",
    "\n",
    "# neg: 마이너스(-) 처리를 의미\n",
    "# ex) mse 7.5, mse 100 둘 중에 mse 7.5가 더 좋은 값.\n",
    "# But, cross_val_score는 높은 값일수록 좋다고 판단, \n",
    "# 그래서 mse 100이 더 좋은 값으로 판단한다. 이를 방지하기 위해,\n",
    "# 'scoring = neg ~'를 사용하여 -7.5, -100으로 만들어줘서, \n",
    "# mse 7.5값이 더 좋은 값으로 판단하도록 만들어준다\n",
    "neg_mse_scores = cross_val_score(lr, X_data, y_target, \\\n",
    "                                 scoring='neg_mean_squared_error', cv=5)\n",
    "\n",
    "# 마이너스 처리한 걸 다시 돌려주어야하기때문에 -1 곱함\n",
    "rmse_scores = np.sqrt(-1*neg_mse_scores)\n",
    "avg_rmse = np.mean(rmse_scores)\n",
    "\n",
    "print('5 folds의 개별 Negative MSE scores:', np.round(neg_mse_scores,2))\n",
    "print('5 folds의 개별 RMSE scores:', np.round(rmse_scores,2))\n",
    "print('5 folds의 평균 RMSE:{:.4f}'.format(avg_rmse))"
   ]
  },
  {
   "cell_type": "markdown",
   "metadata": {},
   "source": [
    "### 규제 선형 모델 - 릿지, 라쏘, 엘라스틱넷\n",
    "- 회귀 모델은 적절히 데이터에 적합하면서도 회귀 계수가 기하급수적으로 커지는 것을 제어할 필요가 있음\n",
    "- 선형 모형의 비용함수는 RSS(실제 값과 예측값의 차이)를 최소화하는 것만 고려한 결과 테스트 데이터 세트 예측 성능 저하 초래\n",
    "- RSS 최소화 방법과 과적합을 방지하기 위해 회귀 계수 값이 커지지 않도록 하는 방법이 서로 균형을 이루게 해야 함(최적모델을 위한 Cost 함수 구성요소 = 학습데이터 잔차 오류 최소화 + 회귀계수 크기 제어)\n",
    "- 회귀 계수 값의 크기를 조절하기 위하여 비용 함수에 알파 값으로 패널티를 부여해 과적합을 개선하는 방식을 규제라고 함\n",
    "alpha값을 크게 하면 비용 함수는 회귀 계수 W의 값을 작게 해 과적합을 개선할 수 있으며 alpha값을 작게 하면 회귀 계수 W의 값이 커져도 어느정도 상쇄가 가능하므로 학습데이터 적합을 더 개선\n",
    "- 비용함수에 alpha값으로 패널티를 부여해 회귀 계수 값의 크기를 감소시켜 과적합을 개선하는 방식을 규제라고 한다.\n",
    "- 규제는 크게 L2 방식과 L1 방식으로 구분되며 전자를 적용한 회귀를 릿지, 후자를 적용한 것이 라쏘임\n",
    "- L2는 W의 제곱에 패널티를 부여하며 L1은 W의 절댓값에 패널티 부여\n",
    "- 엘리스틱넷 회귀는 L2 규제와 L1 규제를 결합한 회귀"
   ]
  },
  {
   "cell_type": "code",
   "execution_count": 23,
   "metadata": {},
   "outputs": [],
   "source": [
    "from IPython.display import Image"
   ]
  },
  {
   "cell_type": "code",
   "execution_count": 24,
   "metadata": {},
   "outputs": [
    {
     "data": {
      "image/jpeg": "[encoded data removed]",
      "text/plain": [
       "<IPython.core.display.Image object>"
      ]
     },
     "execution_count": 24,
     "metadata": {},
     "output_type": "execute_result"
    }
   ],
   "source": [
    "Image(\"C:/Users/user/Desktop/caba_2015_필기/day44/고차방정식.jpg\")"
   ]
  },
  {
   "cell_type": "markdown",
   "metadata": {},
   "source": [
    "- 회귀계수가 커지면 학습 데이터에만 너무 적합돼(과적합) 평가용 데이터에서는 형편없는 예측성능을 보인다.\n",
    "- 회귀 모델은 적절히 데이터에 적합하면서도 회귀 계수가 기하급수적으로 커지는 것을 제어할 수 있어야 한다.\n",
    "- 비용함수에 Alpha값으로 페널티를 부여해 회귀 계수 값의 크기를 감소시켜 과적합을 개선하는 방식을 규제(Regularization)라고 한다."
   ]
  },
  {
   "cell_type": "markdown",
   "metadata": {},
   "source": [
    "### 릿지 회귀\n",
    "- alpha L2 규제 계수에 해당\n",
    "- 릿지 회귀는 alpha 값이 커질수록 회귀 계수 값을 작게 만든다.\n",
    "- 릿지 회귀는 회귀 계수를 작게 만들지만, 0으로 만들지는 않는다."
   ]
  },
  {
   "cell_type": "code",
   "execution_count": 15,
   "metadata": {},
   "outputs": [
    {
     "name": "stdout",
     "output_type": "stream",
     "text": [
      "5 folds의 개별 Negative MSE scores : [ -2.946  -8.763 -11.529 -32.437 -10.377]\n",
      "5 folds의 개별 RMSE scores : [1.716 2.96  3.395 5.695 3.221]\n",
      "5 folds의 평균 RMSE scores : 3.398\n"
     ]
    }
   ],
   "source": [
    "# 릿지 회귀\n",
    "from sklearn.linear_model import Ridge\n",
    "\n",
    "y_target = house_df['PRICE']\n",
    "X_data = house_df.drop(['PRICE'],axis=1)\n",
    "# 10은 릿지 회귀의 alpha L2 규제 계수에 해당\n",
    "ridge = Ridge(alpha=10)\n",
    "neg_mse_scores = cross_val_score(ridge, X_data, y_target,\\\n",
    "                                scoring=\"neg_mean_squared_error\"\\\n",
    "                                ,cv=5)\n",
    "rmse_scores = np.sqrt(-1*neg_mse_scores)\n",
    "avg_rmse = np.mean(rmse_scores)\n",
    "print('5 folds의 개별 Negative MSE scores :', np.round(neg_mse_scores,3))\n",
    "print('5 folds의 개별 RMSE scores :', np.round(rmse_scores,3))\n",
    "print('5 folds의 평균 RMSE scores : {0:.3f}'.format(avg_rmse))"
   ]
  },
  {
   "cell_type": "code",
   "execution_count": 17,
   "metadata": {},
   "outputs": [
    {
     "name": "stdout",
     "output_type": "stream",
     "text": [
      "alpha 0일 때 5 folds의 평균 RMSE :2.5576\n",
      "alpha 0.1일 때 5 folds의 평균 RMSE :2.5608\n",
      "alpha 1일 때 5 folds의 평균 RMSE :2.6147\n",
      "alpha 10일 때 5 folds의 평균 RMSE :3.3977\n",
      "alpha 100일 때 5 folds의 평균 RMSE :4.8170\n"
     ]
    }
   ],
   "source": [
    "alphas = [0, 0.1, 1, 10, 100]\n",
    "for alpha in alphas:\n",
    "    ridge = Ridge(alpha=alpha)\n",
    "    neg_mse_scores = cross_val_score(ridge, X_data, y_target, \\\n",
    "                                    scoring='neg_mean_squared_error', cv=5)\n",
    "    avg_rmse=np.mean(np.sqrt(-1*neg_mse_scores))\n",
    "    print('alpha {}일 때 5 folds의 평균 RMSE :{:.4f}'.format(alpha, avg_rmse))"
   ]
  },
  {
   "cell_type": "code",
   "execution_count": 33,
   "metadata": {},
   "outputs": [
    {
     "data": {
      "text/plain": [
       "array([-6.88072705e-02,  4.93788310e-02, -5.04155661e-02,  5.55192811e-01,\n",
       "       -2.22767448e-01,  2.11999931e+00,  1.43828385e-03, -1.02568313e+00,\n",
       "        2.67296186e-01, -1.32462147e-02, -7.18311340e-01,  7.84680735e-03,\n",
       "       -5.46929468e-01,  3.69185320e+00])"
      ]
     },
     "execution_count": 33,
     "metadata": {},
     "output_type": "execute_result"
    }
   ],
   "source": [
    "ridge.coef_"
   ]
  },
  {
   "cell_type": "code",
   "execution_count": 18,
   "metadata": {},
   "outputs": [
    {
     "data": {
      "image/png": "[encoded data removed]",
      "text/plain": [
       "<Figure size 1296x432 with 5 Axes>"
      ]
     },
     "metadata": {
      "needs_background": "light"
     },
     "output_type": "display_data"
    }
   ],
   "source": [
    "fig, axs = plt.subplots(figsize=(18,6), nrows=1, ncols=5)\n",
    "coeff_df = pd.DataFrame()\n",
    "\n",
    "for pos, alpha in enumerate(alphas):\n",
    "    ridge = Ridge(alpha=alpha)\n",
    "    ridge.fit(X_data,y_target)\n",
    "    \n",
    "    coeff = pd.Series(data=ridge.coef_, index=X_data.columns)\n",
    "    colname = 'alpha:'+str(alpha)\n",
    "    coeff_df[colname] = coeff\n",
    "    \n",
    "    coeff = coeff.sort_values(ascending=False)\n",
    "    axs[pos].set_title(colname)\n",
    "    axs[pos].set_xlim(-3,6)\n",
    "    sns.barplot(x=coeff.values, y=coeff.index,ax=axs[pos])"
   ]
  },
  {
   "cell_type": "code",
   "execution_count": null,
   "metadata": {},
   "outputs": [],
   "source": [
    "# 그래프를 보니, 회귀계수들이 알파가 올라갈수록 점점 줄어든다"
   ]
  },
  {
   "cell_type": "code",
   "execution_count": 26,
   "metadata": {},
   "outputs": [
    {
     "data": {
      "text/html": [
       "<div>\n",
       "<style scoped>\n",
       "    .dataframe tbody tr th:only-of-type {\n",
       "        vertical-align: middle;\n",
       "    }\n",
       "\n",
       "    .dataframe tbody tr th {\n",
       "        vertical-align: top;\n",
       "    }\n",
       "\n",
       "    .dataframe thead th {\n",
       "        text-align: right;\n",
       "    }\n",
       "</style>\n",
       "<table border=\"1\" class=\"dataframe\">\n",
       "  <thead>\n",
       "    <tr style=\"text-align: right;\">\n",
       "      <th></th>\n",
       "      <th>alpha:0</th>\n",
       "      <th>alpha:0.1</th>\n",
       "      <th>alpha:1</th>\n",
       "      <th>alpha:10</th>\n",
       "      <th>alpha:100</th>\n",
       "    </tr>\n",
       "  </thead>\n",
       "  <tbody>\n",
       "    <tr>\n",
       "      <th>LPRICE</th>\n",
       "      <td>23.780849</td>\n",
       "      <td>23.634189</td>\n",
       "      <td>22.414891</td>\n",
       "      <td>14.978288</td>\n",
       "      <td>3.691853</td>\n",
       "    </tr>\n",
       "    <tr>\n",
       "      <th>RM</th>\n",
       "      <td>1.665720</td>\n",
       "      <td>1.677817</td>\n",
       "      <td>1.780097</td>\n",
       "      <td>2.346626</td>\n",
       "      <td>2.119999</td>\n",
       "    </tr>\n",
       "    <tr>\n",
       "      <th>CHAS</th>\n",
       "      <td>0.389320</td>\n",
       "      <td>0.402147</td>\n",
       "      <td>0.502316</td>\n",
       "      <td>0.910345</td>\n",
       "      <td>0.555193</td>\n",
       "    </tr>\n",
       "    <tr>\n",
       "      <th>LSTAT</th>\n",
       "      <td>0.123375</td>\n",
       "      <td>0.119275</td>\n",
       "      <td>0.084767</td>\n",
       "      <td>-0.134681</td>\n",
       "      <td>-0.546929</td>\n",
       "    </tr>\n",
       "    <tr>\n",
       "      <th>CRIM</th>\n",
       "      <td>0.114185</td>\n",
       "      <td>0.112817</td>\n",
       "      <td>0.101601</td>\n",
       "      <td>0.034193</td>\n",
       "      <td>-0.068807</td>\n",
       "    </tr>\n",
       "    <tr>\n",
       "      <th>ZN</th>\n",
       "      <td>0.018940</td>\n",
       "      <td>0.019117</td>\n",
       "      <td>0.020634</td>\n",
       "      <td>0.030605</td>\n",
       "      <td>0.049379</td>\n",
       "    </tr>\n",
       "    <tr>\n",
       "      <th>TAX</th>\n",
       "      <td>0.001702</td>\n",
       "      <td>0.001612</td>\n",
       "      <td>0.000844</td>\n",
       "      <td>-0.004202</td>\n",
       "      <td>-0.013246</td>\n",
       "    </tr>\n",
       "    <tr>\n",
       "      <th>B</th>\n",
       "      <td>-0.000137</td>\n",
       "      <td>-0.000079</td>\n",
       "      <td>0.000422</td>\n",
       "      <td>0.003592</td>\n",
       "      <td>0.007847</td>\n",
       "    </tr>\n",
       "    <tr>\n",
       "      <th>AGE</th>\n",
       "      <td>-0.003271</td>\n",
       "      <td>-0.003248</td>\n",
       "      <td>-0.003336</td>\n",
       "      <td>-0.005486</td>\n",
       "      <td>0.001438</td>\n",
       "    </tr>\n",
       "    <tr>\n",
       "      <th>RAD</th>\n",
       "      <td>-0.014697</td>\n",
       "      <td>-0.012709</td>\n",
       "      <td>0.003106</td>\n",
       "      <td>0.096451</td>\n",
       "      <td>0.267296</td>\n",
       "    </tr>\n",
       "    <tr>\n",
       "      <th>INDUS</th>\n",
       "      <td>-0.032404</td>\n",
       "      <td>-0.032140</td>\n",
       "      <td>-0.031279</td>\n",
       "      <td>-0.037002</td>\n",
       "      <td>-0.050416</td>\n",
       "    </tr>\n",
       "    <tr>\n",
       "      <th>PTRATIO</th>\n",
       "      <td>-0.081543</td>\n",
       "      <td>-0.086841</td>\n",
       "      <td>-0.127415</td>\n",
       "      <td>-0.350182</td>\n",
       "      <td>-0.718311</td>\n",
       "    </tr>\n",
       "    <tr>\n",
       "      <th>NOX</th>\n",
       "      <td>-0.117584</td>\n",
       "      <td>-0.213141</td>\n",
       "      <td>-0.689316</td>\n",
       "      <td>-0.891950</td>\n",
       "      <td>-0.222767</td>\n",
       "    </tr>\n",
       "    <tr>\n",
       "      <th>DIS</th>\n",
       "      <td>-0.344354</td>\n",
       "      <td>-0.351153</td>\n",
       "      <td>-0.402994</td>\n",
       "      <td>-0.679059</td>\n",
       "      <td>-1.025683</td>\n",
       "    </tr>\n",
       "  </tbody>\n",
       "</table>\n",
       "</div>"
      ],
      "text/plain": [
       "           alpha:0  alpha:0.1    alpha:1   alpha:10  alpha:100\n",
       "LPRICE   23.780849  23.634189  22.414891  14.978288   3.691853\n",
       "RM        1.665720   1.677817   1.780097   2.346626   2.119999\n",
       "CHAS      0.389320   0.402147   0.502316   0.910345   0.555193\n",
       "LSTAT     0.123375   0.119275   0.084767  -0.134681  -0.546929\n",
       "CRIM      0.114185   0.112817   0.101601   0.034193  -0.068807\n",
       "ZN        0.018940   0.019117   0.020634   0.030605   0.049379\n",
       "TAX       0.001702   0.001612   0.000844  -0.004202  -0.013246\n",
       "B        -0.000137  -0.000079   0.000422   0.003592   0.007847\n",
       "AGE      -0.003271  -0.003248  -0.003336  -0.005486   0.001438\n",
       "RAD      -0.014697  -0.012709   0.003106   0.096451   0.267296\n",
       "INDUS    -0.032404  -0.032140  -0.031279  -0.037002  -0.050416\n",
       "PTRATIO  -0.081543  -0.086841  -0.127415  -0.350182  -0.718311\n",
       "NOX      -0.117584  -0.213141  -0.689316  -0.891950  -0.222767\n",
       "DIS      -0.344354  -0.351153  -0.402994  -0.679059  -1.025683"
      ]
     },
     "execution_count": 26,
     "metadata": {},
     "output_type": "execute_result"
    }
   ],
   "source": [
    "ridge_alphas = [0, 0.1, 1, 10, 100]\n",
    "sort_column ='alpha:'+str(ridge_alphas[0])\n",
    "coeff_df.sort_values(by=sort_column,ascending=False)"
   ]
  },
  {
   "cell_type": "code",
   "execution_count": 27,
   "metadata": {},
   "outputs": [],
   "source": [
    "# alpha값에 따른 회귀 모델의 폴드 평균 RMSE를 출력하고, 회귀 계수값들을 DataFrame으로 반환\n",
    "from sklearn.linear_model import Lasso, ElasticNet\n",
    "def get_linear_reg_eval(model_name,params=None, X_data_n=None, \\\n",
    "                       y_target_n=None, verbose=True):\n",
    "    coeff_df = pd.DataFrame()\n",
    "    if verbose:print('###### ', model_name , '######')\n",
    "    for param in params:\n",
    "        if model_name == 'Ridge':model = Ridge(alpha=param)\n",
    "        elif model_name == 'Lasso': model = Lasso(alpha=param)\n",
    "        elif model_name == 'ElasticNet':model = ElasticNet(alpha=param,\\\n",
    "                                                          l1_ratio=0.7)\n",
    "        neg_mse_scores = cross_val_score(model, X_data_n,y_target_n,\\\n",
    "                                        scoring='neg_mean_squared_error',cv=5)\n",
    "        avg_rmse = np.mean(np.sqrt(-1*neg_mse_scores))\n",
    "        print('alpha {}일 때 5 폴드 세트의 평균 RMSE:{:4f}'.format(param,avg_rmse))\n",
    "        model.fit(X_data,y_target)\n",
    "        coeff = pd.Series(data = model.coef_,index=X_data.columns)\n",
    "        colname='alpha:'+str(param)\n",
    "        coeff_df[colname] = coeff\n",
    "\n",
    "    return coeff_df"
   ]
  },
  {
   "cell_type": "markdown",
   "metadata": {},
   "source": [
    "### 라쏘 회귀\n",
    "- W의 절댓값에 페널티를 부여하는 L1 규제를 선형회귀에 적용한 것\n",
    "- L2 규제가 회귀계수를 감소시킨다면(0으로는 만들지 않음), L1 규제는 불필요한 회귀 계수를 급격하게 감소시켜 0으로 만들고 제거\n",
    "- 적절한 피처만 회귀에 포함시키는 피처 선택의 특성을 가짐"
   ]
  },
  {
   "cell_type": "code",
   "execution_count": 28,
   "metadata": {},
   "outputs": [
    {
     "name": "stdout",
     "output_type": "stream",
     "text": [
      "######  Lasso ######\n",
      "alpha 0.07일 때 5 폴드 세트의 평균 RMSE:2.556405\n",
      "alpha 0.1일 때 5 폴드 세트의 평균 RMSE:2.607130\n",
      "alpha 0.5일 때 5 폴드 세트의 평균 RMSE:3.945799\n",
      "alpha 1.3일 때 5 폴드 세트의 평균 RMSE:5.845140\n"
     ]
    },
    {
     "data": {
      "text/html": [
       "<div>\n",
       "<style scoped>\n",
       "    .dataframe tbody tr th:only-of-type {\n",
       "        vertical-align: middle;\n",
       "    }\n",
       "\n",
       "    .dataframe tbody tr th {\n",
       "        vertical-align: top;\n",
       "    }\n",
       "\n",
       "    .dataframe thead th {\n",
       "        text-align: right;\n",
       "    }\n",
       "</style>\n",
       "<table border=\"1\" class=\"dataframe\">\n",
       "  <thead>\n",
       "    <tr style=\"text-align: right;\">\n",
       "      <th></th>\n",
       "      <th>alpha:0.07</th>\n",
       "      <th>alpha:0.1</th>\n",
       "      <th>alpha:0.5</th>\n",
       "      <th>alpha:1.3</th>\n",
       "    </tr>\n",
       "  </thead>\n",
       "  <tbody>\n",
       "    <tr>\n",
       "      <th>CRIM</th>\n",
       "      <td>0.098066</td>\n",
       "      <td>0.091182</td>\n",
       "      <td>0.001545</td>\n",
       "      <td>-0.051638</td>\n",
       "    </tr>\n",
       "    <tr>\n",
       "      <th>ZN</th>\n",
       "      <td>0.021612</td>\n",
       "      <td>0.022594</td>\n",
       "      <td>0.035301</td>\n",
       "      <td>0.048850</td>\n",
       "    </tr>\n",
       "    <tr>\n",
       "      <th>INDUS</th>\n",
       "      <td>-0.025406</td>\n",
       "      <td>-0.023712</td>\n",
       "      <td>-0.005518</td>\n",
       "      <td>-0.000000</td>\n",
       "    </tr>\n",
       "    <tr>\n",
       "      <th>CHAS</th>\n",
       "      <td>0.000000</td>\n",
       "      <td>0.000000</td>\n",
       "      <td>0.000000</td>\n",
       "      <td>0.000000</td>\n",
       "    </tr>\n",
       "    <tr>\n",
       "      <th>NOX</th>\n",
       "      <td>-0.000000</td>\n",
       "      <td>-0.000000</td>\n",
       "      <td>-0.000000</td>\n",
       "      <td>-0.000000</td>\n",
       "    </tr>\n",
       "    <tr>\n",
       "      <th>RM</th>\n",
       "      <td>1.587536</td>\n",
       "      <td>1.559277</td>\n",
       "      <td>1.311474</td>\n",
       "      <td>0.018113</td>\n",
       "    </tr>\n",
       "    <tr>\n",
       "      <th>AGE</th>\n",
       "      <td>-0.000157</td>\n",
       "      <td>0.000323</td>\n",
       "      <td>0.008583</td>\n",
       "      <td>0.031350</td>\n",
       "    </tr>\n",
       "    <tr>\n",
       "      <th>DIS</th>\n",
       "      <td>-0.366207</td>\n",
       "      <td>-0.380765</td>\n",
       "      <td>-0.508078</td>\n",
       "      <td>-0.511309</td>\n",
       "    </tr>\n",
       "    <tr>\n",
       "      <th>RAD</th>\n",
       "      <td>0.011763</td>\n",
       "      <td>0.021109</td>\n",
       "      <td>0.141641</td>\n",
       "      <td>0.255433</td>\n",
       "    </tr>\n",
       "    <tr>\n",
       "      <th>TAX</th>\n",
       "      <td>0.000174</td>\n",
       "      <td>-0.000337</td>\n",
       "      <td>-0.007229</td>\n",
       "      <td>-0.014981</td>\n",
       "    </tr>\n",
       "    <tr>\n",
       "      <th>PTRATIO</th>\n",
       "      <td>-0.131890</td>\n",
       "      <td>-0.152489</td>\n",
       "      <td>-0.404353</td>\n",
       "      <td>-0.701274</td>\n",
       "    </tr>\n",
       "    <tr>\n",
       "      <th>B</th>\n",
       "      <td>0.000431</td>\n",
       "      <td>0.000668</td>\n",
       "      <td>0.003874</td>\n",
       "      <td>0.007507</td>\n",
       "    </tr>\n",
       "    <tr>\n",
       "      <th>LSTAT</th>\n",
       "      <td>0.050478</td>\n",
       "      <td>0.020108</td>\n",
       "      <td>-0.314060</td>\n",
       "      <td>-0.823758</td>\n",
       "    </tr>\n",
       "    <tr>\n",
       "      <th>LPRICE</th>\n",
       "      <td>22.061682</td>\n",
       "      <td>21.296189</td>\n",
       "      <td>11.918119</td>\n",
       "      <td>0.000000</td>\n",
       "    </tr>\n",
       "  </tbody>\n",
       "</table>\n",
       "</div>"
      ],
      "text/plain": [
       "         alpha:0.07  alpha:0.1  alpha:0.5  alpha:1.3\n",
       "CRIM       0.098066   0.091182   0.001545  -0.051638\n",
       "ZN         0.021612   0.022594   0.035301   0.048850\n",
       "INDUS     -0.025406  -0.023712  -0.005518  -0.000000\n",
       "CHAS       0.000000   0.000000   0.000000   0.000000\n",
       "NOX       -0.000000  -0.000000  -0.000000  -0.000000\n",
       "RM         1.587536   1.559277   1.311474   0.018113\n",
       "AGE       -0.000157   0.000323   0.008583   0.031350\n",
       "DIS       -0.366207  -0.380765  -0.508078  -0.511309\n",
       "RAD        0.011763   0.021109   0.141641   0.255433\n",
       "TAX        0.000174  -0.000337  -0.007229  -0.014981\n",
       "PTRATIO   -0.131890  -0.152489  -0.404353  -0.701274\n",
       "B          0.000431   0.000668   0.003874   0.007507\n",
       "LSTAT      0.050478   0.020108  -0.314060  -0.823758\n",
       "LPRICE    22.061682  21.296189  11.918119   0.000000"
      ]
     },
     "execution_count": 28,
     "metadata": {},
     "output_type": "execute_result"
    }
   ],
   "source": [
    "# 라쏘 회귀\n",
    "lasso_alphas = [0.07,0.1,0.5,1.3]\n",
    "coeff_lasso_df = get_linear_reg_eval('Lasso', params=lasso_alphas,\\\n",
    "                                    X_data_n=X_data, y_target_n=y_target)\n",
    "coeff_lasso_df"
   ]
  },
  {
   "cell_type": "code",
   "execution_count": null,
   "metadata": {},
   "outputs": [],
   "source": [
    "# 회귀계수가 0인 피처는 회귀 식에서 제외된다. (피처 선택의 특성)"
   ]
  },
  {
   "cell_type": "code",
   "execution_count": null,
   "metadata": {},
   "outputs": [],
   "source": [
    "# 엘라스틱넷 회귀\n",
    "- L2 규제와 L1규제를 결합한 회귀 모델"
   ]
  },
  {
   "cell_type": "code",
   "execution_count": 29,
   "metadata": {},
   "outputs": [
    {
     "name": "stdout",
     "output_type": "stream",
     "text": [
      "######  ElasticNet ######\n",
      "alpha 0.07일 때 5 폴드 세트의 평균 RMSE:3.379259\n",
      "alpha 0.1일 때 5 폴드 세트의 평균 RMSE:3.668586\n",
      "alpha 0.5일 때 5 폴드 세트의 평균 RMSE:4.972744\n",
      "alpha 1일 때 5 폴드 세트의 평균 RMSE:5.456735\n",
      "alpha 3일 때 5 폴드 세트의 평균 RMSE:6.068122\n"
     ]
    },
    {
     "data": {
      "text/html": [
       "<div>\n",
       "<style scoped>\n",
       "    .dataframe tbody tr th:only-of-type {\n",
       "        vertical-align: middle;\n",
       "    }\n",
       "\n",
       "    .dataframe tbody tr th {\n",
       "        vertical-align: top;\n",
       "    }\n",
       "\n",
       "    .dataframe thead th {\n",
       "        text-align: right;\n",
       "    }\n",
       "</style>\n",
       "<table border=\"1\" class=\"dataframe\">\n",
       "  <thead>\n",
       "    <tr style=\"text-align: right;\">\n",
       "      <th></th>\n",
       "      <th>alpha:0.07</th>\n",
       "      <th>alpha:0.1</th>\n",
       "      <th>alpha:0.5</th>\n",
       "      <th>alpha:1</th>\n",
       "      <th>alpha:3</th>\n",
       "    </tr>\n",
       "  </thead>\n",
       "  <tbody>\n",
       "    <tr>\n",
       "      <th>CRIM</th>\n",
       "      <td>0.024462</td>\n",
       "      <td>0.004000</td>\n",
       "      <td>-0.061167</td>\n",
       "      <td>-0.065450</td>\n",
       "      <td>-0.019058</td>\n",
       "    </tr>\n",
       "    <tr>\n",
       "      <th>ZN</th>\n",
       "      <td>0.032257</td>\n",
       "      <td>0.035460</td>\n",
       "      <td>0.048646</td>\n",
       "      <td>0.050849</td>\n",
       "      <td>0.038268</td>\n",
       "    </tr>\n",
       "    <tr>\n",
       "      <th>INDUS</th>\n",
       "      <td>-0.034379</td>\n",
       "      <td>-0.033694</td>\n",
       "      <td>-0.021706</td>\n",
       "      <td>-0.000000</td>\n",
       "      <td>-0.000000</td>\n",
       "    </tr>\n",
       "    <tr>\n",
       "      <th>CHAS</th>\n",
       "      <td>0.374820</td>\n",
       "      <td>0.251174</td>\n",
       "      <td>0.000000</td>\n",
       "      <td>0.000000</td>\n",
       "      <td>0.000000</td>\n",
       "    </tr>\n",
       "    <tr>\n",
       "      <th>NOX</th>\n",
       "      <td>-0.000000</td>\n",
       "      <td>-0.000000</td>\n",
       "      <td>-0.000000</td>\n",
       "      <td>-0.000000</td>\n",
       "      <td>-0.000000</td>\n",
       "    </tr>\n",
       "    <tr>\n",
       "      <th>RM</th>\n",
       "      <td>2.298832</td>\n",
       "      <td>2.367582</td>\n",
       "      <td>1.720480</td>\n",
       "      <td>0.894794</td>\n",
       "      <td>0.000000</td>\n",
       "    </tr>\n",
       "    <tr>\n",
       "      <th>AGE</th>\n",
       "      <td>-0.004187</td>\n",
       "      <td>-0.003487</td>\n",
       "      <td>0.008121</td>\n",
       "      <td>0.020296</td>\n",
       "      <td>0.043446</td>\n",
       "    </tr>\n",
       "    <tr>\n",
       "      <th>DIS</th>\n",
       "      <td>-0.675369</td>\n",
       "      <td>-0.743597</td>\n",
       "      <td>-0.867634</td>\n",
       "      <td>-0.695814</td>\n",
       "      <td>-0.031208</td>\n",
       "    </tr>\n",
       "    <tr>\n",
       "      <th>RAD</th>\n",
       "      <td>0.111572</td>\n",
       "      <td>0.142060</td>\n",
       "      <td>0.260663</td>\n",
       "      <td>0.277210</td>\n",
       "      <td>0.146846</td>\n",
       "    </tr>\n",
       "    <tr>\n",
       "      <th>TAX</th>\n",
       "      <td>-0.005268</td>\n",
       "      <td>-0.006936</td>\n",
       "      <td>-0.013855</td>\n",
       "      <td>-0.015551</td>\n",
       "      <td>-0.011417</td>\n",
       "    </tr>\n",
       "    <tr>\n",
       "      <th>PTRATIO</th>\n",
       "      <td>-0.373779</td>\n",
       "      <td>-0.442155</td>\n",
       "      <td>-0.698099</td>\n",
       "      <td>-0.711569</td>\n",
       "      <td>-0.423065</td>\n",
       "    </tr>\n",
       "    <tr>\n",
       "      <th>B</th>\n",
       "      <td>0.004009</td>\n",
       "      <td>0.004899</td>\n",
       "      <td>0.007806</td>\n",
       "      <td>0.007944</td>\n",
       "      <td>0.007020</td>\n",
       "    </tr>\n",
       "    <tr>\n",
       "      <th>LSTAT</th>\n",
       "      <td>-0.175336</td>\n",
       "      <td>-0.247900</td>\n",
       "      <td>-0.600259</td>\n",
       "      <td>-0.731969</td>\n",
       "      <td>-0.800368</td>\n",
       "    </tr>\n",
       "    <tr>\n",
       "      <th>LPRICE</th>\n",
       "      <td>14.015089</td>\n",
       "      <td>11.821146</td>\n",
       "      <td>3.066248</td>\n",
       "      <td>0.901015</td>\n",
       "      <td>0.000000</td>\n",
       "    </tr>\n",
       "  </tbody>\n",
       "</table>\n",
       "</div>"
      ],
      "text/plain": [
       "         alpha:0.07  alpha:0.1  alpha:0.5   alpha:1   alpha:3\n",
       "CRIM       0.024462   0.004000  -0.061167 -0.065450 -0.019058\n",
       "ZN         0.032257   0.035460   0.048646  0.050849  0.038268\n",
       "INDUS     -0.034379  -0.033694  -0.021706 -0.000000 -0.000000\n",
       "CHAS       0.374820   0.251174   0.000000  0.000000  0.000000\n",
       "NOX       -0.000000  -0.000000  -0.000000 -0.000000 -0.000000\n",
       "RM         2.298832   2.367582   1.720480  0.894794  0.000000\n",
       "AGE       -0.004187  -0.003487   0.008121  0.020296  0.043446\n",
       "DIS       -0.675369  -0.743597  -0.867634 -0.695814 -0.031208\n",
       "RAD        0.111572   0.142060   0.260663  0.277210  0.146846\n",
       "TAX       -0.005268  -0.006936  -0.013855 -0.015551 -0.011417\n",
       "PTRATIO   -0.373779  -0.442155  -0.698099 -0.711569 -0.423065\n",
       "B          0.004009   0.004899   0.007806  0.007944  0.007020\n",
       "LSTAT     -0.175336  -0.247900  -0.600259 -0.731969 -0.800368\n",
       "LPRICE    14.015089  11.821146   3.066248  0.901015  0.000000"
      ]
     },
     "execution_count": 29,
     "metadata": {},
     "output_type": "execute_result"
    }
   ],
   "source": [
    "# 엘라스틱넷 회귀\n",
    "elastic_alphas = [0.07,0.1,0.5,1,3]\n",
    "coeff_elastic_df = get_linear_reg_eval('ElasticNet', params=elastic_alphas,\\\n",
    "                                      X_data_n=X_data, y_target_n=y_target)\n",
    "coeff_elastic_df"
   ]
  },
  {
   "cell_type": "code",
   "execution_count": 30,
   "metadata": {},
   "outputs": [],
   "source": [
    "# 선형 회귀 모형을 위한 데이터 변환\n",
    "from sklearn.preprocessing import StandardScaler, MinMaxScaler, PolynomialFeatures\n",
    "def get_scaled_data(method=None, p_degree=None, input_data=None):\n",
    "    if method == 'Standard':\n",
    "        scaled_data = StandardScaler().fit_transform(input_data)\n",
    "    elif method == 'MinMax':\n",
    "        scaled_data = MinMaxScaler().fit_transform(input_data)\n",
    "    elif method == 'Log':\n",
    "        scaled_data = np.log1p(input_data)\n",
    "    else:\n",
    "        scaled_data = input_data\n",
    "    if p_degree != None:\n",
    "        scaled_data = PolynomialFeatures(degree=p_degree,include_bias=False).\\\n",
    "        fit_transform(scaled_data)\n",
    "    return scaled_data"
   ]
  },
  {
   "cell_type": "code",
   "execution_count": 32,
   "metadata": {},
   "outputs": [
    {
     "name": "stdout",
     "output_type": "stream",
     "text": [
      "\n",
      "## 변환 유형:None, Polynomial Degree:None\n",
      "alpha 0.1일 때 5 폴드 세트의 평균 RMSE:2.560751\n",
      "alpha 1일 때 5 폴드 세트의 평균 RMSE:2.614651\n",
      "alpha 10일 때 5 폴드 세트의 평균 RMSE:3.397696\n",
      "alpha 100일 때 5 폴드 세트의 평균 RMSE:4.816984\n",
      "\n",
      "## 변환 유형:Standard, Polynomial Degree:None\n",
      "alpha 0.1일 때 5 폴드 세트의 평균 RMSE:2.558000\n",
      "alpha 1일 때 5 폴드 세트의 평균 RMSE:2.561691\n",
      "alpha 10일 때 5 폴드 세트의 평균 RMSE:2.626306\n",
      "alpha 100일 때 5 폴드 세트의 평균 RMSE:3.320848\n",
      "\n",
      "## 변환 유형:Standard, Polynomial Degree:2\n",
      "alpha 0.1일 때 5 폴드 세트의 평균 RMSE:0.966048\n",
      "alpha 1일 때 5 폴드 세트의 평균 RMSE:1.107439\n",
      "alpha 10일 때 5 폴드 세트의 평균 RMSE:1.892211\n",
      "alpha 100일 때 5 폴드 세트의 평균 RMSE:3.203167\n",
      "\n",
      "## 변환 유형:MinMax, Polynomial Degree:None\n",
      "alpha 0.1일 때 5 폴드 세트의 평균 RMSE:2.580136\n",
      "alpha 1일 때 5 폴드 세트의 평균 RMSE:2.846153\n",
      "alpha 10일 때 5 폴드 세트의 평균 RMSE:4.191559\n",
      "alpha 100일 때 5 폴드 세트의 평균 RMSE:7.075139\n",
      "\n",
      "## 변환 유형:MinMax, Polynomial Degree:2\n",
      "alpha 0.1일 때 5 폴드 세트의 평균 RMSE:0.872126\n",
      "alpha 1일 때 5 폴드 세트의 평균 RMSE:1.334568\n",
      "alpha 10일 때 5 폴드 세트의 평균 RMSE:2.563727\n",
      "alpha 100일 때 5 폴드 세트의 평균 RMSE:5.026173\n",
      "\n",
      "## 변환 유형:Log, Polynomial Degree:None\n",
      "alpha 0.1일 때 5 폴드 세트의 평균 RMSE:3.120012\n",
      "alpha 1일 때 5 폴드 세트의 평균 RMSE:3.448747\n",
      "alpha 10일 때 5 폴드 세트의 평균 RMSE:4.502354\n",
      "alpha 100일 때 5 폴드 세트의 평균 RMSE:6.152359\n"
     ]
    }
   ],
   "source": [
    "alphas=[0.1,1,10,100]\n",
    "scale_methods =[(None,None),('Standard',None),('Standard',2),\n",
    "               ('MinMax',None),('MinMax',2),('Log',None)]\n",
    "\n",
    "for scale_method in scale_methods:\n",
    "    X_data_scaled = get_scaled_data(method=scale_method[0],\n",
    "                                   p_degree=scale_method[1],\n",
    "                                   input_data=X_data)\n",
    "    print('\\n## 변환 유형:{0}, Polynomial Degree:{1}'.format(scale_method[0],\\\n",
    "                                                        scale_method[1]))\n",
    "    get_linear_reg_eval('Ridge',params=alphas,X_data_n=X_data_scaled, \\\n",
    "                        y_target_n=y_target,verbose=False)"
   ]
  }
 ],
 "metadata": {
  "kernelspec": {
   "display_name": "Python 3",
   "language": "python",
   "name": "python3"
  },
  "language_info": {
   "codemirror_mode": {
    "name": "ipython",
    "version": 3
   },
   "file_extension": ".py",
   "mimetype": "text/x-python",
   "name": "python",
   "nbconvert_exporter": "python",
   "pygments_lexer": "ipython3",
   "version": "3.7.6"
  }
 },
 "nbformat": 4,
 "nbformat_minor": 4
}
