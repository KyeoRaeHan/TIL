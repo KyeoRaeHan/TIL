{
 "cells": [
  {
   "cell_type": "code",
   "execution_count": null,
   "metadata": {},
   "outputs": [],
   "source": [
    "# 모듈"
   ]
  },
  {
   "cell_type": "code",
   "execution_count": 1,
   "metadata": {},
   "outputs": [],
   "source": [
    "import math\n",
    "n = math.factorial(5)"
   ]
  },
  {
   "cell_type": "code",
   "execution_count": null,
   "metadata": {},
   "outputs": [],
   "source": [
    "# math모듈을 import하여 factorial() 함수를 사용한다."
   ]
  },
  {
   "cell_type": "code",
   "execution_count": null,
   "metadata": {},
   "outputs": [],
   "source": [
    "# 하나의 모듈 안에는 여러 함수들이 존재할 수 있는데, \n",
    "# 이 중 하나의 함수만을 불러 사용하기 위해서는 아래와 같이 \"from 모듈명 import 함수명\"이라는 표현을 사용할 수 있다.\n",
    "# 이렇게 from...import... 방식으로 import된 함수는 호출시 \"모듈명.함수명\"이 아니라 직접 \"함수명\"만을 사용한다."
   ]
  },
  {
   "cell_type": "code",
   "execution_count": null,
   "metadata": {},
   "outputs": [],
   "source": [
    "from math import factorial  \n",
    " n = factorial(5) / factorial(3) "
   ]
  },
  {
   "cell_type": "code",
   "execution_count": null,
   "metadata": {},
   "outputs": [],
   "source": [
    "# from... import (함수1, 함수2) 와 같이 import 뒤에 사용할 함수를 나열할 수도 있다. \n",
    "# 또한, 모든 함수를 불러 사용하기 위해서는 \"from 모듈명 import *\" 와 같이 asterisk(*)를 사용할 수 있다. "
   ]
  },
  {
   "cell_type": "code",
   "execution_count": null,
   "metadata": {},
   "outputs": [],
   "source": [
    "# 여러 함수를 import\n",
    "from math import (factorial,acos)\n",
    "n = factorial(3) + acos(1)\n",
    " \n",
    "# 모든 함수를 import\n",
    "from math import *\n",
    "n = sqrt(5) + fabs(-12.5)"
   ]
  }
 ],
 "metadata": {
  "kernelspec": {
   "display_name": "Python 3",
   "language": "python",
   "name": "python3"
  },
  "language_info": {
   "codemirror_mode": {
    "name": "ipython",
    "version": 3
   },
   "file_extension": ".py",
   "mimetype": "text/x-python",
   "name": "python",
   "nbconvert_exporter": "python",
   "pygments_lexer": "ipython3",
   "version": "3.7.3"
  }
 },
 "nbformat": 4,
 "nbformat_minor": 4
}
