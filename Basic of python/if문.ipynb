{
 "cells": [
  {
   "cell_type": "code",
   "execution_count": null,
   "metadata": {},
   "outputs": [],
   "source": [
    "# if문\n",
    "#if: 조건문이 참이면 수행\n",
    "#elif: 조건을 여러개 줄때 사용\n",
    "#else: 조건문이 거짓이면 수행. else는 if없이 독립적으로 사용할 수 없다."
   ]
  },
  {
   "cell_type": "code",
   "execution_count": null,
   "metadata": {},
   "outputs": [],
   "source": [
    "# # if 조건문:\n",
    "#     수행할 문장1\n",
    "#     수행할 문장2\n",
    "# else:\n",
    "#     수행할 문장A\n",
    "#     수행할 문장B"
   ]
  },
  {
   "cell_type": "code",
   "execution_count": 7,
   "metadata": {},
   "outputs": [],
   "source": [
    "weather = \"맑아요\""
   ]
  },
  {
   "cell_type": "code",
   "execution_count": 8,
   "metadata": {},
   "outputs": [
    {
     "name": "stdout",
     "output_type": "stream",
     "text": [
      "준비물 필요 없어요.\n"
     ]
    }
   ],
   "source": [
    "if weather == \"비\":\n",
    "    print(\"우산을 챙기세요\")\n",
    "elif weather == \"미세먼지\":\n",
    "    print(\"마스크를 챙기세요\")\n",
    "else:\n",
    "    print(\"준비물 필요 없어요.\")"
   ]
  },
  {
   "cell_type": "code",
   "execution_count": 13,
   "metadata": {},
   "outputs": [
    {
     "name": "stdout",
     "output_type": "stream",
     "text": [
      "오늘 날씨는 어때요? 눈\n"
     ]
    }
   ],
   "source": [
    "weather = input(\"오늘 날씨는 어때요? \")"
   ]
  },
  {
   "cell_type": "code",
   "execution_count": 14,
   "metadata": {},
   "outputs": [
    {
     "name": "stdout",
     "output_type": "stream",
     "text": [
      "우산을 챙기세요\n"
     ]
    }
   ],
   "source": [
    "if weather == \"비\"or weather == \"눈\":\n",
    "    print(\"우산을 챙기세요\")\n",
    "elif weather == \"미세먼지\":\n",
    "    print(\"마스크를 챙기세요\")\n",
    "else:\n",
    "    print(\"준비물 필요 없어요.\")"
   ]
  },
  {
   "cell_type": "code",
   "execution_count": 18,
   "metadata": {},
   "outputs": [
    {
     "name": "stdout",
     "output_type": "stream",
     "text": [
      "기온은 어때요?5\n"
     ]
    }
   ],
   "source": [
    "temp = int(input(\"기온은 어때요?\"))"
   ]
  },
  {
   "cell_type": "code",
   "execution_count": 19,
   "metadata": {},
   "outputs": [
    {
     "name": "stdout",
     "output_type": "stream",
     "text": [
      "넘 추워요. 나가지 마세요\n"
     ]
    }
   ],
   "source": [
    "if 30 <= temp:\n",
    "    print(\"너무 더워요. 나가지 마세요\")\n",
    "elif 10 <= temp and temp < 30:\n",
    "    print(\"괜찮은 날씨에요\")\n",
    "else:\n",
    "    print(\"너무 추워요. 나가지 마세요\")"
   ]
  },
  {
   "cell_type": "code",
   "execution_count": 23,
   "metadata": {},
   "outputs": [
    {
     "name": "stdout",
     "output_type": "stream",
     "text": [
      "기온은 어때요?-2\n"
     ]
    }
   ],
   "source": [
    "temp = int(input(\"기온은 어때요?\"))"
   ]
  },
  {
   "cell_type": "code",
   "execution_count": 24,
   "metadata": {},
   "outputs": [
    {
     "name": "stdout",
     "output_type": "stream",
     "text": [
      "너무 추워요. 나가지 마세요\n"
     ]
    }
   ],
   "source": [
    "if 30 <= temp:\n",
    "    print(\"너무 더워요. 나가지 마세요\")\n",
    "elif 10 <= temp and temp < 30:\n",
    "    print(\"괜찮은 날씨에요\")\n",
    "elif 0 <= temp < 10:\n",
    "    print(\"외투를 챙기세요\")\n",
    "else:\n",
    "    print(\"너무 추워요. 나가지 마세요\")"
   ]
  },
  {
   "cell_type": "code",
   "execution_count": null,
   "metadata": {},
   "outputs": [],
   "source": []
  }
 ],
 "metadata": {
  "kernelspec": {
   "display_name": "Python 3",
   "language": "python",
   "name": "python3"
  },
  "language_info": {
   "codemirror_mode": {
    "name": "ipython",
    "version": 3
   },
   "file_extension": ".py",
   "mimetype": "text/x-python",
   "name": "python",
   "nbconvert_exporter": "python",
   "pygments_lexer": "ipython3",
   "version": "3.7.3"
  }
 },
 "nbformat": 4,
 "nbformat_minor": 2
}
