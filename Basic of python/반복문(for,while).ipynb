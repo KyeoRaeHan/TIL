{
 "cells": [
  {
   "cell_type": "code",
   "execution_count": null,
   "metadata": {},
   "outputs": [],
   "source": [
    "# 반복문: for&while"
   ]
  },
  {
   "cell_type": "code",
   "execution_count": null,
   "metadata": {},
   "outputs": [],
   "source": [
    "# computational thinking\n",
    "# 사람이 추상적으로 갖고 있는 생각을 컴퓨터가 자동적으로 처리하게 하는 과정\n",
    "# 추상화: 실제 세계의 문제를 해결 가능한 형태로 표현하기 위한 사고 과정\n",
    "# 자동화: 추상화 과정에서 만들어진 해결 모델을 컴퓨터가 이해할 수 있는 프로그래밍 언어로 표현\n",
    "# 컴퓨팅 사고력은 인간의 사고력으로 처리하기에 어렵거나 시간이 걸리는 작업을 대신해줌으로써 \n",
    "# 인간의 문제 해결 능력을 확장시켜주는 역할"
   ]
  },
  {
   "cell_type": "code",
   "execution_count": null,
   "metadata": {},
   "outputs": [],
   "source": [
    "# for 변수 in 리스트(또는 튜플, 문자열):\n",
    "    # 수행할 문장1\n",
    "    # 수행할 문장2\n",
    "    # ..."
   ]
  },
  {
   "cell_type": "code",
   "execution_count": 34,
   "metadata": {},
   "outputs": [
    {
     "name": "stdout",
     "output_type": "stream",
     "text": [
      "Hello python~!!\n",
      "Hello python~!!\n",
      "Hello python~!!\n",
      "Hello python~!!\n",
      "Hello python~!!\n"
     ]
    }
   ],
   "source": [
    "for x in range(5):\n",
    "    print(\"Hello python~!!\")"
   ]
  },
  {
   "cell_type": "code",
   "execution_count": 5,
   "metadata": {},
   "outputs": [
    {
     "name": "stdout",
     "output_type": "stream",
     "text": [
      "Hello python~!!\n"
     ]
    }
   ],
   "source": [
    "for x in range(5):\n",
    "    print(\"Hello python~!!\")\n",
    "    break"
   ]
  },
  {
   "cell_type": "code",
   "execution_count": 10,
   "metadata": {},
   "outputs": [],
   "source": [
    "sum = 0\n",
    "for x in range(10): # 0~9까지의 정수\n",
    "    sum = sum + x"
   ]
  },
  {
   "cell_type": "code",
   "execution_count": 11,
   "metadata": {},
   "outputs": [
    {
     "name": "stdout",
     "output_type": "stream",
     "text": [
      "45\n"
     ]
    }
   ],
   "source": [
    "print(sum)"
   ]
  },
  {
   "cell_type": "code",
   "execution_count": null,
   "metadata": {},
   "outputs": [],
   "source": [
    "# range([start,] stop [,step])\n",
    "# start부터 stop-1까지의 정수 생성\n",
    "# step 간격으로 정수들을 생성\n",
    "# start와 step이 '대괄호'로 싸여져 있는데 이는 '생략'할 수 있다는 의미\n",
    "# ex) range(10) => 0~9까지의 정수를 step1 간격으로 생성한다는 뜻"
   ]
  },
  {
   "cell_type": "code",
   "execution_count": 35,
   "metadata": {},
   "outputs": [],
   "source": [
    "sum = 0\n",
    "for x in range(1,11,1):\n",
    "    sum = sum + x"
   ]
  },
  {
   "cell_type": "code",
   "execution_count": 36,
   "metadata": {},
   "outputs": [
    {
     "name": "stdout",
     "output_type": "stream",
     "text": [
      "55\n"
     ]
    }
   ],
   "source": [
    "print(sum)"
   ]
  },
  {
   "cell_type": "code",
   "execution_count": 37,
   "metadata": {},
   "outputs": [],
   "source": [
    "sum = 0\n",
    "for x in range(1,11,2):\n",
    "    sum = sum + x"
   ]
  },
  {
   "cell_type": "code",
   "execution_count": 38,
   "metadata": {},
   "outputs": [
    {
     "name": "stdout",
     "output_type": "stream",
     "text": [
      "25\n"
     ]
    }
   ],
   "source": [
    "print(sum)"
   ]
  },
  {
   "cell_type": "code",
   "execution_count": null,
   "metadata": {},
   "outputs": [],
   "source": [
    "# 데이터구조: 리스트(데이터들의 목록)\n",
    "# 리스트안에는 숫자열, 문자열, 정수형, 실수형 등등 가능"
   ]
  },
  {
   "cell_type": "code",
   "execution_count": 39,
   "metadata": {},
   "outputs": [
    {
     "name": "stdout",
     "output_type": "stream",
     "text": [
      "0\n",
      "1\n",
      "2\n",
      "3\n",
      "4\n",
      "5\n",
      "6\n",
      "7\n",
      "8\n",
      "9\n"
     ]
    }
   ],
   "source": [
    "for x in [0,1,2,3,4,5,6,7,8,9]:\n",
    "    print(x)"
   ]
  },
  {
   "cell_type": "code",
   "execution_count": 40,
   "metadata": {},
   "outputs": [
    {
     "name": "stdout",
     "output_type": "stream",
     "text": [
      "0123456789"
     ]
    }
   ],
   "source": [
    "for x in [0,1,2,3,4,5,6,7,8,9]:\n",
    "    print(x, end=\"\") #end는 가로로 출력되도록 도와주는 것"
   ]
  },
  {
   "cell_type": "code",
   "execution_count": 15,
   "metadata": {},
   "outputs": [
    {
     "name": "stdout",
     "output_type": "stream",
     "text": [
      "안녕!포닉스\n",
      "안녕!넙죽이\n",
      "안녕!눈송이\n",
      "안녕!독수리\n"
     ]
    }
   ],
   "source": [
    "for name in [\"포닉스\", \"넙죽이\", \"눈송이\", \"독수리\"]: #문자열\n",
    "    print(\"안녕!\" + name)"
   ]
  },
  {
   "cell_type": "code",
   "execution_count": null,
   "metadata": {},
   "outputs": [],
   "source": [
    "# 문자열 반복\n",
    "# 문자열도 시퀀스의 일부분\n",
    "# 문자열을 대상으로 반복문을 만들 수 있음"
   ]
  },
  {
   "cell_type": "code",
   "execution_count": 16,
   "metadata": {},
   "outputs": [
    {
     "name": "stdout",
     "output_type": "stream",
     "text": [
      "abcdef"
     ]
    }
   ],
   "source": [
    "for c in \"abcdef\":\n",
    "    print(c, end=\"\")"
   ]
  },
  {
   "cell_type": "code",
   "execution_count": null,
   "metadata": {},
   "outputs": [],
   "source": [
    "# while\n",
    "# 조건의 결과(참 또는 거짓)에 따라 특정 부분의 처리를 반복 실행하는 제어문장\n",
    "# 조건문이 참인 동안에 while문 아래에 속하는 문장들이 반복해서 수행"
   ]
  },
  {
   "cell_type": "code",
   "execution_count": null,
   "metadata": {},
   "outputs": [],
   "source": [
    "# while 조건문:\n",
    "    # 수행할 문장1\n",
    "    # 수행할 문장2\n",
    "    # 수행할 문장3\n",
    "    # ..."
   ]
  },
  {
   "cell_type": "code",
   "execution_count": 17,
   "metadata": {},
   "outputs": [
    {
     "name": "stdout",
     "output_type": "stream",
     "text": [
      "hello python~!!\n",
      "hello python~!!\n",
      "hello python~!!\n",
      "hello python~!!\n",
      "hello python~!!\n",
      "반복이 종료되었습니다.\n"
     ]
    }
   ],
   "source": [
    "i = 0;\n",
    "while i < 5:\n",
    "    print(\"hello python~!!\")\n",
    "    i = i + 1\n",
    "print(\"반복이 종료되었습니다.\")"
   ]
  },
  {
   "cell_type": "code",
   "execution_count": 47,
   "metadata": {},
   "outputs": [
    {
     "name": "stdout",
     "output_type": "stream",
     "text": [
      "for문을 1번 실행\n",
      "for문을 2번 실행\n",
      "for문을 3번 실행\n",
      "for문을 4번 실행\n",
      "for문을 5번 실행\n",
      "for문을 6번 실행\n",
      "for문을 7번 실행\n",
      "for문을 8번 실행\n",
      "for문을 9번 실행\n"
     ]
    }
   ],
   "source": [
    "for i in range(1,10):\n",
    "    print(\"for문을 %d번 실행\" %i)"
   ]
  },
  {
   "cell_type": "code",
   "execution_count": null,
   "metadata": {},
   "outputs": [],
   "source": [
    "# break문: 현재 반복문에서 나가세요"
   ]
  },
  {
   "cell_type": "code",
   "execution_count": 41,
   "metadata": {},
   "outputs": [
    {
     "name": "stdout",
     "output_type": "stream",
     "text": [
      "for문을 1번 실행\n"
     ]
    }
   ],
   "source": [
    "for i in range(1,100):\n",
    "    print(\"for문을 %d번 실행\" % i)\n",
    "    break"
   ]
  },
  {
   "cell_type": "code",
   "execution_count": null,
   "metadata": {},
   "outputs": [],
   "source": [
    "# continue문: 블록의 남은 부분을 건너뛰고 반복문의 처음으로 돌아감"
   ]
  },
  {
   "cell_type": "code",
   "execution_count": null,
   "metadata": {},
   "outputs": [],
   "source": [
    "# 1 ~ 100까지의 합을 구하되, 3의 배수를 건너뛰는 for문"
   ]
  },
  {
   "cell_type": "code",
   "execution_count": 42,
   "metadata": {},
   "outputs": [],
   "source": [
    "hap, i = 0,0"
   ]
  },
  {
   "cell_type": "code",
   "execution_count": 43,
   "metadata": {},
   "outputs": [],
   "source": [
    "for i in range(1,101):\n",
    "    if i % 3 == 0:\n",
    "        continue\n",
    "    hap +=i"
   ]
  },
  {
   "cell_type": "code",
   "execution_count": 44,
   "metadata": {},
   "outputs": [
    {
     "name": "stdout",
     "output_type": "stream",
     "text": [
      "1~100의 합계(3의 배수 제외) : 3367\n"
     ]
    }
   ],
   "source": [
    "print(\"1~100의 합계(3의 배수 제외) : %d\" %hap)"
   ]
  }
 ],
 "metadata": {
  "kernelspec": {
   "display_name": "Python 3",
   "language": "python",
   "name": "python3"
  },
  "language_info": {
   "codemirror_mode": {
    "name": "ipython",
    "version": 3
   },
   "file_extension": ".py",
   "mimetype": "text/x-python",
   "name": "python",
   "nbconvert_exporter": "python",
   "pygments_lexer": "ipython3",
   "version": "3.7.3"
  }
 },
 "nbformat": 4,
 "nbformat_minor": 2
}
