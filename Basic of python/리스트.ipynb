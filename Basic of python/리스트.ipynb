{
 "cells": [
  {
   "cell_type": "code",
   "execution_count": null,
   "metadata": {},
   "outputs": [],
   "source": [
    "# 리스트: 여러 개의 데이터가 저장되어 있는 장소\n",
    "# 리스트는 여러 개의 데이터를 하나의 이름으로 관리할 수 있는 데이터 구조\n",
    "# 서로 다른 데이터 타입의 데이터를 하나의 리스트이름으로 관리 가능"
   ]
  },
  {
   "cell_type": "code",
   "execution_count": null,
   "metadata": {},
   "outputs": [],
   "source": [
    "# 리스트이름 = [값1, 값2, 값3]"
   ]
  },
  {
   "cell_type": "code",
   "execution_count": 1,
   "metadata": {},
   "outputs": [],
   "source": [
    "scores = [32, 56, 64, 72, 12, 37, 98, 77, 59, 69] #숫자를 원소로 가지는 예제"
   ]
  },
  {
   "cell_type": "code",
   "execution_count": null,
   "metadata": {},
   "outputs": [],
   "source": [
    "fruit = [\"banana\", \"apple\", \"cherry\"] #문자열을 원소로 가지는 예제"
   ]
  },
  {
   "cell_type": "code",
   "execution_count": null,
   "metadata": {},
   "outputs": [],
   "source": [
    "empty_list = []"
   ]
  },
  {
   "cell_type": "code",
   "execution_count": null,
   "metadata": {},
   "outputs": [],
   "source": [
    "# 인덱스(index): 원소가 배열된 순서를 나타냄."
   ]
  },
  {
   "cell_type": "code",
   "execution_count": 3,
   "metadata": {},
   "outputs": [],
   "source": [
    "season = ['spring', 'summer', 'fall', 'winter']"
   ]
  },
  {
   "cell_type": "code",
   "execution_count": 4,
   "metadata": {},
   "outputs": [
    {
     "data": {
      "text/plain": [
       "'summer'"
      ]
     },
     "execution_count": 4,
     "metadata": {},
     "output_type": "execute_result"
    }
   ],
   "source": [
    "season[1]"
   ]
  },
  {
   "cell_type": "code",
   "execution_count": 7,
   "metadata": {},
   "outputs": [],
   "source": [
    "seasons = ['spring', 'summer', 'fall', 'winter']"
   ]
  },
  {
   "cell_type": "code",
   "execution_count": 8,
   "metadata": {},
   "outputs": [
    {
     "name": "stdout",
     "output_type": "stream",
     "text": [
      "springsummerfallwinter"
     ]
    }
   ],
   "source": [
    "for element in seasons:\n",
    "    print(element, end='')"
   ]
  },
  {
   "cell_type": "code",
   "execution_count": null,
   "metadata": {},
   "outputs": [],
   "source": [
    "#성적 처리 프로그램"
   ]
  },
  {
   "cell_type": "code",
   "execution_count": 2,
   "metadata": {},
   "outputs": [],
   "source": [
    "STUDENTS = 5"
   ]
  },
  {
   "cell_type": "code",
   "execution_count": 3,
   "metadata": {},
   "outputs": [],
   "source": [
    "scores = []\n",
    "scoreSum = 0"
   ]
  },
  {
   "cell_type": "code",
   "execution_count": 6,
   "metadata": {},
   "outputs": [
    {
     "name": "stdout",
     "output_type": "stream",
     "text": [
      "성적을 입력하세요:100\n",
      "성적을 입력하세요:80\n",
      "성적을 입력하세요:70\n",
      "성적을 입력하세요:60\n",
      "성적을 입력하세요:50\n",
      "성적 평균은 66.0 입니다.\n",
      "80점 이상 성적을 받은 학생은 3 명입니다.\n"
     ]
    }
   ],
   "source": [
    "for i in range(STUDENTS):\n",
    "    value = int(input(\"성적을 입력하세요:\"))\n",
    "    scores.append(value)\n",
    "    scoreSum += value\n",
    "    \n",
    "scoreAvg = scoreSum / len(scores)\n",
    "highScoreStudents = 0\n",
    "for i in range(len(scores)):\n",
    "    if scores[i] >= 80:\n",
    "        highScoreStudents +=1\n",
    "        \n",
    "print(\"성적 평균은\", scoreAvg, \"입니다.\")\n",
    "print(\"80점 이상 성적을 받은 학생은\", highScoreStudents, \"명입니다.\")"
   ]
  },
  {
   "cell_type": "code",
   "execution_count": null,
   "metadata": {},
   "outputs": [],
   "source": [
    "# 문자열 처리 프로그램"
   ]
  },
  {
   "cell_type": "code",
   "execution_count": 7,
   "metadata": {},
   "outputs": [
    {
     "name": "stdout",
     "output_type": "stream",
     "text": [
      "학생 이름을 입력하세요:포닉스\n",
      "학생 이름을 입력하세요:넙죽이\n",
      "학생 이름을 입력하세요:클로바\n",
      "학생 이름을 입력하세요:\n",
      "학생 이름:\n",
      "포닉스,넙죽이,클로바,"
     ]
    }
   ],
   "source": [
    "Names = []\n",
    "while True:\n",
    "    name = input(\"학생 이름을 입력하세요:\")\n",
    "    if name == \"\":\n",
    "        break\n",
    "    Names.append(name)\n",
    "    \n",
    "print(\"학생 이름:\")\n",
    "for name in Names:\n",
    "    print(name, end=\",\")"
   ]
  },
  {
   "cell_type": "code",
   "execution_count": null,
   "metadata": {},
   "outputs": [],
   "source": []
  }
 ],
 "metadata": {
  "kernelspec": {
   "display_name": "Python 3",
   "language": "python",
   "name": "python3"
  }
 },
 "nbformat": 4,
 "nbformat_minor": 2
}
