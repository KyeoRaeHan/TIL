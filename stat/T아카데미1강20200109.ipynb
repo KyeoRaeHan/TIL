{
 "cells": [
  {
   "cell_type": "markdown",
   "metadata": {
    "colab_type": "text",
    "id": "GvteZn5wsGjK"
   },
   "source": [
    "MLB 선수연봉 데이터 불러오기"
   ]
  },
  {
   "cell_type": "code",
   "execution_count": 3,
   "metadata": {
    "colab": {},
    "colab_type": "code",
    "id": "dY1FluEgr9h1"
   },
   "outputs": [],
   "source": [
    "import pandas as pd\n",
    "df=pd.read_csv('http://wolfpack.hnu.ac.kr/Big_Data/data/MLB1871_2018/Salaries.csv')"
   ]
  },
  {
   "cell_type": "code",
   "execution_count": 4,
   "metadata": {
    "colab": {},
    "colab_type": "code",
    "id": "aEzbI6detECq"
   },
   "outputs": [
    {
     "data": {
      "text/plain": [
       "(26428, 5)"
      ]
     },
     "execution_count": 4,
     "metadata": {},
     "output_type": "execute_result"
    }
   ],
   "source": [
    "df.shape"
   ]
  },
  {
   "cell_type": "code",
   "execution_count": 5,
   "metadata": {},
   "outputs": [
    {
     "data": {
      "text/html": [
       "<div>\n",
       "<style scoped>\n",
       "    .dataframe tbody tr th:only-of-type {\n",
       "        vertical-align: middle;\n",
       "    }\n",
       "\n",
       "    .dataframe tbody tr th {\n",
       "        vertical-align: top;\n",
       "    }\n",
       "\n",
       "    .dataframe thead th {\n",
       "        text-align: right;\n",
       "    }\n",
       "</style>\n",
       "<table border=\"1\" class=\"dataframe\">\n",
       "  <thead>\n",
       "    <tr style=\"text-align: right;\">\n",
       "      <th></th>\n",
       "      <th>yearID</th>\n",
       "      <th>teamID</th>\n",
       "      <th>lgID</th>\n",
       "      <th>playerID</th>\n",
       "      <th>salary</th>\n",
       "    </tr>\n",
       "  </thead>\n",
       "  <tbody>\n",
       "    <tr>\n",
       "      <th>0</th>\n",
       "      <td>1985</td>\n",
       "      <td>ATL</td>\n",
       "      <td>NL</td>\n",
       "      <td>barkele01</td>\n",
       "      <td>870000</td>\n",
       "    </tr>\n",
       "    <tr>\n",
       "      <th>1</th>\n",
       "      <td>1985</td>\n",
       "      <td>ATL</td>\n",
       "      <td>NL</td>\n",
       "      <td>bedrost01</td>\n",
       "      <td>550000</td>\n",
       "    </tr>\n",
       "    <tr>\n",
       "      <th>2</th>\n",
       "      <td>1985</td>\n",
       "      <td>ATL</td>\n",
       "      <td>NL</td>\n",
       "      <td>benedbr01</td>\n",
       "      <td>545000</td>\n",
       "    </tr>\n",
       "    <tr>\n",
       "      <th>3</th>\n",
       "      <td>1985</td>\n",
       "      <td>ATL</td>\n",
       "      <td>NL</td>\n",
       "      <td>campri01</td>\n",
       "      <td>633333</td>\n",
       "    </tr>\n",
       "    <tr>\n",
       "      <th>4</th>\n",
       "      <td>1985</td>\n",
       "      <td>ATL</td>\n",
       "      <td>NL</td>\n",
       "      <td>ceronri01</td>\n",
       "      <td>625000</td>\n",
       "    </tr>\n",
       "  </tbody>\n",
       "</table>\n",
       "</div>"
      ],
      "text/plain": [
       "   yearID teamID lgID   playerID  salary\n",
       "0    1985    ATL   NL  barkele01  870000\n",
       "1    1985    ATL   NL  bedrost01  550000\n",
       "2    1985    ATL   NL  benedbr01  545000\n",
       "3    1985    ATL   NL   campri01  633333\n",
       "4    1985    ATL   NL  ceronri01  625000"
      ]
     },
     "execution_count": 5,
     "metadata": {},
     "output_type": "execute_result"
    }
   ],
   "source": [
    "df.head()"
   ]
  },
  {
   "cell_type": "markdown",
   "metadata": {
    "colab_type": "text",
    "id": "1XeuZ2YwKVdn"
   },
   "source": [
    "결측치 제거"
   ]
  },
  {
   "cell_type": "code",
   "execution_count": 6,
   "metadata": {
    "colab": {},
    "colab_type": "code",
    "id": "wY01PUqK8qWB"
   },
   "outputs": [
    {
     "data": {
      "text/plain": [
       "(26428, 5)"
      ]
     },
     "execution_count": 6,
     "metadata": {},
     "output_type": "execute_result"
    }
   ],
   "source": [
    "df.dropna(inplace=True)\n",
    "df.shape"
   ]
  },
  {
   "cell_type": "markdown",
   "metadata": {
    "colab_type": "text",
    "id": "wxDJ3UzoKH3g"
   },
   "source": [
    "선수연봉 2016년 subset"
   ]
  },
  {
   "cell_type": "code",
   "execution_count": 7,
   "metadata": {
    "colab": {},
    "colab_type": "code",
    "id": "2X1uG8WRu-O2"
   },
   "outputs": [
    {
     "data": {
      "text/html": [
       "<div>\n",
       "<style scoped>\n",
       "    .dataframe tbody tr th:only-of-type {\n",
       "        vertical-align: middle;\n",
       "    }\n",
       "\n",
       "    .dataframe tbody tr th {\n",
       "        vertical-align: top;\n",
       "    }\n",
       "\n",
       "    .dataframe thead th {\n",
       "        text-align: right;\n",
       "    }\n",
       "</style>\n",
       "<table border=\"1\" class=\"dataframe\">\n",
       "  <thead>\n",
       "    <tr style=\"text-align: right;\">\n",
       "      <th></th>\n",
       "      <th>yearID</th>\n",
       "      <th>teamID</th>\n",
       "      <th>lgID</th>\n",
       "      <th>playerID</th>\n",
       "      <th>salary</th>\n",
       "    </tr>\n",
       "  </thead>\n",
       "  <tbody>\n",
       "    <tr>\n",
       "      <th>25575</th>\n",
       "      <td>2016</td>\n",
       "      <td>ARI</td>\n",
       "      <td>NL</td>\n",
       "      <td>ahmedni01</td>\n",
       "      <td>521600</td>\n",
       "    </tr>\n",
       "    <tr>\n",
       "      <th>25576</th>\n",
       "      <td>2016</td>\n",
       "      <td>ARI</td>\n",
       "      <td>NL</td>\n",
       "      <td>barreja01</td>\n",
       "      <td>507500</td>\n",
       "    </tr>\n",
       "    <tr>\n",
       "      <th>25577</th>\n",
       "      <td>2016</td>\n",
       "      <td>ARI</td>\n",
       "      <td>NL</td>\n",
       "      <td>brachsi01</td>\n",
       "      <td>509300</td>\n",
       "    </tr>\n",
       "  </tbody>\n",
       "</table>\n",
       "</div>"
      ],
      "text/plain": [
       "       yearID teamID lgID   playerID  salary\n",
       "25575    2016    ARI   NL  ahmedni01  521600\n",
       "25576    2016    ARI   NL  barreja01  507500\n",
       "25577    2016    ARI   NL  brachsi01  509300"
      ]
     },
     "execution_count": 7,
     "metadata": {},
     "output_type": "execute_result"
    }
   ],
   "source": [
    "df16=df[(df['yearID']==2016) & (df['salary']>0)] #연봉 0 초과 선수만 활용\n",
    "df16.head(3)"
   ]
  },
  {
   "cell_type": "code",
   "execution_count": 12,
   "metadata": {},
   "outputs": [
    {
     "data": {
      "text/html": [
       "<div>\n",
       "<style scoped>\n",
       "    .dataframe tbody tr th:only-of-type {\n",
       "        vertical-align: middle;\n",
       "    }\n",
       "\n",
       "    .dataframe tbody tr th {\n",
       "        vertical-align: top;\n",
       "    }\n",
       "\n",
       "    .dataframe thead th {\n",
       "        text-align: right;\n",
       "    }\n",
       "</style>\n",
       "<table border=\"1\" class=\"dataframe\">\n",
       "  <thead>\n",
       "    <tr style=\"text-align: right;\">\n",
       "      <th></th>\n",
       "      <th>yearID</th>\n",
       "      <th>teamID</th>\n",
       "      <th>lgID</th>\n",
       "      <th>playerID</th>\n",
       "      <th>salary</th>\n",
       "    </tr>\n",
       "  </thead>\n",
       "  <tbody>\n",
       "    <tr>\n",
       "      <th>12263</th>\n",
       "      <td>2000</td>\n",
       "      <td>ANA</td>\n",
       "      <td>AL</td>\n",
       "      <td>anderga01</td>\n",
       "      <td>3250000</td>\n",
       "    </tr>\n",
       "    <tr>\n",
       "      <th>12264</th>\n",
       "      <td>2000</td>\n",
       "      <td>ANA</td>\n",
       "      <td>AL</td>\n",
       "      <td>belchti01</td>\n",
       "      <td>4600000</td>\n",
       "    </tr>\n",
       "    <tr>\n",
       "      <th>12265</th>\n",
       "      <td>2000</td>\n",
       "      <td>ANA</td>\n",
       "      <td>AL</td>\n",
       "      <td>botteke01</td>\n",
       "      <td>4000000</td>\n",
       "    </tr>\n",
       "  </tbody>\n",
       "</table>\n",
       "</div>"
      ],
      "text/plain": [
       "       yearID teamID lgID   playerID   salary\n",
       "12263    2000    ANA   AL  anderga01  3250000\n",
       "12264    2000    ANA   AL  belchti01  4600000\n",
       "12265    2000    ANA   AL  botteke01  4000000"
      ]
     },
     "execution_count": 12,
     "metadata": {},
     "output_type": "execute_result"
    }
   ],
   "source": [
    "# 2000년 이상 subset\n",
    "df_2000=df[(df['yearID'] >= 2000) & (df['salary']>0)] #연봉 0 초과 선수만 활용\n",
    "df_2000.head(3)"
   ]
  },
  {
   "cell_type": "code",
   "execution_count": 15,
   "metadata": {},
   "outputs": [
    {
     "data": {
      "text/plain": [
       "2001    860\n",
       "2008    856\n",
       "2016    853\n",
       "2012    848\n",
       "2002    846\n",
       "2007    842\n",
       "2011    839\n",
       "2000    836\n",
       "2004    831\n",
       "2005    831\n",
       "2010    830\n",
       "2003    827\n",
       "2006    819\n",
       "2015    817\n",
       "2013    815\n",
       "2009    813\n",
       "2014    802\n",
       "Name: yearID, dtype: int64"
      ]
     },
     "execution_count": 15,
     "metadata": {},
     "output_type": "execute_result"
    }
   ],
   "source": [
    "df_2000['yearID'].value_counts().sort_values(ascending=False)"
   ]
  },
  {
   "cell_type": "code",
   "execution_count": 9,
   "metadata": {},
   "outputs": [],
   "source": [
    "import matplotlib.pyplot as plt"
   ]
  },
  {
   "cell_type": "code",
   "execution_count": 13,
   "metadata": {
    "collapsed": true
   },
   "outputs": [
    {
     "data": {
      "text/plain": [
       "<matplotlib.collections.PathCollection at 0x2237d591348>"
      ]
     },
     "execution_count": 13,
     "metadata": {},
     "output_type": "execute_result"
    },
    {
     "data": {
      "image/png": "[encoded data removed]",
      "text/plain": [
       "<Figure size 432x288 with 1 Axes>"
      ]
     },
     "metadata": {
      "needs_background": "light"
     },
     "output_type": "display_data"
    }
   ],
   "source": [
    "plt.scatter(data=df16, x=\"salary\", y=\"playerID\")"
   ]
  },
  {
   "cell_type": "code",
   "execution_count": 11,
   "metadata": {
    "colab": {},
    "colab_type": "code",
    "id": "wN0dCP4BOCpB"
   },
   "outputs": [
    {
     "data": {
      "application/vnd.plotly.v1+json": {
       "config": {
        "plotlyServerURL": "https://plot.ly"
       },
       "data": [
        {
         "hovertemplate": "lgID=NL<br>salary=%{x}<br>playerID=%{y}<extra></extra>",
         "legendgroup": "NL",
         "marker": {
          "color": "#636efa",
          "symbol": "circle"
         },
         "mode": "markers",
         "name": "NL",
         "orientation": "h",
         "showlegend": true,
         "type": "scatter",
         "x": [
          521600,
          507500,
          509300,
          508500,
          3700000,
          519700,
          6100000,
          2525000,
          2350000,
          1275000,
          508900,
          5833333,
          513900,
          31799030,
          515900,
          2700000,
          520300,
          4350000,
          530500,
          529600,
          3500000,
          521000,
          2600000,
          7500000,
          1500000,
          5500000,
          8500000,
          507500,
          1250000,
          2000000,
          1000000,
          12359375,
          507500,
          508750,
          3625000,
          523000,
          2500000,
          2000000,
          11000000,
          511750,
          2500000,
          1750000,
          2000000,
          4000000,
          511250,
          520500,
          3000000,
          507500,
          520500,
          508000,
          507500,
          3466666,
          897500,
          508500,
          507500,
          10700000,
          512000,
          508500,
          510000,
          652000,
          4250000,
          8000000,
          1275000,
          9000000,
          541000,
          19555288,
          16000000,
          532000,
          25000000,
          14000000,
          524500,
          2000000,
          5285714,
          4200000,
          524500,
          2500000,
          527000,
          522000,
          3666666,
          4400000,
          511500,
          1700000,
          6170000,
          10500000,
          18000000,
          517500,
          12541666,
          530000,
          509675,
          2925000,
          517000,
          540000,
          525000,
          510000,
          511500,
          570000,
          508000,
          1400000,
          3214285,
          507500,
          516500,
          5025000,
          508000,
          800000,
          13083333,
          507500,
          507500,
          2000000,
          508000,
          512100,
          545000,
          20000000,
          600000,
          509500,
          509500,
          5000000,
          1000000,
          512500,
          512500,
          3500000,
          509500,
          1000000,
          12500000,
          2100000,
          509500,
          17428571,
          509500,
          660000,
          3150000,
          3000000,
          6250000,
          2975000,
          509500,
          4800000,
          509500,
          5000000,
          1300000,
          8000000,
          512500,
          2250000,
          1500000,
          22000000,
          2600000,
          512500,
          507500,
          507500,
          15800000,
          520000,
          512500,
          4000000,
          515000,
          725000,
          20750000,
          535000,
          4500000,
          18000000,
          517500,
          21000000,
          2800000,
          7500000,
          1065000,
          520000,
          6250000,
          10650000,
          14985384,
          9540378,
          33000000,
          3125000,
          12500000,
          510000,
          520000,
          7214285,
          515000,
          7833333,
          510000,
          507500,
          512500,
          5100000,
          7000000,
          1225000,
          530000,
          537500,
          1500000,
          987500,
          12500000,
          512500,
          550000,
          522500,
          3450000,
          2800000,
          3242202,
          2625000,
          507500,
          8007500,
          3500000,
          508500,
          1500000,
          1000000,
          1350000,
          1200000,
          570000,
          2500000,
          11000000,
          3400000,
          532500,
          511000,
          9000000,
          2000000,
          1000000,
          520200,
          509200,
          514200,
          950000,
          19315013,
          508500,
          1500000,
          2500000,
          508800,
          12209424,
          518100,
          12000000,
          519100,
          518500,
          513000,
          508500,
          4100000,
          1125000,
          522300,
          514000,
          509700,
          510000,
          2800000,
          508600,
          513800,
          1475000,
          513900,
          1050000,
          512900,
          507500,
          5375000,
          4000000,
          8250000,
          513308,
          27328046,
          7250000,
          517246,
          542604,
          5750000,
          607000,
          6725000,
          625000,
          4100000,
          526014,
          16000000,
          4325000,
          600000,
          2500000,
          515750,
          511360,
          5300000,
          516500,
          535375,
          514875,
          10550000,
          546250,
          19364801,
          515500,
          530000,
          1450000,
          2000000,
          925000,
          516000,
          517500,
          2000000,
          507500,
          1400000,
          13000000,
          7000000,
          525000,
          3900000,
          528000,
          514000,
          512500,
          507500,
          512500,
          8000000,
          515000,
          517500,
          518000,
          527000,
          8500000,
          518000,
          1500000,
          507500,
          516000,
          532500,
          3500000,
          548000,
          510000,
          3900000,
          550000,
          3000000,
          5250000,
          2175000,
          4000000,
          1000000,
          2500000,
          13666667,
          520000,
          3025000,
          1000000,
          3333333,
          13208333,
          9650000,
          2075000,
          8000000,
          3000000,
          9000000,
          535000,
          2500000,
          1350000,
          2000000,
          3450000,
          520000,
          511200,
          507500,
          520000,
          7150000,
          509600,
          508800,
          6225000,
          21500000,
          526400,
          523900,
          2925000,
          507500,
          1350000,
          521200,
          3000000,
          510200,
          1600000,
          800000,
          9625000,
          21000000,
          525500,
          517700,
          1600000,
          15450000,
          1490314,
          1000000,
          512500,
          6200000,
          3900000,
          508500,
          9916667,
          20833333,
          6000000,
          17500000,
          537500,
          6500000,
          550000,
          530000,
          1150000,
          5000000,
          512500,
          11250000,
          545000,
          15000000,
          18700000,
          20777778,
          9000000,
          10800000,
          5000000,
          517500,
          512500,
          1650000,
          507500,
          3750000,
          6500000,
          575000,
          507500,
          11500000,
          520000,
          4000000,
          509000,
          507500,
          17000000,
          12000000,
          7500000,
          512500,
          1400000,
          539000,
          14200000,
          8250000,
          2500000,
          2500000,
          12500000,
          510000,
          512500,
          5600000,
          539000,
          1500000,
          539000,
          19500000,
          3675000,
          1250000,
          519400,
          1250000,
          3000000,
          2875000,
          12100000,
          5000000,
          1250000,
          4000000,
          1387500,
          8000000,
          10936574,
          3000000,
          2500000,
          5350000,
          2800000,
          6250000,
          516100,
          543400,
          534900,
          514400,
          22142857,
          10400000,
          524000,
          524900,
          21733615,
          14000000
         ],
         "xaxis": "x",
         "y": [
          "ahmedni01",
          "barreja01",
          "brachsi01",
          "britoso01",
          "castiwe01",
          "chafian01",
          "clippty01",
          "corbipa01",
          "delarru01",
          "delgara01",
          "drurybr01",
          "goldspa01",
          "gosseph01",
          "greinza01",
          "herrmch01",
          "hudsoda01",
          "lambja01",
          "millesh01",
          "owingch01",
          "peralda01",
          "polloaj01",
          "rayro02",
          "segurje01",
          "tomasya01",
          "weeksri01",
          "zieglbr01",
          "aybarer01",
          "banuema01",
          "beckhgo01",
          "flowety01",
          "francje02",
          "freemfr01",
          "gantjo01",
          "garciad01",
          "grillja01",
          "inciaen01",
          "johnsji04",
          "johnske05",
          "markani01",
          "mckiran01",
          "norribu01",
          "oflaher01",
          "ogandal01",
          "olivehe01",
          "perezwi01",
          "peterja01",
          "pierzaj01",
          "ramirjo02",
          "rodrist02",
          "simmosh01",
          "stubbdr01",
          "teherju01",
          "vizcaar01",
          "winklda01",
          "wislema01",
          "arrieja01",
          "baezja01",
          "beeleda01",
          "brookaa01",
          "bryankr01",
          "cahiltr01",
          "fowlede01",
          "grimmju01",
          "hammeja01",
          "hendrky01",
          "heywaja01",
          "lackejo01",
          "lasteto01",
          "lestejo01",
          "montemi01",
          "ramirne01",
          "richacl01",
          "rizzoan01",
          "rondohe01",
          "rosscza01",
          "rossda01",
          "russead02",
          "schwaky01",
          "solerjo01",
          "stroppe01",
          "szczuma01",
          "warread01",
          "woodtr01",
          "zobribe01",
          "baileho02",
          "barnhtu01",
          "bruceja01",
          "cingrto01",
          "cothaca01",
          "cozarza01",
          "dejesiv02",
          "desclan01",
          "diazju03",
          "duvalad01",
          "finnebr01",
          "hamilbi02",
          "holtty01",
          "hoovejj01",
          "iglesra01",
          "lambjo02",
          "lorenmi01",
          "mesorde01",
          "moscojo01",
          "ohlenro01",
          "phillbr01",
          "sampske01",
          "schebsc01",
          "simonal01",
          "skipwky01",
          "straida01",
          "suareeu01",
          "vottojo01",
          "woodbl01",
          "adamecr01",
          "anderty01",
          "arenano01",
          "barnebr02",
          "bergmch01",
          "bettich01",
          "blackch02",
          "castrmi01",
          "chatwty01",
          "delarjo01",
          "descada01",
          "diazja01",
          "gonzaca01",
          "grayjo02",
          "gurkaja01",
          "hundlni01",
          "lemahdj01",
          "loganbo02",
          "lylesjo01",
          "matzety01",
          "mcgeeja01",
          "milleju02",
          "motteja01",
          "ottavad01",
          "parrage01",
          "paulsbe01",
          "quallch01",
          "raburry01",
          "reyesjo01",
          "reynoma01",
          "rusinch01",
          "storytr01",
          "wolteto01",
          "anderbr04",
          "baezpe01",
          "barneau01",
          "blantjo01",
          "bolsimi01",
          "colemlo01",
          "crawfca02",
          "culbech01",
          "ellisaj01",
          "ethiean01",
          "garciyi01",
          "gonzaad01",
          "grandya01",
          "guerral01",
          "hatchch02",
          "hernaen02",
          "howeljp01",
          "janseke01",
          "kazmisc01",
          "kendrho01",
          "kershcl01",
          "maedake01",
          "mccarbr01",
          "montafr01",
          "pederjo01",
          "puigya01",
          "ravinjo01",
          "ryuhy01",
          "seageco01",
          "stripro01",
          "thomptr01",
          "turneju01",
          "utleych01",
          "vanslsc01",
          "woodal02",
          "bourju01",
          "breslcr01",
          "cappsca01",
          "chenwe02",
          "conlead01",
          "cosarja01",
          "dietrde01",
          "dunnmi01",
          "fernajo02",
          "gordode01",
          "hechaad01",
          "jacksed01",
          "johnsch05",
          "koehlto01",
          "lazora01",
          "mathije01",
          "mcgowdu01",
          "morribr01",
          "narvech01",
          "ozunama01",
          "phelpda01",
          "pradoma01",
          "ramosaj01",
          "realmjt01",
          "rojasmi02",
          "stantmi03",
          "suzukic01",
          "yelicch01",
          "anderch01",
          "barriyh01",
          "blazemi01",
          "boyerbl01",
          "braunry02",
          "broxtke01",
          "capuach01",
          "cartech02",
          "florera02",
          "garzama01",
          "gennesc01",
          "hillaa01",
          "jeffrje01",
          "jungmta01",
          "knebeco01",
          "liriary01",
          "lucrojo01",
          "maldoma01",
          "nelsoji02",
          "nieuwki01",
          "nolinse01",
          "penaar01",
          "peralwi01",
          "riverya01",
          "santado01",
          "smithwi04",
          "thornty01",
          "torreca01",
          "villajo01",
          "walshco02",
          "bastaan01",
          "blevije01",
          "cabreas01",
          "campber01",
          "cespeyo01",
          "colonba01",
          "confomi01",
          "darnatr01",
          "deazaal01",
          "degroja01",
          "dudalu01",
          "edginjo01",
          "familje01",
          "florewi01",
          "grandcu01",
          "harvema01",
          "hendeji01",
          "lagarju01",
          "matzst01",
          "plaweke01",
          "reedad01",
          "robleha01",
          "syndeno01",
          "verrelo01",
          "walkene01",
          "wheelza01",
          "wrighda03",
          "altheaa01",
          "ascheco01",
          "blancan01",
          "bourjpe01",
          "burriem01",
          "eickhje01",
          "francma02",
          "galvifr01",
          "goeddty01",
          "gomezje01",
          "harrima01",
          "hellije01",
          "hernace02",
          "hernada01",
          "herreod01",
          "hinojda01",
          "hollama01",
          "huntece01",
          "margoma01",
          "mortoch02",
          "nerishe01",
          "nolaaa01",
          "oberhbr01",
          "rufda01",
          "ruizca01",
          "ruppca01",
          "russeja02",
          "stumpda01",
          "velasvi01",
          "caminar01",
          "cervefr01",
          "colege01",
          "diazel01",
          "felizne01",
          "figueco01",
          "freesda01",
          "harrijo05",
          "hugheja02",
          "jasojo01",
          "joycema01",
          "kangju01",
          "liriafr01",
          "lobstky01",
          "lockeje01",
          "luebkco01",
          "martest01",
          "mccutan01",
          "melanma01",
          "mercejo03",
          "morsemi01",
          "nicasju01",
          "niesejo01",
          "polangr01",
          "rodrise01",
          "stewach01",
          "vogelry01",
          "watsoto01",
          "baumabu01",
          "bethach01",
          "blashja01",
          "buchtry01",
          "cashnan01",
          "edwarjo02",
          "jankotr01",
          "jayjo02",
          "kempma01",
          "maurebr01",
          "myerswi01",
          "norride01",
          "perdolu02",
          "pomerdr01",
          "quackke01",
          "ramiral03",
          "reaco01",
          "rodnefe01",
          "rosalad01",
          "rossty01",
          "shielja02",
          "solarya01",
          "spangco01",
          "thornma01",
          "uptonbj01",
          "villaca01",
          "wallabr01",
          "adriaeh01",
          "beltbr01",
          "blancgr01",
          "browntr01",
          "bumgama01",
          "cainma01",
          "crawfbr01",
          "cuetojo01",
          "duffyma02",
          "garcija01",
          "gearrco01",
          "hestoch01",
          "kontoge01",
          "lopezja02",
          "osichjo01",
          "paganan01",
          "panikjo01",
          "peavyja01",
          "pencehu01",
          "poseybu01",
          "romose01",
          "samarje01",
          "spande01",
          "strichu01",
          "tomlike01",
          "adamsma01",
          "bowmama01",
          "broxtjo01",
          "carpema01",
          "fryerer01",
          "garcigr01",
          "garcija02",
          "grichra01",
          "gyorkje01",
          "harrimi03",
          "hazelje01",
          "hollima01",
          "leakemi01",
          "lynnla01",
          "lyonsty01",
          "manesse01",
          "martica04",
          "molinya01",
          "mossbr01",
          "ohse01",
          "penabr01",
          "peraljh01",
          "phamth01",
          "piscost01",
          "rosentr01",
          "siegrke01",
          "tejadru01",
          "wachami01",
          "wainwad01",
          "waldejo01",
          "wongko01",
          "barreaa01",
          "belisma01",
          "drewst01",
          "espinda01",
          "gonzagi01",
          "harpebr03",
          "heisech01",
          "kellesh01",
          "lobatjo01",
          "murphda08",
          "papeljo01",
          "perezol01",
          "petityu01",
          "ramoswi01",
          "rendoan01",
          "reverbe01",
          "riverfe01",
          "roarkta01",
          "robincl01",
          "rossjo01",
          "scherma01",
          "strasst01",
          "taylomi02",
          "treinbl01",
          "werthja01",
          "zimmery01"
         ],
         "yaxis": "y"
        },
        {
         "hovertemplate": "lgID=AL<br>salary=%{x}<br>playerID=%{y}<extra></extra>",
         "legendgroup": "AL",
         "marker": {
          "color": "#EF553B",
          "symbol": "circle"
         },
         "mode": "markers",
         "name": "AL",
         "orientation": "h",
         "showlegend": true,
         "type": "scatter",
         "x": [
          5731704,
          1250000,
          6750000,
          1800000,
          21268890,
          1500000,
          8728776,
          532000,
          511500,
          12209424,
          12673102,
          16329674,
          523500,
          2800000,
          5000000,
          3900000,
          523500,
          16329674,
          5854712,
          520000,
          1300000,
          507500,
          522500,
          6225000,
          9150000,
          15800000,
          511500,
          2600000,
          510500,
          511000,
          566000,
          650000,
          546500,
          13000000,
          11400000,
          3700000,
          606000,
          2600000,
          11000000,
          563750,
          16000000,
          12642511,
          20125000,
          30000000,
          22750000,
          509500,
          521000,
          1250000,
          17600000,
          515000,
          529000,
          518500,
          3375000,
          9000000,
          513000,
          539500,
          514500,
          6500000,
          11666667,
          2000000,
          2500000,
          14000000,
          15750000,
          5000000,
          2750000,
          8250000,
          2100000,
          5000000,
          810000,
          900000,
          3000000,
          4125000,
          4000000,
          535000,
          975000,
          5400000,
          11000000,
          518000,
          2000000,
          513000,
          9150000,
          535000,
          521000,
          4150000,
          511400,
          1697500,
          7375000,
          1000000,
          4500000,
          2725000,
          1000000,
          5250000,
          1000000,
          2583333,
          2000000,
          6166667,
          4700000,
          540300,
          765000,
          1300000,
          7000000,
          507500,
          520000,
          515800,
          518200,
          536200,
          8450000,
          2750000,
          2250000,
          4000000,
          2000000,
          28000000,
          536500,
          510500,
          509500,
          507500,
          525000,
          517000,
          520500,
          2100000,
          575000,
          14000000,
          5500000,
          6750000,
          18000000,
          8000000,
          519500,
          508500,
          514500,
          8000000,
          7383481,
          900000,
          509500,
          507500,
          16800000,
          22125000,
          509500,
          28000000,
          522500,
          1525000,
          18000000,
          3687500,
          5000000,
          516700,
          510200,
          8000000,
          508200,
          900000,
          524100,
          7000000,
          3300000,
          528200,
          9000000,
          2000000,
          6750000,
          525500,
          7250000,
          850000,
          519500,
          516700,
          529000,
          6500000,
          15800000,
          6000000,
          522400,
          508200,
          515000,
          6125000,
          507500,
          1162500,
          6500000,
          1475000,
          518425,
          8000000,
          4225000,
          1725000,
          5250000,
          508450,
          2000000,
          12000000,
          508500,
          2550000,
          5500000,
          8250000,
          7750000,
          7500000,
          5500000,
          2000000,
          9000000,
          5600000,
          514250,
          2000000,
          7000000,
          8500000,
          1200000,
          9500000,
          1000000,
          4250000,
          507500,
          510500,
          3400000,
          650000,
          525000,
          7000000,
          1000000,
          532500,
          515000,
          520000,
          1375000,
          1500000,
          513000,
          25000000,
          514500,
          6425000,
          2400000,
          5000000,
          530000,
          6000000,
          5250000,
          2800000,
          8000000,
          16083333,
          20200000,
          20500000,
          1250000,
          535000,
          512500,
          3000000,
          2150000,
          2275000,
          587500,
          9200000,
          5312000,
          545000,
          23000000,
          4500000,
          528700,
          12000000,
          1475000,
          6300000,
          7250000,
          520000,
          542500,
          547500,
          537500,
          13500000,
          6000000,
          515000,
          3200000,
          507500,
          15000000,
          507500,
          525300,
          7857142,
          507500,
          9468443,
          21142857,
          5600000,
          13500000,
          2425000,
          13000000,
          574000,
          17000000,
          9000000,
          516650,
          4100000,
          4300000,
          21000000,
          556000,
          25000000,
          521300,
          533400,
          22000000,
          23125000,
          508600,
          509700,
          511900,
          2650000,
          4250000,
          510000,
          4500000,
          510000,
          512500,
          11666667,
          512500,
          4800000,
          11000000,
          524500,
          1580000,
          2000000,
          507500,
          1925000,
          512500,
          527500,
          523400,
          6000000,
          7500000,
          6666667,
          850000,
          512500,
          6575000,
          1050000,
          2950000,
          512500,
          1500000,
          3150000,
          527500,
          5500000,
          7500000,
          24000000,
          4000000,
          516500,
          1100000,
          14250000,
          1600000,
          1500000,
          25857143,
          4250000,
          10976096,
          523700,
          1000000,
          8000000,
          515400,
          4150000,
          515000,
          532900,
          1250000,
          512000,
          807500,
          8000000,
          6750000,
          512000,
          525500,
          528600,
          511000,
          2916667,
          514500,
          519200,
          513600,
          524100,
          4000000,
          521700,
          1500000,
          522900,
          895000,
          527000,
          2250000,
          519300,
          1185000,
          3300000,
          514400,
          12600018,
          527600,
          5100000,
          4200000,
          520700,
          4750000,
          2375000,
          510000,
          3750000,
          516100,
          1000000,
          524525,
          511500,
          15333333,
          1500000,
          18000000,
          1550000,
          20000000,
          10000000,
          517300,
          8000000,
          1255000,
          525270,
          508500,
          24000000,
          975000,
          22500000,
          24000000,
          519000,
          508500,
          518000,
          509500,
          6000000,
          5700000,
          522700,
          3150000,
          510120,
          1650000,
          900000,
          3275000,
          3100000,
          1050000,
          14000000,
          507500,
          521800,
          3800000,
          4000000,
          521300,
          12000000,
          11650000,
          10000000,
          11500000,
          1000000,
          520200,
          10000000,
          510500,
          1050000,
          15000000,
          2000000,
          516100,
          521100,
          517800,
          2900000,
          513300,
          3900000,
          8375000,
          515900,
          800000,
          511200,
          20000000
         ],
         "xaxis": "x",
         "y": [
          "alvarpe01",
          "brachbr01",
          "brittza01",
          "bundydy01",
          "davisch02",
          "flahery01",
          "gallayo01",
          "gausmke01",
          "givenmy01",
          "hardyjj01",
          "jimenub01",
          "jonesad01",
          "josepca01",
          "kimhy01",
          "machama01",
          "matusbr01",
          "mcfartj01",
          "mileywa01",
          "odayda01",
          "paredji01",
          "reimono01",
          "rickajo01",
          "schoojo01",
          "tillmch01",
          "trumbma01",
          "wietema01",
          "wilsoty01",
          "worleva01",
          "wrighmi01",
          "barnema01",
          "bettsmo01",
          "bogaexa01",
          "bradlja02",
          "buchhcl01",
          "castiru01",
          "hanigry01",
          "holtbr01",
          "kellyjo05",
          "kimbrcr01",
          "layneto01",
          "ortizda01",
          "pedrodu01",
          "porceri01",
          "priceda01",
          "ramirha01",
          "ramirno01",
          "rodried05",
          "rossro01",
          "sandopa01",
          "shawtr01",
          "smithca02",
          "swihabl01",
          "tazawju01",
          "ueharko01",
          "vazquch01",
          "workmbr01",
          "wrighst01",
          "youngch04",
          "abreujo02",
          "alberma01",
          "avilaal01",
          "cabreme01",
          "danksjo01",
          "dukeza01",
          "eatonad02",
          "frazito01",
          "garciav01",
          "jacksau01",
          "jennida01",
          "jonesna01",
          "lamboan01",
          "lawribr01",
          "navardi01",
          "petrija01",
          "putnaza01",
          "quintjo01",
          "roberda08",
          "rodonca01",
          "rolliji01",
          "saladty01",
          "salech01",
          "sandsje01",
          "shuckja01",
          "allenco01",
          "anderco01",
          "bauertr01",
          "brantmi02",
          "byrdma01",
          "carraca01",
          "chiselo01",
          "cowgico01",
          "davisra01",
          "detwiro01",
          "gomesya01",
          "hunteto02",
          "kipnija01",
          "klubeco01",
          "lindofr01",
          "manshje01",
          "mcallza01",
          "napolmi01",
          "naquity01",
          "oteroda01",
          "perezro02",
          "ramirjo01",
          "salazda01",
          "santaca01",
          "shawbr01",
          "tomlijo01",
          "uribeju01",
          "avilemi01",
          "cabremi01",
          "casteni01",
          "collity01",
          "farmebu01",
          "ferreje01",
          "gosean01",
          "greensh02",
          "hardybl01",
          "iglesjo01",
          "kensilo01",
          "kinslia01",
          "lowema01",
          "martijd02",
          "martivi01",
          "maybica01",
          "mccanja02",
          "nesbian01",
          "norrida01",
          "pelfrmi01",
          "rodrifr03",
          "rominan01",
          "ryanky01",
          "saltaja01",
          "sanchan01",
          "uptonju01",
          "verhadr01",
          "verlaju01",
          "wilsoal01",
          "wilsoju10",
          "zimmejo02",
          "altuvjo01",
          "castrja01",
          "correca01",
          "duffyma01",
          "feldmsc01",
          "felizmi01",
          "fieldjo03",
          "fiersmi01",
          "fistedo01",
          "gattiev01",
          "gileske01",
          "gomezca01",
          "gonzama01",
          "gregelu01",
          "harriwi02",
          "keuchda01",
          "kratzer01",
          "marisja01",
          "mcculla02",
          "mchugco01",
          "neshepa01",
          "rasmuco01",
          "sippto01",
          "springe01",
          "stassma01",
          "tuckepr01",
          "valbulu01",
          "whitety01",
          "buterdr01",
          "cainlo01",
          "colliti01",
          "colonch01",
          "daviswa01",
          "duffyda01",
          "dysonja01",
          "escobal02",
          "fuentre01",
          "geedi01",
          "gordoal01",
          "gorete01",
          "herreke01",
          "hochelu01",
          "hosmeer01",
          "infanom01",
          "kenneia01",
          "medlekr01",
          "minormi01",
          "moralke01",
          "moustmi01",
          "orlanpa01",
          "perezsa02",
          "soriajo01",
          "vargaja01",
          "ventuyo01",
          "volqued01",
          "wangch01",
          "youngch03",
          "alvarjo02",
          "bedroca01",
          "calhoko01",
          "choiji01",
          "croncj01",
          "escobyu01",
          "gentrcr01",
          "giavojo01",
          "heanean01",
          "morinmi01",
          "navada01",
          "pennicl01",
          "perezca02",
          "pujolal01",
          "rasmuco02",
          "richaga01",
          "salasfe01",
          "santihe01",
          "shoemma01",
          "simmoan01",
          "smithjo05",
          "sotoge01",
          "streehu01",
          "troutmi01",
          "weaveje02",
          "wilsocj01",
          "abadfe01",
          "arciaos01",
          "buxtoby01",
          "doziebr01",
          "escobed01",
          "fienca01",
          "gibsoky01",
          "hugheph01",
          "jepseke01",
          "matzety01",
          "mauerjo01",
          "milonto01",
          "murphjr01",
          "nolasri01",
          "nunezed02",
          "perkigl01",
          "plouftr01",
          "pressry01",
          "rosared01",
          "sanomi01",
          "santada01",
          "santaer01",
          "suzukku01",
          "tonkimi01",
          "ackledu01",
          "barbajo01",
          "beltrca01",
          "betande01",
          "birdgr01",
          "castrst01",
          "cessalu01",
          "chapmar01",
          "ellsbja01",
          "eovalna01",
          "gardnbr01",
          "gregodi01",
          "headlch01",
          "hicksaa01",
          "mccanbr01",
          "millean01",
          "mitchbr01",
          "novaiv01",
          "pinedmi01",
          "rodrial01",
          "rominau01",
          "sabatcc01",
          "severlu01",
          "shrevch01",
          "tanakma01",
          "teixema01",
          "torrero01",
          "willima07",
          "yateski01",
          "alonsyo01",
          "alvarhe01",
          "alvarrj01",
          "axforjo01",
          "bassich01",
          "burnsbi02",
          "butlebi03",
          "canhama01",
          "coghlch01",
          "crispco01",
          "daviskh01",
          "doolise01",
          "doubrfe01",
          "dullry01",
          "fuldsa01",
          "graveke01",
          "grayso01",
          "hendrli01",
          "hillri01",
          "lowrije01",
          "madsory01",
          "parkeja02",
          "phegljo01",
          "reddijo01",
          "rodrife02",
          "rzepcma01",
          "semiema01",
          "sogarer01",
          "valenda01",
          "vogtst01",
          "aokino01",
          "benoijo01",
          "canoro01",
          "cishest01",
          "clevest01",
          "cookry01",
          "cruzne02",
          "furbuch01",
          "gutiefr01",
          "hernafe02",
          "iannech01",
          "iwakuhi01",
          "karnsna01",
          "leeda02",
          "lindad01",
          "marteke01",
          "martile01",
          "montgmi01",
          "nunovi01",
          "peraljo01",
          "sardilu01",
          "scribev01",
          "seageky01",
          "smithse01",
          "sucreje01",
          "vinceni01",
          "walketa01",
          "zychto01",
          "archech01",
          "beckhti01",
          "boxbebr01",
          "casalcu01",
          "cedenxa01",
          "cobbal01",
          "colomal01",
          "congeha01",
          "dickeco01",
          "evelada01",
          "farquda01",
          "forsylo01",
          "geltzst01",
          "guyerbr01",
          "jennide01",
          "kiermke01",
          "longoev01",
          "millebr02",
          "moorema02",
          "morrilo01",
          "odorija01",
          "pearcst01",
          "ramirer02",
          "romeren01",
          "smylydr01",
          "souzast01",
          "webbry01",
          "whitlch01",
          "alberha01",
          "andruel01",
          "barneto01",
          "beltrad01",
          "chiriro01",
          "choosh01",
          "darviyu01",
          "deshide02",
          "desmoia01",
          "diekmja01",
          "dysonsa01",
          "faulkan01",
          "fieldpr01",
          "gimench01",
          "hamelco01",
          "hamiljo03",
          "holadbr01",
          "jackslu01",
          "kelake01",
          "kleinph01",
          "lewisco01",
          "morelmi01",
          "odorro01",
          "perezma02",
          "ruary01",
          "ruggiju01",
          "schepta01",
          "tollesh01",
          "wilheto01",
          "barneda01",
          "bautijo02",
          "biagijo01",
          "carreez01",
          "cecilbr01",
          "chaveje01",
          "colabch01",
          "dickera01",
          "donaljo02",
          "encared01",
          "estrama01",
          "floydga01",
          "goinsry01",
          "happja01",
          "leonar01",
          "loupaa01",
          "martiru01",
          "moralfr01",
          "osunaro01",
          "pillake01",
          "sanchaa01",
          "saundmi01",
          "schulbo02",
          "smoakju01",
          "storedr01",
          "stromma01",
          "tholejo01",
          "travide01",
          "tulowtr01"
         ],
         "yaxis": "y"
        }
       ],
       "layout": {
        "legend": {
         "title": {
          "text": "lgID"
         },
         "tracegroupgap": 0
        },
        "template": {
         "data": {
          "bar": [
           {
            "error_x": {
             "color": "#2a3f5f"
            },
            "error_y": {
             "color": "#2a3f5f"
            },
            "marker": {
             "line": {
              "color": "#E5ECF6",
              "width": 0.5
             }
            },
            "type": "bar"
           }
          ],
          "barpolar": [
           {
            "marker": {
             "line": {
              "color": "#E5ECF6",
              "width": 0.5
             }
            },
            "type": "barpolar"
           }
          ],
          "carpet": [
           {
            "aaxis": {
             "endlinecolor": "#2a3f5f",
             "gridcolor": "white",
             "linecolor": "white",
             "minorgridcolor": "white",
             "startlinecolor": "#2a3f5f"
            },
            "baxis": {
             "endlinecolor": "#2a3f5f",
             "gridcolor": "white",
             "linecolor": "white",
             "minorgridcolor": "white",
             "startlinecolor": "#2a3f5f"
            },
            "type": "carpet"
           }
          ],
          "choropleth": [
           {
            "colorbar": {
             "outlinewidth": 0,
             "ticks": ""
            },
            "type": "choropleth"
           }
          ],
          "contour": [
           {
            "colorbar": {
             "outlinewidth": 0,
             "ticks": ""
            },
            "colorscale": [
             [
              0,
              "#0d0887"
             ],
             [
              0.1111111111111111,
              "#46039f"
             ],
             [
              0.2222222222222222,
              "#7201a8"
             ],
             [
              0.3333333333333333,
              "#9c179e"
             ],
             [
              0.4444444444444444,
              "#bd3786"
             ],
             [
              0.5555555555555556,
              "#d8576b"
             ],
             [
              0.6666666666666666,
              "#ed7953"
             ],
             [
              0.7777777777777778,
              "#fb9f3a"
             ],
             [
              0.8888888888888888,
              "#fdca26"
             ],
             [
              1,
              "#f0f921"
             ]
            ],
            "type": "contour"
           }
          ],
          "contourcarpet": [
           {
            "colorbar": {
             "outlinewidth": 0,
             "ticks": ""
            },
            "type": "contourcarpet"
           }
          ],
          "heatmap": [
           {
            "colorbar": {
             "outlinewidth": 0,
             "ticks": ""
            },
            "colorscale": [
             [
              0,
              "#0d0887"
             ],
             [
              0.1111111111111111,
              "#46039f"
             ],
             [
              0.2222222222222222,
              "#7201a8"
             ],
             [
              0.3333333333333333,
              "#9c179e"
             ],
             [
              0.4444444444444444,
              "#bd3786"
             ],
             [
              0.5555555555555556,
              "#d8576b"
             ],
             [
              0.6666666666666666,
              "#ed7953"
             ],
             [
              0.7777777777777778,
              "#fb9f3a"
             ],
             [
              0.8888888888888888,
              "#fdca26"
             ],
             [
              1,
              "#f0f921"
             ]
            ],
            "type": "heatmap"
           }
          ],
          "heatmapgl": [
           {
            "colorbar": {
             "outlinewidth": 0,
             "ticks": ""
            },
            "colorscale": [
             [
              0,
              "#0d0887"
             ],
             [
              0.1111111111111111,
              "#46039f"
             ],
             [
              0.2222222222222222,
              "#7201a8"
             ],
             [
              0.3333333333333333,
              "#9c179e"
             ],
             [
              0.4444444444444444,
              "#bd3786"
             ],
             [
              0.5555555555555556,
              "#d8576b"
             ],
             [
              0.6666666666666666,
              "#ed7953"
             ],
             [
              0.7777777777777778,
              "#fb9f3a"
             ],
             [
              0.8888888888888888,
              "#fdca26"
             ],
             [
              1,
              "#f0f921"
             ]
            ],
            "type": "heatmapgl"
           }
          ],
          "histogram": [
           {
            "marker": {
             "colorbar": {
              "outlinewidth": 0,
              "ticks": ""
             }
            },
            "type": "histogram"
           }
          ],
          "histogram2d": [
           {
            "colorbar": {
             "outlinewidth": 0,
             "ticks": ""
            },
            "colorscale": [
             [
              0,
              "#0d0887"
             ],
             [
              0.1111111111111111,
              "#46039f"
             ],
             [
              0.2222222222222222,
              "#7201a8"
             ],
             [
              0.3333333333333333,
              "#9c179e"
             ],
             [
              0.4444444444444444,
              "#bd3786"
             ],
             [
              0.5555555555555556,
              "#d8576b"
             ],
             [
              0.6666666666666666,
              "#ed7953"
             ],
             [
              0.7777777777777778,
              "#fb9f3a"
             ],
             [
              0.8888888888888888,
              "#fdca26"
             ],
             [
              1,
              "#f0f921"
             ]
            ],
            "type": "histogram2d"
           }
          ],
          "histogram2dcontour": [
           {
            "colorbar": {
             "outlinewidth": 0,
             "ticks": ""
            },
            "colorscale": [
             [
              0,
              "#0d0887"
             ],
             [
              0.1111111111111111,
              "#46039f"
             ],
             [
              0.2222222222222222,
              "#7201a8"
             ],
             [
              0.3333333333333333,
              "#9c179e"
             ],
             [
              0.4444444444444444,
              "#bd3786"
             ],
             [
              0.5555555555555556,
              "#d8576b"
             ],
             [
              0.6666666666666666,
              "#ed7953"
             ],
             [
              0.7777777777777778,
              "#fb9f3a"
             ],
             [
              0.8888888888888888,
              "#fdca26"
             ],
             [
              1,
              "#f0f921"
             ]
            ],
            "type": "histogram2dcontour"
           }
          ],
          "mesh3d": [
           {
            "colorbar": {
             "outlinewidth": 0,
             "ticks": ""
            },
            "type": "mesh3d"
           }
          ],
          "parcoords": [
           {
            "line": {
             "colorbar": {
              "outlinewidth": 0,
              "ticks": ""
             }
            },
            "type": "parcoords"
           }
          ],
          "pie": [
           {
            "automargin": true,
            "type": "pie"
           }
          ],
          "scatter": [
           {
            "marker": {
             "colorbar": {
              "outlinewidth": 0,
              "ticks": ""
             }
            },
            "type": "scatter"
           }
          ],
          "scatter3d": [
           {
            "line": {
             "colorbar": {
              "outlinewidth": 0,
              "ticks": ""
             }
            },
            "marker": {
             "colorbar": {
              "outlinewidth": 0,
              "ticks": ""
             }
            },
            "type": "scatter3d"
           }
          ],
          "scattercarpet": [
           {
            "marker": {
             "colorbar": {
              "outlinewidth": 0,
              "ticks": ""
             }
            },
            "type": "scattercarpet"
           }
          ],
          "scattergeo": [
           {
            "marker": {
             "colorbar": {
              "outlinewidth": 0,
              "ticks": ""
             }
            },
            "type": "scattergeo"
           }
          ],
          "scattergl": [
           {
            "marker": {
             "colorbar": {
              "outlinewidth": 0,
              "ticks": ""
             }
            },
            "type": "scattergl"
           }
          ],
          "scattermapbox": [
           {
            "marker": {
             "colorbar": {
              "outlinewidth": 0,
              "ticks": ""
             }
            },
            "type": "scattermapbox"
           }
          ],
          "scatterpolar": [
           {
            "marker": {
             "colorbar": {
              "outlinewidth": 0,
              "ticks": ""
             }
            },
            "type": "scatterpolar"
           }
          ],
          "scatterpolargl": [
           {
            "marker": {
             "colorbar": {
              "outlinewidth": 0,
              "ticks": ""
             }
            },
            "type": "scatterpolargl"
           }
          ],
          "scatterternary": [
           {
            "marker": {
             "colorbar": {
              "outlinewidth": 0,
              "ticks": ""
             }
            },
            "type": "scatterternary"
           }
          ],
          "surface": [
           {
            "colorbar": {
             "outlinewidth": 0,
             "ticks": ""
            },
            "colorscale": [
             [
              0,
              "#0d0887"
             ],
             [
              0.1111111111111111,
              "#46039f"
             ],
             [
              0.2222222222222222,
              "#7201a8"
             ],
             [
              0.3333333333333333,
              "#9c179e"
             ],
             [
              0.4444444444444444,
              "#bd3786"
             ],
             [
              0.5555555555555556,
              "#d8576b"
             ],
             [
              0.6666666666666666,
              "#ed7953"
             ],
             [
              0.7777777777777778,
              "#fb9f3a"
             ],
             [
              0.8888888888888888,
              "#fdca26"
             ],
             [
              1,
              "#f0f921"
             ]
            ],
            "type": "surface"
           }
          ],
          "table": [
           {
            "cells": {
             "fill": {
              "color": "#EBF0F8"
             },
             "line": {
              "color": "white"
             }
            },
            "header": {
             "fill": {
              "color": "#C8D4E3"
             },
             "line": {
              "color": "white"
             }
            },
            "type": "table"
           }
          ]
         },
         "layout": {
          "annotationdefaults": {
           "arrowcolor": "#2a3f5f",
           "arrowhead": 0,
           "arrowwidth": 1
          },
          "autotypenumbers": "strict",
          "coloraxis": {
           "colorbar": {
            "outlinewidth": 0,
            "ticks": ""
           }
          },
          "colorscale": {
           "diverging": [
            [
             0,
             "#8e0152"
            ],
            [
             0.1,
             "#c51b7d"
            ],
            [
             0.2,
             "#de77ae"
            ],
            [
             0.3,
             "#f1b6da"
            ],
            [
             0.4,
             "#fde0ef"
            ],
            [
             0.5,
             "#f7f7f7"
            ],
            [
             0.6,
             "#e6f5d0"
            ],
            [
             0.7,
             "#b8e186"
            ],
            [
             0.8,
             "#7fbc41"
            ],
            [
             0.9,
             "#4d9221"
            ],
            [
             1,
             "#276419"
            ]
           ],
           "sequential": [
            [
             0,
             "#0d0887"
            ],
            [
             0.1111111111111111,
             "#46039f"
            ],
            [
             0.2222222222222222,
             "#7201a8"
            ],
            [
             0.3333333333333333,
             "#9c179e"
            ],
            [
             0.4444444444444444,
             "#bd3786"
            ],
            [
             0.5555555555555556,
             "#d8576b"
            ],
            [
             0.6666666666666666,
             "#ed7953"
            ],
            [
             0.7777777777777778,
             "#fb9f3a"
            ],
            [
             0.8888888888888888,
             "#fdca26"
            ],
            [
             1,
             "#f0f921"
            ]
           ],
           "sequentialminus": [
            [
             0,
             "#0d0887"
            ],
            [
             0.1111111111111111,
             "#46039f"
            ],
            [
             0.2222222222222222,
             "#7201a8"
            ],
            [
             0.3333333333333333,
             "#9c179e"
            ],
            [
             0.4444444444444444,
             "#bd3786"
            ],
            [
             0.5555555555555556,
             "#d8576b"
            ],
            [
             0.6666666666666666,
             "#ed7953"
            ],
            [
             0.7777777777777778,
             "#fb9f3a"
            ],
            [
             0.8888888888888888,
             "#fdca26"
            ],
            [
             1,
             "#f0f921"
            ]
           ]
          },
          "colorway": [
           "#636efa",
           "#EF553B",
           "#00cc96",
           "#ab63fa",
           "#FFA15A",
           "#19d3f3",
           "#FF6692",
           "#B6E880",
           "#FF97FF",
           "#FECB52"
          ],
          "font": {
           "color": "#2a3f5f"
          },
          "geo": {
           "bgcolor": "white",
           "lakecolor": "white",
           "landcolor": "#E5ECF6",
           "showlakes": true,
           "showland": true,
           "subunitcolor": "white"
          },
          "hoverlabel": {
           "align": "left"
          },
          "hovermode": "closest",
          "mapbox": {
           "style": "light"
          },
          "paper_bgcolor": "white",
          "plot_bgcolor": "#E5ECF6",
          "polar": {
           "angularaxis": {
            "gridcolor": "white",
            "linecolor": "white",
            "ticks": ""
           },
           "bgcolor": "#E5ECF6",
           "radialaxis": {
            "gridcolor": "white",
            "linecolor": "white",
            "ticks": ""
           }
          },
          "scene": {
           "xaxis": {
            "backgroundcolor": "#E5ECF6",
            "gridcolor": "white",
            "gridwidth": 2,
            "linecolor": "white",
            "showbackground": true,
            "ticks": "",
            "zerolinecolor": "white"
           },
           "yaxis": {
            "backgroundcolor": "#E5ECF6",
            "gridcolor": "white",
            "gridwidth": 2,
            "linecolor": "white",
            "showbackground": true,
            "ticks": "",
            "zerolinecolor": "white"
           },
           "zaxis": {
            "backgroundcolor": "#E5ECF6",
            "gridcolor": "white",
            "gridwidth": 2,
            "linecolor": "white",
            "showbackground": true,
            "ticks": "",
            "zerolinecolor": "white"
           }
          },
          "shapedefaults": {
           "line": {
            "color": "#2a3f5f"
           }
          },
          "ternary": {
           "aaxis": {
            "gridcolor": "white",
            "linecolor": "white",
            "ticks": ""
           },
           "baxis": {
            "gridcolor": "white",
            "linecolor": "white",
            "ticks": ""
           },
           "bgcolor": "#E5ECF6",
           "caxis": {
            "gridcolor": "white",
            "linecolor": "white",
            "ticks": ""
           }
          },
          "title": {
           "x": 0.05
          },
          "xaxis": {
           "automargin": true,
           "gridcolor": "white",
           "linecolor": "white",
           "ticks": "",
           "title": {
            "standoff": 15
           },
           "zerolinecolor": "white",
           "zerolinewidth": 2
          },
          "yaxis": {
           "automargin": true,
           "gridcolor": "white",
           "linecolor": "white",
           "ticks": "",
           "title": {
            "standoff": 15
           },
           "zerolinecolor": "white",
           "zerolinewidth": 2
          }
         }
        },
        "title": {
         "text": "Player Salary with lgID"
        },
        "xaxis": {
         "anchor": "y",
         "domain": [
          0,
          1
         ],
         "title": {
          "text": "salary"
         }
        },
        "yaxis": {
         "anchor": "x",
         "domain": [
          0,
          1
         ],
         "title": {
          "text": "playerID"
         }
        }
       }
      },
      "text/html": [
       "<div>                            <div id=\"5e37c7be-3fbd-4251-9ea5-b113580e29a7\" class=\"plotly-graph-div\" style=\"height:525px; width:100%;\"></div>            <script type=\"text/javascript\">                require([\"plotly\"], function(Plotly) {                    window.PLOTLYENV=window.PLOTLYENV || {};                                    if (document.getElementById(\"5e37c7be-3fbd-4251-9ea5-b113580e29a7\")) {                    Plotly.newPlot(                        \"5e37c7be-3fbd-4251-9ea5-b113580e29a7\",                        [{\"hovertemplate\": \"lgID=NL<br>salary=%{x}<br>playerID=%{y}<extra></extra>\", \"legendgroup\": \"NL\", \"marker\": {\"color\": \"#636efa\", \"symbol\": \"circle\"}, \"mode\": \"markers\", \"name\": \"NL\", \"orientation\": \"h\", \"showlegend\": true, \"type\": \"scatter\", \"x\": [521600, 507500, 509300, 508500, 3700000, 519700, 6100000, 2525000, 2350000, 1275000, 508900, 5833333, 513900, 31799030, 515900, 2700000, 520300, 4350000, 530500, 529600, 3500000, 521000, 2600000, 7500000, 1500000, 5500000, 8500000, 507500, 1250000, 2000000, 1000000, 12359375, 507500, 508750, 3625000, 523000, 2500000, 2000000, 11000000, 511750, 2500000, 1750000, 2000000, 4000000, 511250, 520500, 3000000, 507500, 520500, 508000, 507500, 3466666, 897500, 508500, 507500, 10700000, 512000, 508500, 510000, 652000, 4250000, 8000000, 1275000, 9000000, 541000, 19555288, 16000000, 532000, 25000000, 14000000, 524500, 2000000, 5285714, 4200000, 524500, 2500000, 527000, 522000, 3666666, 4400000, 511500, 1700000, 6170000, 10500000, 18000000, 517500, 12541666, 530000, 509675, 2925000, 517000, 540000, 525000, 510000, 511500, 570000, 508000, 1400000, 3214285, 507500, 516500, 5025000, 508000, 800000, 13083333, 507500, 507500, 2000000, 508000, 512100, 545000, 20000000, 600000, 509500, 509500, 5000000, 1000000, 512500, 512500, 3500000, 509500, 1000000, 12500000, 2100000, 509500, 17428571, 509500, 660000, 3150000, 3000000, 6250000, 2975000, 509500, 4800000, 509500, 5000000, 1300000, 8000000, 512500, 2250000, 1500000, 22000000, 2600000, 512500, 507500, 507500, 15800000, 520000, 512500, 4000000, 515000, 725000, 20750000, 535000, 4500000, 18000000, 517500, 21000000, 2800000, 7500000, 1065000, 520000, 6250000, 10650000, 14985384, 9540378, 33000000, 3125000, 12500000, 510000, 520000, 7214285, 515000, 7833333, 510000, 507500, 512500, 5100000, 7000000, 1225000, 530000, 537500, 1500000, 987500, 12500000, 512500, 550000, 522500, 3450000, 2800000, 3242202, 2625000, 507500, 8007500, 3500000, 508500, 1500000, 1000000, 1350000, 1200000, 570000, 2500000, 11000000, 3400000, 532500, 511000, 9000000, 2000000, 1000000, 520200, 509200, 514200, 950000, 19315013, 508500, 1500000, 2500000, 508800, 12209424, 518100, 12000000, 519100, 518500, 513000, 508500, 4100000, 1125000, 522300, 514000, 509700, 510000, 2800000, 508600, 513800, 1475000, 513900, 1050000, 512900, 507500, 5375000, 4000000, 8250000, 513308, 27328046, 7250000, 517246, 542604, 5750000, 607000, 6725000, 625000, 4100000, 526014, 16000000, 4325000, 600000, 2500000, 515750, 511360, 5300000, 516500, 535375, 514875, 10550000, 546250, 19364801, 515500, 530000, 1450000, 2000000, 925000, 516000, 517500, 2000000, 507500, 1400000, 13000000, 7000000, 525000, 3900000, 528000, 514000, 512500, 507500, 512500, 8000000, 515000, 517500, 518000, 527000, 8500000, 518000, 1500000, 507500, 516000, 532500, 3500000, 548000, 510000, 3900000, 550000, 3000000, 5250000, 2175000, 4000000, 1000000, 2500000, 13666667, 520000, 3025000, 1000000, 3333333, 13208333, 9650000, 2075000, 8000000, 3000000, 9000000, 535000, 2500000, 1350000, 2000000, 3450000, 520000, 511200, 507500, 520000, 7150000, 509600, 508800, 6225000, 21500000, 526400, 523900, 2925000, 507500, 1350000, 521200, 3000000, 510200, 1600000, 800000, 9625000, 21000000, 525500, 517700, 1600000, 15450000, 1490314, 1000000, 512500, 6200000, 3900000, 508500, 9916667, 20833333, 6000000, 17500000, 537500, 6500000, 550000, 530000, 1150000, 5000000, 512500, 11250000, 545000, 15000000, 18700000, 20777778, 9000000, 10800000, 5000000, 517500, 512500, 1650000, 507500, 3750000, 6500000, 575000, 507500, 11500000, 520000, 4000000, 509000, 507500, 17000000, 12000000, 7500000, 512500, 1400000, 539000, 14200000, 8250000, 2500000, 2500000, 12500000, 510000, 512500, 5600000, 539000, 1500000, 539000, 19500000, 3675000, 1250000, 519400, 1250000, 3000000, 2875000, 12100000, 5000000, 1250000, 4000000, 1387500, 8000000, 10936574, 3000000, 2500000, 5350000, 2800000, 6250000, 516100, 543400, 534900, 514400, 22142857, 10400000, 524000, 524900, 21733615, 14000000], \"xaxis\": \"x\", \"y\": [\"ahmedni01\", \"barreja01\", \"brachsi01\", \"britoso01\", \"castiwe01\", \"chafian01\", \"clippty01\", \"corbipa01\", \"delarru01\", \"delgara01\", \"drurybr01\", \"goldspa01\", \"gosseph01\", \"greinza01\", \"herrmch01\", \"hudsoda01\", \"lambja01\", \"millesh01\", \"owingch01\", \"peralda01\", \"polloaj01\", \"rayro02\", \"segurje01\", \"tomasya01\", \"weeksri01\", \"zieglbr01\", \"aybarer01\", \"banuema01\", \"beckhgo01\", \"flowety01\", \"francje02\", \"freemfr01\", \"gantjo01\", \"garciad01\", \"grillja01\", \"inciaen01\", \"johnsji04\", \"johnske05\", \"markani01\", \"mckiran01\", \"norribu01\", \"oflaher01\", \"ogandal01\", \"olivehe01\", \"perezwi01\", \"peterja01\", \"pierzaj01\", \"ramirjo02\", \"rodrist02\", \"simmosh01\", \"stubbdr01\", \"teherju01\", \"vizcaar01\", \"winklda01\", \"wislema01\", \"arrieja01\", \"baezja01\", \"beeleda01\", \"brookaa01\", \"bryankr01\", \"cahiltr01\", \"fowlede01\", \"grimmju01\", \"hammeja01\", \"hendrky01\", \"heywaja01\", \"lackejo01\", \"lasteto01\", \"lestejo01\", \"montemi01\", \"ramirne01\", \"richacl01\", \"rizzoan01\", \"rondohe01\", \"rosscza01\", \"rossda01\", \"russead02\", \"schwaky01\", \"solerjo01\", \"stroppe01\", \"szczuma01\", \"warread01\", \"woodtr01\", \"zobribe01\", \"baileho02\", \"barnhtu01\", \"bruceja01\", \"cingrto01\", \"cothaca01\", \"cozarza01\", \"dejesiv02\", \"desclan01\", \"diazju03\", \"duvalad01\", \"finnebr01\", \"hamilbi02\", \"holtty01\", \"hoovejj01\", \"iglesra01\", \"lambjo02\", \"lorenmi01\", \"mesorde01\", \"moscojo01\", \"ohlenro01\", \"phillbr01\", \"sampske01\", \"schebsc01\", \"simonal01\", \"skipwky01\", \"straida01\", \"suareeu01\", \"vottojo01\", \"woodbl01\", \"adamecr01\", \"anderty01\", \"arenano01\", \"barnebr02\", \"bergmch01\", \"bettich01\", \"blackch02\", \"castrmi01\", \"chatwty01\", \"delarjo01\", \"descada01\", \"diazja01\", \"gonzaca01\", \"grayjo02\", \"gurkaja01\", \"hundlni01\", \"lemahdj01\", \"loganbo02\", \"lylesjo01\", \"matzety01\", \"mcgeeja01\", \"milleju02\", \"motteja01\", \"ottavad01\", \"parrage01\", \"paulsbe01\", \"quallch01\", \"raburry01\", \"reyesjo01\", \"reynoma01\", \"rusinch01\", \"storytr01\", \"wolteto01\", \"anderbr04\", \"baezpe01\", \"barneau01\", \"blantjo01\", \"bolsimi01\", \"colemlo01\", \"crawfca02\", \"culbech01\", \"ellisaj01\", \"ethiean01\", \"garciyi01\", \"gonzaad01\", \"grandya01\", \"guerral01\", \"hatchch02\", \"hernaen02\", \"howeljp01\", \"janseke01\", \"kazmisc01\", \"kendrho01\", \"kershcl01\", \"maedake01\", \"mccarbr01\", \"montafr01\", \"pederjo01\", \"puigya01\", \"ravinjo01\", \"ryuhy01\", \"seageco01\", \"stripro01\", \"thomptr01\", \"turneju01\", \"utleych01\", \"vanslsc01\", \"woodal02\", \"bourju01\", \"breslcr01\", \"cappsca01\", \"chenwe02\", \"conlead01\", \"cosarja01\", \"dietrde01\", \"dunnmi01\", \"fernajo02\", \"gordode01\", \"hechaad01\", \"jacksed01\", \"johnsch05\", \"koehlto01\", \"lazora01\", \"mathije01\", \"mcgowdu01\", \"morribr01\", \"narvech01\", \"ozunama01\", \"phelpda01\", \"pradoma01\", \"ramosaj01\", \"realmjt01\", \"rojasmi02\", \"stantmi03\", \"suzukic01\", \"yelicch01\", \"anderch01\", \"barriyh01\", \"blazemi01\", \"boyerbl01\", \"braunry02\", \"broxtke01\", \"capuach01\", \"cartech02\", \"florera02\", \"garzama01\", \"gennesc01\", \"hillaa01\", \"jeffrje01\", \"jungmta01\", \"knebeco01\", \"liriary01\", \"lucrojo01\", \"maldoma01\", \"nelsoji02\", \"nieuwki01\", \"nolinse01\", \"penaar01\", \"peralwi01\", \"riverya01\", \"santado01\", \"smithwi04\", \"thornty01\", \"torreca01\", \"villajo01\", \"walshco02\", \"bastaan01\", \"blevije01\", \"cabreas01\", \"campber01\", \"cespeyo01\", \"colonba01\", \"confomi01\", \"darnatr01\", \"deazaal01\", \"degroja01\", \"dudalu01\", \"edginjo01\", \"familje01\", \"florewi01\", \"grandcu01\", \"harvema01\", \"hendeji01\", \"lagarju01\", \"matzst01\", \"plaweke01\", \"reedad01\", \"robleha01\", \"syndeno01\", \"verrelo01\", \"walkene01\", \"wheelza01\", \"wrighda03\", \"altheaa01\", \"ascheco01\", \"blancan01\", \"bourjpe01\", \"burriem01\", \"eickhje01\", \"francma02\", \"galvifr01\", \"goeddty01\", \"gomezje01\", \"harrima01\", \"hellije01\", \"hernace02\", \"hernada01\", \"herreod01\", \"hinojda01\", \"hollama01\", \"huntece01\", \"margoma01\", \"mortoch02\", \"nerishe01\", \"nolaaa01\", \"oberhbr01\", \"rufda01\", \"ruizca01\", \"ruppca01\", \"russeja02\", \"stumpda01\", \"velasvi01\", \"caminar01\", \"cervefr01\", \"colege01\", \"diazel01\", \"felizne01\", \"figueco01\", \"freesda01\", \"harrijo05\", \"hugheja02\", \"jasojo01\", \"joycema01\", \"kangju01\", \"liriafr01\", \"lobstky01\", \"lockeje01\", \"luebkco01\", \"martest01\", \"mccutan01\", \"melanma01\", \"mercejo03\", \"morsemi01\", \"nicasju01\", \"niesejo01\", \"polangr01\", \"rodrise01\", \"stewach01\", \"vogelry01\", \"watsoto01\", \"baumabu01\", \"bethach01\", \"blashja01\", \"buchtry01\", \"cashnan01\", \"edwarjo02\", \"jankotr01\", \"jayjo02\", \"kempma01\", \"maurebr01\", \"myerswi01\", \"norride01\", \"perdolu02\", \"pomerdr01\", \"quackke01\", \"ramiral03\", \"reaco01\", \"rodnefe01\", \"rosalad01\", \"rossty01\", \"shielja02\", \"solarya01\", \"spangco01\", \"thornma01\", \"uptonbj01\", \"villaca01\", \"wallabr01\", \"adriaeh01\", \"beltbr01\", \"blancgr01\", \"browntr01\", \"bumgama01\", \"cainma01\", \"crawfbr01\", \"cuetojo01\", \"duffyma02\", \"garcija01\", \"gearrco01\", \"hestoch01\", \"kontoge01\", \"lopezja02\", \"osichjo01\", \"paganan01\", \"panikjo01\", \"peavyja01\", \"pencehu01\", \"poseybu01\", \"romose01\", \"samarje01\", \"spande01\", \"strichu01\", \"tomlike01\", \"adamsma01\", \"bowmama01\", \"broxtjo01\", \"carpema01\", \"fryerer01\", \"garcigr01\", \"garcija02\", \"grichra01\", \"gyorkje01\", \"harrimi03\", \"hazelje01\", \"hollima01\", \"leakemi01\", \"lynnla01\", \"lyonsty01\", \"manesse01\", \"martica04\", \"molinya01\", \"mossbr01\", \"ohse01\", \"penabr01\", \"peraljh01\", \"phamth01\", \"piscost01\", \"rosentr01\", \"siegrke01\", \"tejadru01\", \"wachami01\", \"wainwad01\", \"waldejo01\", \"wongko01\", \"barreaa01\", \"belisma01\", \"drewst01\", \"espinda01\", \"gonzagi01\", \"harpebr03\", \"heisech01\", \"kellesh01\", \"lobatjo01\", \"murphda08\", \"papeljo01\", \"perezol01\", \"petityu01\", \"ramoswi01\", \"rendoan01\", \"reverbe01\", \"riverfe01\", \"roarkta01\", \"robincl01\", \"rossjo01\", \"scherma01\", \"strasst01\", \"taylomi02\", \"treinbl01\", \"werthja01\", \"zimmery01\"], \"yaxis\": \"y\"}, {\"hovertemplate\": \"lgID=AL<br>salary=%{x}<br>playerID=%{y}<extra></extra>\", \"legendgroup\": \"AL\", \"marker\": {\"color\": \"#EF553B\", \"symbol\": \"circle\"}, \"mode\": \"markers\", \"name\": \"AL\", \"orientation\": \"h\", \"showlegend\": true, \"type\": \"scatter\", \"x\": [5731704, 1250000, 6750000, 1800000, 21268890, 1500000, 8728776, 532000, 511500, 12209424, 12673102, 16329674, 523500, 2800000, 5000000, 3900000, 523500, 16329674, 5854712, 520000, 1300000, 507500, 522500, 6225000, 9150000, 15800000, 511500, 2600000, 510500, 511000, 566000, 650000, 546500, 13000000, 11400000, 3700000, 606000, 2600000, 11000000, 563750, 16000000, 12642511, 20125000, 30000000, 22750000, 509500, 521000, 1250000, 17600000, 515000, 529000, 518500, 3375000, 9000000, 513000, 539500, 514500, 6500000, 11666667, 2000000, 2500000, 14000000, 15750000, 5000000, 2750000, 8250000, 2100000, 5000000, 810000, 900000, 3000000, 4125000, 4000000, 535000, 975000, 5400000, 11000000, 518000, 2000000, 513000, 9150000, 535000, 521000, 4150000, 511400, 1697500, 7375000, 1000000, 4500000, 2725000, 1000000, 5250000, 1000000, 2583333, 2000000, 6166667, 4700000, 540300, 765000, 1300000, 7000000, 507500, 520000, 515800, 518200, 536200, 8450000, 2750000, 2250000, 4000000, 2000000, 28000000, 536500, 510500, 509500, 507500, 525000, 517000, 520500, 2100000, 575000, 14000000, 5500000, 6750000, 18000000, 8000000, 519500, 508500, 514500, 8000000, 7383481, 900000, 509500, 507500, 16800000, 22125000, 509500, 28000000, 522500, 1525000, 18000000, 3687500, 5000000, 516700, 510200, 8000000, 508200, 900000, 524100, 7000000, 3300000, 528200, 9000000, 2000000, 6750000, 525500, 7250000, 850000, 519500, 516700, 529000, 6500000, 15800000, 6000000, 522400, 508200, 515000, 6125000, 507500, 1162500, 6500000, 1475000, 518425, 8000000, 4225000, 1725000, 5250000, 508450, 2000000, 12000000, 508500, 2550000, 5500000, 8250000, 7750000, 7500000, 5500000, 2000000, 9000000, 5600000, 514250, 2000000, 7000000, 8500000, 1200000, 9500000, 1000000, 4250000, 507500, 510500, 3400000, 650000, 525000, 7000000, 1000000, 532500, 515000, 520000, 1375000, 1500000, 513000, 25000000, 514500, 6425000, 2400000, 5000000, 530000, 6000000, 5250000, 2800000, 8000000, 16083333, 20200000, 20500000, 1250000, 535000, 512500, 3000000, 2150000, 2275000, 587500, 9200000, 5312000, 545000, 23000000, 4500000, 528700, 12000000, 1475000, 6300000, 7250000, 520000, 542500, 547500, 537500, 13500000, 6000000, 515000, 3200000, 507500, 15000000, 507500, 525300, 7857142, 507500, 9468443, 21142857, 5600000, 13500000, 2425000, 13000000, 574000, 17000000, 9000000, 516650, 4100000, 4300000, 21000000, 556000, 25000000, 521300, 533400, 22000000, 23125000, 508600, 509700, 511900, 2650000, 4250000, 510000, 4500000, 510000, 512500, 11666667, 512500, 4800000, 11000000, 524500, 1580000, 2000000, 507500, 1925000, 512500, 527500, 523400, 6000000, 7500000, 6666667, 850000, 512500, 6575000, 1050000, 2950000, 512500, 1500000, 3150000, 527500, 5500000, 7500000, 24000000, 4000000, 516500, 1100000, 14250000, 1600000, 1500000, 25857143, 4250000, 10976096, 523700, 1000000, 8000000, 515400, 4150000, 515000, 532900, 1250000, 512000, 807500, 8000000, 6750000, 512000, 525500, 528600, 511000, 2916667, 514500, 519200, 513600, 524100, 4000000, 521700, 1500000, 522900, 895000, 527000, 2250000, 519300, 1185000, 3300000, 514400, 12600018, 527600, 5100000, 4200000, 520700, 4750000, 2375000, 510000, 3750000, 516100, 1000000, 524525, 511500, 15333333, 1500000, 18000000, 1550000, 20000000, 10000000, 517300, 8000000, 1255000, 525270, 508500, 24000000, 975000, 22500000, 24000000, 519000, 508500, 518000, 509500, 6000000, 5700000, 522700, 3150000, 510120, 1650000, 900000, 3275000, 3100000, 1050000, 14000000, 507500, 521800, 3800000, 4000000, 521300, 12000000, 11650000, 10000000, 11500000, 1000000, 520200, 10000000, 510500, 1050000, 15000000, 2000000, 516100, 521100, 517800, 2900000, 513300, 3900000, 8375000, 515900, 800000, 511200, 20000000], \"xaxis\": \"x\", \"y\": [\"alvarpe01\", \"brachbr01\", \"brittza01\", \"bundydy01\", \"davisch02\", \"flahery01\", \"gallayo01\", \"gausmke01\", \"givenmy01\", \"hardyjj01\", \"jimenub01\", \"jonesad01\", \"josepca01\", \"kimhy01\", \"machama01\", \"matusbr01\", \"mcfartj01\", \"mileywa01\", \"odayda01\", \"paredji01\", \"reimono01\", \"rickajo01\", \"schoojo01\", \"tillmch01\", \"trumbma01\", \"wietema01\", \"wilsoty01\", \"worleva01\", \"wrighmi01\", \"barnema01\", \"bettsmo01\", \"bogaexa01\", \"bradlja02\", \"buchhcl01\", \"castiru01\", \"hanigry01\", \"holtbr01\", \"kellyjo05\", \"kimbrcr01\", \"layneto01\", \"ortizda01\", \"pedrodu01\", \"porceri01\", \"priceda01\", \"ramirha01\", \"ramirno01\", \"rodried05\", \"rossro01\", \"sandopa01\", \"shawtr01\", \"smithca02\", \"swihabl01\", \"tazawju01\", \"ueharko01\", \"vazquch01\", \"workmbr01\", \"wrighst01\", \"youngch04\", \"abreujo02\", \"alberma01\", \"avilaal01\", \"cabreme01\", \"danksjo01\", \"dukeza01\", \"eatonad02\", \"frazito01\", \"garciav01\", \"jacksau01\", \"jennida01\", \"jonesna01\", \"lamboan01\", \"lawribr01\", \"navardi01\", \"petrija01\", \"putnaza01\", \"quintjo01\", \"roberda08\", \"rodonca01\", \"rolliji01\", \"saladty01\", \"salech01\", \"sandsje01\", \"shuckja01\", \"allenco01\", \"anderco01\", \"bauertr01\", \"brantmi02\", \"byrdma01\", \"carraca01\", \"chiselo01\", \"cowgico01\", \"davisra01\", \"detwiro01\", \"gomesya01\", \"hunteto02\", \"kipnija01\", \"klubeco01\", \"lindofr01\", \"manshje01\", \"mcallza01\", \"napolmi01\", \"naquity01\", \"oteroda01\", \"perezro02\", \"ramirjo01\", \"salazda01\", \"santaca01\", \"shawbr01\", \"tomlijo01\", \"uribeju01\", \"avilemi01\", \"cabremi01\", \"casteni01\", \"collity01\", \"farmebu01\", \"ferreje01\", \"gosean01\", \"greensh02\", \"hardybl01\", \"iglesjo01\", \"kensilo01\", \"kinslia01\", \"lowema01\", \"martijd02\", \"martivi01\", \"maybica01\", \"mccanja02\", \"nesbian01\", \"norrida01\", \"pelfrmi01\", \"rodrifr03\", \"rominan01\", \"ryanky01\", \"saltaja01\", \"sanchan01\", \"uptonju01\", \"verhadr01\", \"verlaju01\", \"wilsoal01\", \"wilsoju10\", \"zimmejo02\", \"altuvjo01\", \"castrja01\", \"correca01\", \"duffyma01\", \"feldmsc01\", \"felizmi01\", \"fieldjo03\", \"fiersmi01\", \"fistedo01\", \"gattiev01\", \"gileske01\", \"gomezca01\", \"gonzama01\", \"gregelu01\", \"harriwi02\", \"keuchda01\", \"kratzer01\", \"marisja01\", \"mcculla02\", \"mchugco01\", \"neshepa01\", \"rasmuco01\", \"sippto01\", \"springe01\", \"stassma01\", \"tuckepr01\", \"valbulu01\", \"whitety01\", \"buterdr01\", \"cainlo01\", \"colliti01\", \"colonch01\", \"daviswa01\", \"duffyda01\", \"dysonja01\", \"escobal02\", \"fuentre01\", \"geedi01\", \"gordoal01\", \"gorete01\", \"herreke01\", \"hochelu01\", \"hosmeer01\", \"infanom01\", \"kenneia01\", \"medlekr01\", \"minormi01\", \"moralke01\", \"moustmi01\", \"orlanpa01\", \"perezsa02\", \"soriajo01\", \"vargaja01\", \"ventuyo01\", \"volqued01\", \"wangch01\", \"youngch03\", \"alvarjo02\", \"bedroca01\", \"calhoko01\", \"choiji01\", \"croncj01\", \"escobyu01\", \"gentrcr01\", \"giavojo01\", \"heanean01\", \"morinmi01\", \"navada01\", \"pennicl01\", \"perezca02\", \"pujolal01\", \"rasmuco02\", \"richaga01\", \"salasfe01\", \"santihe01\", \"shoemma01\", \"simmoan01\", \"smithjo05\", \"sotoge01\", \"streehu01\", \"troutmi01\", \"weaveje02\", \"wilsocj01\", \"abadfe01\", \"arciaos01\", \"buxtoby01\", \"doziebr01\", \"escobed01\", \"fienca01\", \"gibsoky01\", \"hugheph01\", \"jepseke01\", \"matzety01\", \"mauerjo01\", \"milonto01\", \"murphjr01\", \"nolasri01\", \"nunezed02\", \"perkigl01\", \"plouftr01\", \"pressry01\", \"rosared01\", \"sanomi01\", \"santada01\", \"santaer01\", \"suzukku01\", \"tonkimi01\", \"ackledu01\", \"barbajo01\", \"beltrca01\", \"betande01\", \"birdgr01\", \"castrst01\", \"cessalu01\", \"chapmar01\", \"ellsbja01\", \"eovalna01\", \"gardnbr01\", \"gregodi01\", \"headlch01\", \"hicksaa01\", \"mccanbr01\", \"millean01\", \"mitchbr01\", \"novaiv01\", \"pinedmi01\", \"rodrial01\", \"rominau01\", \"sabatcc01\", \"severlu01\", \"shrevch01\", \"tanakma01\", \"teixema01\", \"torrero01\", \"willima07\", \"yateski01\", \"alonsyo01\", \"alvarhe01\", \"alvarrj01\", \"axforjo01\", \"bassich01\", \"burnsbi02\", \"butlebi03\", \"canhama01\", \"coghlch01\", \"crispco01\", \"daviskh01\", \"doolise01\", \"doubrfe01\", \"dullry01\", \"fuldsa01\", \"graveke01\", \"grayso01\", \"hendrli01\", \"hillri01\", \"lowrije01\", \"madsory01\", \"parkeja02\", \"phegljo01\", \"reddijo01\", \"rodrife02\", \"rzepcma01\", \"semiema01\", \"sogarer01\", \"valenda01\", \"vogtst01\", \"aokino01\", \"benoijo01\", \"canoro01\", \"cishest01\", \"clevest01\", \"cookry01\", \"cruzne02\", \"furbuch01\", \"gutiefr01\", \"hernafe02\", \"iannech01\", \"iwakuhi01\", \"karnsna01\", \"leeda02\", \"lindad01\", \"marteke01\", \"martile01\", \"montgmi01\", \"nunovi01\", \"peraljo01\", \"sardilu01\", \"scribev01\", \"seageky01\", \"smithse01\", \"sucreje01\", \"vinceni01\", \"walketa01\", \"zychto01\", \"archech01\", \"beckhti01\", \"boxbebr01\", \"casalcu01\", \"cedenxa01\", \"cobbal01\", \"colomal01\", \"congeha01\", \"dickeco01\", \"evelada01\", \"farquda01\", \"forsylo01\", \"geltzst01\", \"guyerbr01\", \"jennide01\", \"kiermke01\", \"longoev01\", \"millebr02\", \"moorema02\", \"morrilo01\", \"odorija01\", \"pearcst01\", \"ramirer02\", \"romeren01\", \"smylydr01\", \"souzast01\", \"webbry01\", \"whitlch01\", \"alberha01\", \"andruel01\", \"barneto01\", \"beltrad01\", \"chiriro01\", \"choosh01\", \"darviyu01\", \"deshide02\", \"desmoia01\", \"diekmja01\", \"dysonsa01\", \"faulkan01\", \"fieldpr01\", \"gimench01\", \"hamelco01\", \"hamiljo03\", \"holadbr01\", \"jackslu01\", \"kelake01\", \"kleinph01\", \"lewisco01\", \"morelmi01\", \"odorro01\", \"perezma02\", \"ruary01\", \"ruggiju01\", \"schepta01\", \"tollesh01\", \"wilheto01\", \"barneda01\", \"bautijo02\", \"biagijo01\", \"carreez01\", \"cecilbr01\", \"chaveje01\", \"colabch01\", \"dickera01\", \"donaljo02\", \"encared01\", \"estrama01\", \"floydga01\", \"goinsry01\", \"happja01\", \"leonar01\", \"loupaa01\", \"martiru01\", \"moralfr01\", \"osunaro01\", \"pillake01\", \"sanchaa01\", \"saundmi01\", \"schulbo02\", \"smoakju01\", \"storedr01\", \"stromma01\", \"tholejo01\", \"travide01\", \"tulowtr01\"], \"yaxis\": \"y\"}],                        {\"legend\": {\"title\": {\"text\": \"lgID\"}, \"tracegroupgap\": 0}, \"template\": {\"data\": {\"bar\": [{\"error_x\": {\"color\": \"#2a3f5f\"}, \"error_y\": {\"color\": \"#2a3f5f\"}, \"marker\": {\"line\": {\"color\": \"#E5ECF6\", \"width\": 0.5}}, \"type\": \"bar\"}], \"barpolar\": [{\"marker\": {\"line\": {\"color\": \"#E5ECF6\", \"width\": 0.5}}, \"type\": \"barpolar\"}], \"carpet\": [{\"aaxis\": {\"endlinecolor\": \"#2a3f5f\", \"gridcolor\": \"white\", \"linecolor\": \"white\", \"minorgridcolor\": \"white\", \"startlinecolor\": \"#2a3f5f\"}, \"baxis\": {\"endlinecolor\": \"#2a3f5f\", \"gridcolor\": \"white\", \"linecolor\": \"white\", \"minorgridcolor\": \"white\", \"startlinecolor\": \"#2a3f5f\"}, \"type\": \"carpet\"}], \"choropleth\": [{\"colorbar\": {\"outlinewidth\": 0, \"ticks\": \"\"}, \"type\": \"choropleth\"}], \"contour\": [{\"colorbar\": {\"outlinewidth\": 0, \"ticks\": \"\"}, \"colorscale\": [[0.0, \"#0d0887\"], [0.1111111111111111, \"#46039f\"], [0.2222222222222222, \"#7201a8\"], [0.3333333333333333, \"#9c179e\"], [0.4444444444444444, \"#bd3786\"], [0.5555555555555556, \"#d8576b\"], [0.6666666666666666, \"#ed7953\"], [0.7777777777777778, \"#fb9f3a\"], [0.8888888888888888, \"#fdca26\"], [1.0, \"#f0f921\"]], \"type\": \"contour\"}], \"contourcarpet\": [{\"colorbar\": {\"outlinewidth\": 0, \"ticks\": \"\"}, \"type\": \"contourcarpet\"}], \"heatmap\": [{\"colorbar\": {\"outlinewidth\": 0, \"ticks\": \"\"}, \"colorscale\": [[0.0, \"#0d0887\"], [0.1111111111111111, \"#46039f\"], [0.2222222222222222, \"#7201a8\"], [0.3333333333333333, \"#9c179e\"], [0.4444444444444444, \"#bd3786\"], [0.5555555555555556, \"#d8576b\"], [0.6666666666666666, \"#ed7953\"], [0.7777777777777778, \"#fb9f3a\"], [0.8888888888888888, \"#fdca26\"], [1.0, \"#f0f921\"]], \"type\": \"heatmap\"}], \"heatmapgl\": [{\"colorbar\": {\"outlinewidth\": 0, \"ticks\": \"\"}, \"colorscale\": [[0.0, \"#0d0887\"], [0.1111111111111111, \"#46039f\"], [0.2222222222222222, \"#7201a8\"], [0.3333333333333333, \"#9c179e\"], [0.4444444444444444, \"#bd3786\"], [0.5555555555555556, \"#d8576b\"], [0.6666666666666666, \"#ed7953\"], [0.7777777777777778, \"#fb9f3a\"], [0.8888888888888888, \"#fdca26\"], [1.0, \"#f0f921\"]], \"type\": \"heatmapgl\"}], \"histogram\": [{\"marker\": {\"colorbar\": {\"outlinewidth\": 0, \"ticks\": \"\"}}, \"type\": \"histogram\"}], \"histogram2d\": [{\"colorbar\": {\"outlinewidth\": 0, \"ticks\": \"\"}, \"colorscale\": [[0.0, \"#0d0887\"], [0.1111111111111111, \"#46039f\"], [0.2222222222222222, \"#7201a8\"], [0.3333333333333333, \"#9c179e\"], [0.4444444444444444, \"#bd3786\"], [0.5555555555555556, \"#d8576b\"], [0.6666666666666666, \"#ed7953\"], [0.7777777777777778, \"#fb9f3a\"], [0.8888888888888888, \"#fdca26\"], [1.0, \"#f0f921\"]], \"type\": \"histogram2d\"}], \"histogram2dcontour\": [{\"colorbar\": {\"outlinewidth\": 0, \"ticks\": \"\"}, \"colorscale\": [[0.0, \"#0d0887\"], [0.1111111111111111, \"#46039f\"], [0.2222222222222222, \"#7201a8\"], [0.3333333333333333, \"#9c179e\"], [0.4444444444444444, \"#bd3786\"], [0.5555555555555556, \"#d8576b\"], [0.6666666666666666, \"#ed7953\"], [0.7777777777777778, \"#fb9f3a\"], [0.8888888888888888, \"#fdca26\"], [1.0, \"#f0f921\"]], \"type\": \"histogram2dcontour\"}], \"mesh3d\": [{\"colorbar\": {\"outlinewidth\": 0, \"ticks\": \"\"}, \"type\": \"mesh3d\"}], \"parcoords\": [{\"line\": {\"colorbar\": {\"outlinewidth\": 0, \"ticks\": \"\"}}, \"type\": \"parcoords\"}], \"pie\": [{\"automargin\": true, \"type\": \"pie\"}], \"scatter\": [{\"marker\": {\"colorbar\": {\"outlinewidth\": 0, \"ticks\": \"\"}}, \"type\": \"scatter\"}], \"scatter3d\": [{\"line\": {\"colorbar\": {\"outlinewidth\": 0, \"ticks\": \"\"}}, \"marker\": {\"colorbar\": {\"outlinewidth\": 0, \"ticks\": \"\"}}, \"type\": \"scatter3d\"}], \"scattercarpet\": [{\"marker\": {\"colorbar\": {\"outlinewidth\": 0, \"ticks\": \"\"}}, \"type\": \"scattercarpet\"}], \"scattergeo\": [{\"marker\": {\"colorbar\": {\"outlinewidth\": 0, \"ticks\": \"\"}}, \"type\": \"scattergeo\"}], \"scattergl\": [{\"marker\": {\"colorbar\": {\"outlinewidth\": 0, \"ticks\": \"\"}}, \"type\": \"scattergl\"}], \"scattermapbox\": [{\"marker\": {\"colorbar\": {\"outlinewidth\": 0, \"ticks\": \"\"}}, \"type\": \"scattermapbox\"}], \"scatterpolar\": [{\"marker\": {\"colorbar\": {\"outlinewidth\": 0, \"ticks\": \"\"}}, \"type\": \"scatterpolar\"}], \"scatterpolargl\": [{\"marker\": {\"colorbar\": {\"outlinewidth\": 0, \"ticks\": \"\"}}, \"type\": \"scatterpolargl\"}], \"scatterternary\": [{\"marker\": {\"colorbar\": {\"outlinewidth\": 0, \"ticks\": \"\"}}, \"type\": \"scatterternary\"}], \"surface\": [{\"colorbar\": {\"outlinewidth\": 0, \"ticks\": \"\"}, \"colorscale\": [[0.0, \"#0d0887\"], [0.1111111111111111, \"#46039f\"], [0.2222222222222222, \"#7201a8\"], [0.3333333333333333, \"#9c179e\"], [0.4444444444444444, \"#bd3786\"], [0.5555555555555556, \"#d8576b\"], [0.6666666666666666, \"#ed7953\"], [0.7777777777777778, \"#fb9f3a\"], [0.8888888888888888, \"#fdca26\"], [1.0, \"#f0f921\"]], \"type\": \"surface\"}], \"table\": [{\"cells\": {\"fill\": {\"color\": \"#EBF0F8\"}, \"line\": {\"color\": \"white\"}}, \"header\": {\"fill\": {\"color\": \"#C8D4E3\"}, \"line\": {\"color\": \"white\"}}, \"type\": \"table\"}]}, \"layout\": {\"annotationdefaults\": {\"arrowcolor\": \"#2a3f5f\", \"arrowhead\": 0, \"arrowwidth\": 1}, \"autotypenumbers\": \"strict\", \"coloraxis\": {\"colorbar\": {\"outlinewidth\": 0, \"ticks\": \"\"}}, \"colorscale\": {\"diverging\": [[0, \"#8e0152\"], [0.1, \"#c51b7d\"], [0.2, \"#de77ae\"], [0.3, \"#f1b6da\"], [0.4, \"#fde0ef\"], [0.5, \"#f7f7f7\"], [0.6, \"#e6f5d0\"], [0.7, \"#b8e186\"], [0.8, \"#7fbc41\"], [0.9, \"#4d9221\"], [1, \"#276419\"]], \"sequential\": [[0.0, \"#0d0887\"], [0.1111111111111111, \"#46039f\"], [0.2222222222222222, \"#7201a8\"], [0.3333333333333333, \"#9c179e\"], [0.4444444444444444, \"#bd3786\"], [0.5555555555555556, \"#d8576b\"], [0.6666666666666666, \"#ed7953\"], [0.7777777777777778, \"#fb9f3a\"], [0.8888888888888888, \"#fdca26\"], [1.0, \"#f0f921\"]], \"sequentialminus\": [[0.0, \"#0d0887\"], [0.1111111111111111, \"#46039f\"], [0.2222222222222222, \"#7201a8\"], [0.3333333333333333, \"#9c179e\"], [0.4444444444444444, \"#bd3786\"], [0.5555555555555556, \"#d8576b\"], [0.6666666666666666, \"#ed7953\"], [0.7777777777777778, \"#fb9f3a\"], [0.8888888888888888, \"#fdca26\"], [1.0, \"#f0f921\"]]}, \"colorway\": [\"#636efa\", \"#EF553B\", \"#00cc96\", \"#ab63fa\", \"#FFA15A\", \"#19d3f3\", \"#FF6692\", \"#B6E880\", \"#FF97FF\", \"#FECB52\"], \"font\": {\"color\": \"#2a3f5f\"}, \"geo\": {\"bgcolor\": \"white\", \"lakecolor\": \"white\", \"landcolor\": \"#E5ECF6\", \"showlakes\": true, \"showland\": true, \"subunitcolor\": \"white\"}, \"hoverlabel\": {\"align\": \"left\"}, \"hovermode\": \"closest\", \"mapbox\": {\"style\": \"light\"}, \"paper_bgcolor\": \"white\", \"plot_bgcolor\": \"#E5ECF6\", \"polar\": {\"angularaxis\": {\"gridcolor\": \"white\", \"linecolor\": \"white\", \"ticks\": \"\"}, \"bgcolor\": \"#E5ECF6\", \"radialaxis\": {\"gridcolor\": \"white\", \"linecolor\": \"white\", \"ticks\": \"\"}}, \"scene\": {\"xaxis\": {\"backgroundcolor\": \"#E5ECF6\", \"gridcolor\": \"white\", \"gridwidth\": 2, \"linecolor\": \"white\", \"showbackground\": true, \"ticks\": \"\", \"zerolinecolor\": \"white\"}, \"yaxis\": {\"backgroundcolor\": \"#E5ECF6\", \"gridcolor\": \"white\", \"gridwidth\": 2, \"linecolor\": \"white\", \"showbackground\": true, \"ticks\": \"\", \"zerolinecolor\": \"white\"}, \"zaxis\": {\"backgroundcolor\": \"#E5ECF6\", \"gridcolor\": \"white\", \"gridwidth\": 2, \"linecolor\": \"white\", \"showbackground\": true, \"ticks\": \"\", \"zerolinecolor\": \"white\"}}, \"shapedefaults\": {\"line\": {\"color\": \"#2a3f5f\"}}, \"ternary\": {\"aaxis\": {\"gridcolor\": \"white\", \"linecolor\": \"white\", \"ticks\": \"\"}, \"baxis\": {\"gridcolor\": \"white\", \"linecolor\": \"white\", \"ticks\": \"\"}, \"bgcolor\": \"#E5ECF6\", \"caxis\": {\"gridcolor\": \"white\", \"linecolor\": \"white\", \"ticks\": \"\"}}, \"title\": {\"x\": 0.05}, \"xaxis\": {\"automargin\": true, \"gridcolor\": \"white\", \"linecolor\": \"white\", \"ticks\": \"\", \"title\": {\"standoff\": 15}, \"zerolinecolor\": \"white\", \"zerolinewidth\": 2}, \"yaxis\": {\"automargin\": true, \"gridcolor\": \"white\", \"linecolor\": \"white\", \"ticks\": \"\", \"title\": {\"standoff\": 15}, \"zerolinecolor\": \"white\", \"zerolinewidth\": 2}}}, \"title\": {\"text\": \"Player Salary with lgID\"}, \"xaxis\": {\"anchor\": \"y\", \"domain\": [0.0, 1.0], \"title\": {\"text\": \"salary\"}}, \"yaxis\": {\"anchor\": \"x\", \"domain\": [0.0, 1.0], \"title\": {\"text\": \"playerID\"}}},                        {\"responsive\": true}                    ).then(function(){\n",
       "                            \n",
       "var gd = document.getElementById('5e37c7be-3fbd-4251-9ea5-b113580e29a7');\n",
       "var x = new MutationObserver(function (mutations, observer) {{\n",
       "        var display = window.getComputedStyle(gd).display;\n",
       "        if (!display || display === 'none') {{\n",
       "            console.log([gd, 'removed!']);\n",
       "            Plotly.purge(gd);\n",
       "            observer.disconnect();\n",
       "        }}\n",
       "}});\n",
       "\n",
       "// Listen for the removal of the full notebook cells\n",
       "var notebookContainer = gd.closest('#notebook-container');\n",
       "if (notebookContainer) {{\n",
       "    x.observe(notebookContainer, {childList: true});\n",
       "}}\n",
       "\n",
       "// Listen for the clearing of the current output cell\n",
       "var outputEl = gd.closest('.output');\n",
       "if (outputEl) {{\n",
       "    x.observe(outputEl, {childList: true});\n",
       "}}\n",
       "\n",
       "                        })                };                });            </script>        </div>"
      ]
     },
     "metadata": {},
     "output_type": "display_data"
    },
    {
     "data": {
      "text/plain": [
       "<Figure size 1440x1440 with 0 Axes>"
      ]
     },
     "metadata": {},
     "output_type": "display_data"
    }
   ],
   "source": [
    "import plotly.express as px\n",
    "plt.figure(figsize=(20,20))\n",
    "fig = px.scatter(df16, x=\"salary\", y=\"playerID\", color=\"lgID\",title=\"Player Salary with lgID\")\n",
    "fig.show()"
   ]
  },
  {
   "cell_type": "code",
   "execution_count": 15,
   "metadata": {
    "colab": {},
    "colab_type": "code",
    "id": "X8SghvkAvVBZ"
   },
   "outputs": [
    {
     "data": {
      "image/png": "[encoded data removed]",
      "text/plain": [
       "<Figure size 432x288 with 1 Axes>"
      ]
     },
     "metadata": {
      "needs_background": "light"
     },
     "output_type": "display_data"
    }
   ],
   "source": [
    "import seaborn as sns\n",
    "import matplotlib.pyplot as plt\n",
    "sns.kdeplot(df16.salary).set_title('Kernel of 2016 Salary')\n",
    "plt.show()"
   ]
  },
  {
   "cell_type": "code",
   "execution_count": 16,
   "metadata": {
    "colab": {},
    "colab_type": "code",
    "id": "woxJUd8Fwtek"
   },
   "outputs": [
    {
     "name": "stderr",
     "output_type": "stream",
     "text": [
      "c:\\ca_da\\anaconda\\envs\\pro2_understood\\lib\\site-packages\\seaborn\\distributions.py:2557: FutureWarning:\n",
      "\n",
      "`distplot` is a deprecated function and will be removed in a future version. Please adapt your code to use either `displot` (a figure-level function with similar flexibility) or `histplot` (an axes-level function for histograms).\n",
      "\n"
     ]
    },
    {
     "data": {
      "image/png": "[encoded data removed]",
      "text/plain": [
       "<Figure size 432x288 with 1 Axes>"
      ]
     },
     "metadata": {
      "needs_background": "light"
     },
     "output_type": "display_data"
    }
   ],
   "source": [
    "sns.distplot(df16.salary).set_title('Histogram of 2016 Salary')\n",
    "plt.show()"
   ]
  },
  {
   "cell_type": "code",
   "execution_count": 17,
   "metadata": {
    "colab": {},
    "colab_type": "code",
    "id": "9cxvz7gbxkKY"
   },
   "outputs": [
    {
     "data": {
      "image/png": "[encoded data removed]",
      "text/plain": [
       "<Figure size 432x288 with 1 Axes>"
      ]
     },
     "metadata": {
      "needs_background": "light"
     },
     "output_type": "display_data"
    }
   ],
   "source": [
    "sns.boxplot(x=\"salary\",data =df16).set_title('Boxplot of 2016 Salary')\n",
    "plt.show()"
   ]
  },
  {
   "cell_type": "markdown",
   "metadata": {
    "colab_type": "text",
    "id": "YkusLAYX7Y5y"
   },
   "source": [
    "## 실습\n",
    "\n",
    "\n",
    "*   2016년 선수연봉과 2011년 선수연봉의 상자그림을 그리고 시각적으로 해석하시오.\n",
    "\n",
    "\n",
    "\n"
   ]
  },
  {
   "cell_type": "markdown",
   "metadata": {
    "colab_type": "text",
    "id": "PhlzDc_LKeZ3"
   },
   "source": [
    "##중심극한 정리 활용"
   ]
  },
  {
   "cell_type": "markdown",
   "metadata": {
    "colab_type": "text",
    "id": "dejtXRwbLNbB"
   },
   "source": [
    "sample data 만들기 n=50"
   ]
  },
  {
   "cell_type": "code",
   "execution_count": 18,
   "metadata": {
    "colab": {},
    "colab_type": "code",
    "id": "eZopD6W-LVaI"
   },
   "outputs": [],
   "source": [
    "df_sample=df16['salary'].sample(n=50, random_state=123) #seed=109"
   ]
  },
  {
   "cell_type": "code",
   "execution_count": 19,
   "metadata": {
    "colab": {},
    "colab_type": "code",
    "id": "Cl43sslHMZC3"
   },
   "outputs": [
    {
     "name": "stderr",
     "output_type": "stream",
     "text": [
      "c:\\ca_da\\anaconda\\envs\\pro2_understood\\lib\\site-packages\\seaborn\\_decorators.py:43: FutureWarning:\n",
      "\n",
      "Pass the following variable as a keyword arg: x. From version 0.12, the only valid positional argument will be `data`, and passing other arguments without an explicit keyword will result in an error or misinterpretation.\n",
      "\n"
     ]
    },
    {
     "data": {
      "image/png": "[encoded data removed]",
      "text/plain": [
       "<Figure size 432x288 with 1 Axes>"
      ]
     },
     "metadata": {
      "needs_background": "light"
     },
     "output_type": "display_data"
    }
   ],
   "source": [
    "sns.boxplot(df_sample).set_title('Boxplot of 2016 Salary : train=sample')\n",
    "plt.show()"
   ]
  },
  {
   "cell_type": "markdown",
   "metadata": {
    "colab_type": "text",
    "id": "FSnLUrzLYqq5"
   },
   "source": [
    "크기 50인 확률표본  -> 평균, 100개 만들기"
   ]
  },
  {
   "cell_type": "code",
   "execution_count": 20,
   "metadata": {
    "colab": {},
    "colab_type": "code",
    "id": "fVpmwJUcTHSC"
   },
   "outputs": [],
   "source": [
    "xbar=[]\n",
    "for k in range(0,100):\n",
    "  xbar.append(df16['salary'].sample(n=50).mean())"
   ]
  },
  {
   "cell_type": "code",
   "execution_count": 21,
   "metadata": {
    "colab": {},
    "colab_type": "code",
    "id": "H7I1uDKkVD5H"
   },
   "outputs": [
    {
     "name": "stderr",
     "output_type": "stream",
     "text": [
      "c:\\ca_da\\anaconda\\envs\\pro2_understood\\lib\\site-packages\\seaborn\\_decorators.py:43: FutureWarning:\n",
      "\n",
      "Pass the following variable as a keyword arg: x. From version 0.12, the only valid positional argument will be `data`, and passing other arguments without an explicit keyword will result in an error or misinterpretation.\n",
      "\n"
     ]
    },
    {
     "data": {
      "image/png": "[encoded data removed]",
      "text/plain": [
       "<Figure size 432x288 with 1 Axes>"
      ]
     },
     "metadata": {
      "needs_background": "light"
     },
     "output_type": "display_data"
    }
   ],
   "source": [
    "sns.boxplot(xbar).set_title('Boxplot of 2016 Salary : sample-mean')\n",
    "plt.show()"
   ]
  },
  {
   "cell_type": "markdown",
   "metadata": {
    "colab_type": "text",
    "id": "TXpEqRrTZDEH"
   },
   "source": [
    "##모집단 추론\n",
    "2016년 MLB 선수들의 연봉이 40만불 이상인가?"
   ]
  },
  {
   "cell_type": "code",
   "execution_count": 22,
   "metadata": {
    "colab": {},
    "colab_type": "code",
    "id": "ORd4a5SRQxeY"
   },
   "outputs": [
    {
     "name": "stdout",
     "output_type": "stream",
     "text": [
      "Population mean 4396409.6\n"
     ]
    }
   ],
   "source": [
    "pd.options.display.float_format = '{:.2f}'.format\n",
    "print('Population mean %.1f' % df16['salary'].mean()) #모잡단 연봉"
   ]
  },
  {
   "cell_type": "markdown",
   "metadata": {
    "colab_type": "text",
    "id": "SL-soFGxZjpi"
   },
   "source": [
    "추정"
   ]
  },
  {
   "cell_type": "code",
   "execution_count": 23,
   "metadata": {
    "colab": {},
    "colab_type": "code",
    "id": "lQf4hzzsZjFX"
   },
   "outputs": [
    {
     "name": "stdout",
     "output_type": "stream",
     "text": [
      "Point estimaor 3850525.3\n"
     ]
    }
   ],
   "source": [
    "print('Point estimaor %.1f' % df_sample.mean())"
   ]
  },
  {
   "cell_type": "code",
   "execution_count": 24,
   "metadata": {
    "colab": {},
    "colab_type": "code",
    "id": "wF7UjbSAa1W2"
   },
   "outputs": [
    {
     "name": "stdout",
     "output_type": "stream",
     "text": [
      "95% confidence interval (2499741.0 , 5201309.5)\n"
     ]
    }
   ],
   "source": [
    "import scipy.stats as st\n",
    "import numpy as np\n",
    "LB=df_sample.mean()-st.t.ppf(0.975,df_sample.shape[0]-1)*df_sample.std()/np.sqrt(df_sample.shape[0])\n",
    "UB=df_sample.mean()+st.t.ppf(0.975,df_sample.shape[0]-1)*df_sample.std()/np.sqrt(df_sample.shape[0])\n",
    "print('95%'+' confidence interval (%.1f , %.1f)' % (LB, UB))"
   ]
  },
  {
   "cell_type": "markdown",
   "metadata": {
    "colab_type": "text",
    "id": "myidGZmLZmZQ"
   },
   "source": [
    "가설검정\n",
    "\n",
    "\n",
    "> H0 : mu=40 H1: mu!=40\n",
    "\n"
   ]
  },
  {
   "cell_type": "code",
   "execution_count": 25,
   "metadata": {
    "colab": {},
    "colab_type": "code",
    "id": "tnlBx61kZXf7"
   },
   "outputs": [
    {
     "data": {
      "text/plain": [
       "Ttest_1sampResult(statistic=5.728405264678308, pvalue=6.116830493746022e-07)"
      ]
     },
     "execution_count": 25,
     "metadata": {},
     "output_type": "execute_result"
    }
   ],
   "source": [
    "from scipy import stats\n",
    "stats.ttest_1samp(df_sample,40)"
   ]
  },
  {
   "cell_type": "code",
   "execution_count": null,
   "metadata": {},
   "outputs": [],
   "source": []
  }
 ],
 "metadata": {
  "colab": {
   "collapsed_sections": [],
   "name": "T아카데미1강20200109.ipynb",
   "private_outputs": true,
   "provenance": []
  },
  "kernelspec": {
   "display_name": "Python 3",
   "language": "python",
   "name": "python3"
  },
  "language_info": {
   "codemirror_mode": {
    "name": "ipython",
    "version": 3
   },
   "file_extension": ".py",
   "mimetype": "text/x-python",
   "name": "python",
   "nbconvert_exporter": "python",
   "pygments_lexer": "ipython3",
   "version": "3.7.6"
  }
 },
 "nbformat": 4,
 "nbformat_minor": 1
}
